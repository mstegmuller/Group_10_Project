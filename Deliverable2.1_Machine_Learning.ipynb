{
 "cells": [
  {
   "cell_type": "code",
   "execution_count": 1,
   "id": "7502c022",
   "metadata": {},
   "outputs": [],
   "source": [
    "# Import our dependencies\n",
    "import pandas as pd\n",
    "import sqlalchemy\n",
    "import psycopg2\n",
    "#from config import db_password\n",
    "from sqlalchemy import create_engine\n",
    "from sklearn.model_selection import train_test_split\n",
    "from sklearn.preprocessing import StandardScaler,OneHotEncoder\n",
    "\n",
    "import tensorflow as tf"
   ]
  },
  {
   "cell_type": "code",
   "execution_count": 2,
   "id": "8c614d91",
   "metadata": {},
   "outputs": [
    {
     "data": {
      "text/html": [
       "<div>\n",
       "<style scoped>\n",
       "    .dataframe tbody tr th:only-of-type {\n",
       "        vertical-align: middle;\n",
       "    }\n",
       "\n",
       "    .dataframe tbody tr th {\n",
       "        vertical-align: top;\n",
       "    }\n",
       "\n",
       "    .dataframe thead th {\n",
       "        text-align: right;\n",
       "    }\n",
       "</style>\n",
       "<table border=\"1\" class=\"dataframe\">\n",
       "  <thead>\n",
       "    <tr style=\"text-align: right;\">\n",
       "      <th></th>\n",
       "      <th>YEAR</th>\n",
       "      <th>BOROUGH</th>\n",
       "      <th>NEIGHBORHOOD</th>\n",
       "      <th>BUILDING_CLASS_CATEGORY</th>\n",
       "      <th>BUILDING_CLASS_AT_PRESENT</th>\n",
       "      <th>ADDRESS</th>\n",
       "      <th>TOTAL_UNITS</th>\n",
       "      <th>GROSS_SQ_FT</th>\n",
       "      <th>SALE_PRICE</th>\n",
       "    </tr>\n",
       "  </thead>\n",
       "  <tbody>\n",
       "    <tr>\n",
       "      <th>0</th>\n",
       "      <td>2020</td>\n",
       "      <td>2</td>\n",
       "      <td>BATHGATE</td>\n",
       "      <td>01 ONE FAMILY DWELLINGS</td>\n",
       "      <td>A5</td>\n",
       "      <td>418 EAST 180 STREET</td>\n",
       "      <td>1.0</td>\n",
       "      <td>1526.0</td>\n",
       "      <td>0</td>\n",
       "    </tr>\n",
       "    <tr>\n",
       "      <th>1</th>\n",
       "      <td>2020</td>\n",
       "      <td>2</td>\n",
       "      <td>BATHGATE</td>\n",
       "      <td>01 ONE FAMILY DWELLINGS</td>\n",
       "      <td>A1</td>\n",
       "      <td>4455 PARK AVENUE</td>\n",
       "      <td>1.0</td>\n",
       "      <td>1587.0</td>\n",
       "      <td>458000</td>\n",
       "    </tr>\n",
       "    <tr>\n",
       "      <th>2</th>\n",
       "      <td>2020</td>\n",
       "      <td>2</td>\n",
       "      <td>BATHGATE</td>\n",
       "      <td>01 ONE FAMILY DWELLINGS</td>\n",
       "      <td>A1</td>\n",
       "      <td>4451 PARK AVENUE</td>\n",
       "      <td>1.0</td>\n",
       "      <td>1495.0</td>\n",
       "      <td>275000</td>\n",
       "    </tr>\n",
       "    <tr>\n",
       "      <th>3</th>\n",
       "      <td>2020</td>\n",
       "      <td>2</td>\n",
       "      <td>BATHGATE</td>\n",
       "      <td>01 ONE FAMILY DWELLINGS</td>\n",
       "      <td>A1</td>\n",
       "      <td>4451 PARK AVENUE</td>\n",
       "      <td>1.0</td>\n",
       "      <td>1495.0</td>\n",
       "      <td>475000</td>\n",
       "    </tr>\n",
       "    <tr>\n",
       "      <th>4</th>\n",
       "      <td>2020</td>\n",
       "      <td>2</td>\n",
       "      <td>BATHGATE</td>\n",
       "      <td>01 ONE FAMILY DWELLINGS</td>\n",
       "      <td>A9</td>\n",
       "      <td>2327 WASHINGTON AVE</td>\n",
       "      <td>1.0</td>\n",
       "      <td>1260.0</td>\n",
       "      <td>165000</td>\n",
       "    </tr>\n",
       "  </tbody>\n",
       "</table>\n",
       "</div>"
      ],
      "text/plain": [
       "   YEAR  BOROUGH NEIGHBORHOOD  BUILDING_CLASS_CATEGORY  \\\n",
       "0  2020        2     BATHGATE  01 ONE FAMILY DWELLINGS   \n",
       "1  2020        2     BATHGATE  01 ONE FAMILY DWELLINGS   \n",
       "2  2020        2     BATHGATE  01 ONE FAMILY DWELLINGS   \n",
       "3  2020        2     BATHGATE  01 ONE FAMILY DWELLINGS   \n",
       "4  2020        2     BATHGATE  01 ONE FAMILY DWELLINGS   \n",
       "\n",
       "  BUILDING_CLASS_AT_PRESENT              ADDRESS  TOTAL_UNITS  GROSS_SQ_FT  \\\n",
       "0                        A5  418 EAST 180 STREET          1.0       1526.0   \n",
       "1                        A1     4455 PARK AVENUE          1.0       1587.0   \n",
       "2                        A1     4451 PARK AVENUE          1.0       1495.0   \n",
       "3                        A1     4451 PARK AVENUE          1.0       1495.0   \n",
       "4                        A9  2327 WASHINGTON AVE          1.0       1260.0   \n",
       "\n",
       "   SALE_PRICE  \n",
       "0           0  \n",
       "1      458000  \n",
       "2      275000  \n",
       "3      475000  \n",
       "4      165000  "
      ]
     },
     "execution_count": 2,
     "metadata": {},
     "output_type": "execute_result"
    }
   ],
   "source": [
    "# Read Bronx Sales Prices\n",
    "file_path1 = \"Resources/bronx_annual_sales20.csv\"\n",
    "bronx_df = pd.read_csv(file_path1)\n",
    "bronx_df = bronx_df.dropna()\n",
    "bronx_df.head()"
   ]
  },
  {
   "cell_type": "code",
   "execution_count": 3,
   "id": "711b2893",
   "metadata": {},
   "outputs": [
    {
     "data": {
      "text/html": [
       "<div>\n",
       "<style scoped>\n",
       "    .dataframe tbody tr th:only-of-type {\n",
       "        vertical-align: middle;\n",
       "    }\n",
       "\n",
       "    .dataframe tbody tr th {\n",
       "        vertical-align: top;\n",
       "    }\n",
       "\n",
       "    .dataframe thead th {\n",
       "        text-align: right;\n",
       "    }\n",
       "</style>\n",
       "<table border=\"1\" class=\"dataframe\">\n",
       "  <thead>\n",
       "    <tr style=\"text-align: right;\">\n",
       "      <th></th>\n",
       "      <th>YEAR</th>\n",
       "      <th>BOROUGH</th>\n",
       "      <th>NEIGHBORHOOD</th>\n",
       "      <th>BUILDING_CLASS_CATEGORY</th>\n",
       "      <th>BUILDING_CLASS_AT_PRESENT</th>\n",
       "      <th>ADDRESS</th>\n",
       "      <th>TOTAL_UNITS</th>\n",
       "      <th>GROSS_SQ_FT</th>\n",
       "      <th>SALE_PRICE</th>\n",
       "    </tr>\n",
       "  </thead>\n",
       "  <tbody>\n",
       "    <tr>\n",
       "      <th>0</th>\n",
       "      <td>2020</td>\n",
       "      <td>3</td>\n",
       "      <td>BATH BEACH</td>\n",
       "      <td>01 ONE FAMILY DWELLINGS</td>\n",
       "      <td>S1</td>\n",
       "      <td>8684 15TH AVENUE</td>\n",
       "      <td>2.0</td>\n",
       "      <td>4080.0</td>\n",
       "      <td>1300000</td>\n",
       "    </tr>\n",
       "    <tr>\n",
       "      <th>1</th>\n",
       "      <td>2020</td>\n",
       "      <td>3</td>\n",
       "      <td>BATH BEACH</td>\n",
       "      <td>01 ONE FAMILY DWELLINGS</td>\n",
       "      <td>A5</td>\n",
       "      <td>14 BAY 10TH STREET</td>\n",
       "      <td>1.0</td>\n",
       "      <td>1428.0</td>\n",
       "      <td>849000</td>\n",
       "    </tr>\n",
       "    <tr>\n",
       "      <th>2</th>\n",
       "      <td>2020</td>\n",
       "      <td>3</td>\n",
       "      <td>BATH BEACH</td>\n",
       "      <td>01 ONE FAMILY DWELLINGS</td>\n",
       "      <td>A5</td>\n",
       "      <td>30 BAY 10TH STREET</td>\n",
       "      <td>1.0</td>\n",
       "      <td>1428.0</td>\n",
       "      <td>75000</td>\n",
       "    </tr>\n",
       "    <tr>\n",
       "      <th>3</th>\n",
       "      <td>2020</td>\n",
       "      <td>3</td>\n",
       "      <td>BATH BEACH</td>\n",
       "      <td>01 ONE FAMILY DWELLINGS</td>\n",
       "      <td>A9</td>\n",
       "      <td>43 BAY 11TH STREET</td>\n",
       "      <td>1.0</td>\n",
       "      <td>1052.0</td>\n",
       "      <td>0</td>\n",
       "    </tr>\n",
       "    <tr>\n",
       "      <th>4</th>\n",
       "      <td>2020</td>\n",
       "      <td>3</td>\n",
       "      <td>BATH BEACH</td>\n",
       "      <td>01 ONE FAMILY DWELLINGS</td>\n",
       "      <td>A9</td>\n",
       "      <td>8645 BAY 16TH STREET</td>\n",
       "      <td>1.0</td>\n",
       "      <td>1456.0</td>\n",
       "      <td>830000</td>\n",
       "    </tr>\n",
       "  </tbody>\n",
       "</table>\n",
       "</div>"
      ],
      "text/plain": [
       "   YEAR  BOROUGH NEIGHBORHOOD  BUILDING_CLASS_CATEGORY  \\\n",
       "0  2020        3   BATH BEACH  01 ONE FAMILY DWELLINGS   \n",
       "1  2020        3   BATH BEACH  01 ONE FAMILY DWELLINGS   \n",
       "2  2020        3   BATH BEACH  01 ONE FAMILY DWELLINGS   \n",
       "3  2020        3   BATH BEACH  01 ONE FAMILY DWELLINGS   \n",
       "4  2020        3   BATH BEACH  01 ONE FAMILY DWELLINGS   \n",
       "\n",
       "  BUILDING_CLASS_AT_PRESENT               ADDRESS  TOTAL_UNITS  GROSS_SQ_FT  \\\n",
       "0                        S1      8684 15TH AVENUE          2.0       4080.0   \n",
       "1                        A5    14 BAY 10TH STREET          1.0       1428.0   \n",
       "2                        A5    30 BAY 10TH STREET          1.0       1428.0   \n",
       "3                        A9    43 BAY 11TH STREET          1.0       1052.0   \n",
       "4                        A9  8645 BAY 16TH STREET          1.0       1456.0   \n",
       "\n",
       "   SALE_PRICE  \n",
       "0     1300000  \n",
       "1      849000  \n",
       "2       75000  \n",
       "3           0  \n",
       "4      830000  "
      ]
     },
     "execution_count": 3,
     "metadata": {},
     "output_type": "execute_result"
    }
   ],
   "source": [
    "# Read Brooklyn sales prices \n",
    "file_path2 = \"Resources/brooklyn_annual_sales20.csv\"\n",
    "brooklyn_df = pd.read_csv(file_path2)\n",
    "brooklyn_df = brooklyn_df.dropna()\n",
    "brooklyn_df.head()"
   ]
  },
  {
   "cell_type": "code",
   "execution_count": 4,
   "id": "c5e0eecb",
   "metadata": {},
   "outputs": [
    {
     "data": {
      "text/html": [
       "<div>\n",
       "<style scoped>\n",
       "    .dataframe tbody tr th:only-of-type {\n",
       "        vertical-align: middle;\n",
       "    }\n",
       "\n",
       "    .dataframe tbody tr th {\n",
       "        vertical-align: top;\n",
       "    }\n",
       "\n",
       "    .dataframe thead th {\n",
       "        text-align: right;\n",
       "    }\n",
       "</style>\n",
       "<table border=\"1\" class=\"dataframe\">\n",
       "  <thead>\n",
       "    <tr style=\"text-align: right;\">\n",
       "      <th></th>\n",
       "      <th>YEAR</th>\n",
       "      <th>BOROUGH</th>\n",
       "      <th>NEIGHBORHOOD</th>\n",
       "      <th>BUILDING_CLASS_CATEGORY</th>\n",
       "      <th>BUILDING_CLASS_AT_PRESENT</th>\n",
       "      <th>ADDRESS</th>\n",
       "      <th>TOTAL_UNITS</th>\n",
       "      <th>GROSS_SQ_FT</th>\n",
       "      <th>SALE_PRICE</th>\n",
       "    </tr>\n",
       "  </thead>\n",
       "  <tbody>\n",
       "    <tr>\n",
       "      <th>0</th>\n",
       "      <td>2020</td>\n",
       "      <td>1</td>\n",
       "      <td>ALPHABET CITY</td>\n",
       "      <td>32 HOSPITAL AND HEALTH FACILITIES</td>\n",
       "      <td>I5</td>\n",
       "      <td>538-542 EAST 13TH STREET</td>\n",
       "      <td>1</td>\n",
       "      <td>6681</td>\n",
       "      <td>0</td>\n",
       "    </tr>\n",
       "    <tr>\n",
       "      <th>1</th>\n",
       "      <td>2020</td>\n",
       "      <td>1</td>\n",
       "      <td>ALPHABET CITY</td>\n",
       "      <td>37 RELIGIOUS FACILITIES</td>\n",
       "      <td>M1</td>\n",
       "      <td>345 EAST 4TH STREET</td>\n",
       "      <td>1</td>\n",
       "      <td>3496</td>\n",
       "      <td>0</td>\n",
       "    </tr>\n",
       "    <tr>\n",
       "      <th>2</th>\n",
       "      <td>2020</td>\n",
       "      <td>1</td>\n",
       "      <td>ALPHABET CITY</td>\n",
       "      <td>47 CONDO NON-BUSINESS STORAGE</td>\n",
       "      <td>RS</td>\n",
       "      <td>229 EAST 2ND STREET, STOR</td>\n",
       "      <td>1</td>\n",
       "      <td>0</td>\n",
       "      <td>1900000</td>\n",
       "    </tr>\n",
       "    <tr>\n",
       "      <th>3</th>\n",
       "      <td>2020</td>\n",
       "      <td>1</td>\n",
       "      <td>ALPHABET CITY</td>\n",
       "      <td>47 CONDO NON-BUSINESS STORAGE</td>\n",
       "      <td>RS</td>\n",
       "      <td>229 EAST 2ND STREET, STOR</td>\n",
       "      <td>1</td>\n",
       "      <td>0</td>\n",
       "      <td>1630000</td>\n",
       "    </tr>\n",
       "    <tr>\n",
       "      <th>4</th>\n",
       "      <td>2020</td>\n",
       "      <td>1</td>\n",
       "      <td>ALPHABET CITY</td>\n",
       "      <td>47 CONDO NON-BUSINESS STORAGE</td>\n",
       "      <td>RS</td>\n",
       "      <td>631 EAST 9TH STREET, S1</td>\n",
       "      <td>1</td>\n",
       "      <td>0</td>\n",
       "      <td>1350000</td>\n",
       "    </tr>\n",
       "  </tbody>\n",
       "</table>\n",
       "</div>"
      ],
      "text/plain": [
       "   YEAR  BOROUGH   NEIGHBORHOOD            BUILDING_CLASS_CATEGORY  \\\n",
       "0  2020        1  ALPHABET CITY  32 HOSPITAL AND HEALTH FACILITIES   \n",
       "1  2020        1  ALPHABET CITY            37 RELIGIOUS FACILITIES   \n",
       "2  2020        1  ALPHABET CITY      47 CONDO NON-BUSINESS STORAGE   \n",
       "3  2020        1  ALPHABET CITY      47 CONDO NON-BUSINESS STORAGE   \n",
       "4  2020        1  ALPHABET CITY      47 CONDO NON-BUSINESS STORAGE   \n",
       "\n",
       "  BUILDING_CLASS_AT_PRESENT                    ADDRESS  TOTAL_UNITS  \\\n",
       "0                        I5   538-542 EAST 13TH STREET            1   \n",
       "1                        M1        345 EAST 4TH STREET            1   \n",
       "2                        RS  229 EAST 2ND STREET, STOR            1   \n",
       "3                        RS  229 EAST 2ND STREET, STOR            1   \n",
       "4                        RS    631 EAST 9TH STREET, S1            1   \n",
       "\n",
       "   GROSS_SQ_FT  SALE_PRICE  \n",
       "0         6681           0  \n",
       "1         3496           0  \n",
       "2            0     1900000  \n",
       "3            0     1630000  \n",
       "4            0     1350000  "
      ]
     },
     "execution_count": 4,
     "metadata": {},
     "output_type": "execute_result"
    }
   ],
   "source": [
    "# Read Manhattan sales prices\n",
    "file_path3 = \"Resources/manhattan_annual_sales20.csv\"\n",
    "manhattan_df = pd.read_csv(file_path3)\n",
    "manhattan_df = manhattan_df.dropna()\n",
    "manhattan_df.head()"
   ]
  },
  {
   "cell_type": "code",
   "execution_count": 5,
   "id": "e82d076e",
   "metadata": {},
   "outputs": [
    {
     "data": {
      "text/html": [
       "<div>\n",
       "<style scoped>\n",
       "    .dataframe tbody tr th:only-of-type {\n",
       "        vertical-align: middle;\n",
       "    }\n",
       "\n",
       "    .dataframe tbody tr th {\n",
       "        vertical-align: top;\n",
       "    }\n",
       "\n",
       "    .dataframe thead th {\n",
       "        text-align: right;\n",
       "    }\n",
       "</style>\n",
       "<table border=\"1\" class=\"dataframe\">\n",
       "  <thead>\n",
       "    <tr style=\"text-align: right;\">\n",
       "      <th></th>\n",
       "      <th>YEAR</th>\n",
       "      <th>BOROUGH</th>\n",
       "      <th>NEIGHBORHOOD</th>\n",
       "      <th>BUILDING_CLASS_CATEGORY</th>\n",
       "      <th>BUILDING_CLASS_AT_PRESENT</th>\n",
       "      <th>ADDRESS</th>\n",
       "      <th>TOTAL_UNITS</th>\n",
       "      <th>GROSS_SQ_FT</th>\n",
       "      <th>SALE_PRICE</th>\n",
       "    </tr>\n",
       "  </thead>\n",
       "  <tbody>\n",
       "    <tr>\n",
       "      <th>0</th>\n",
       "      <td>2020</td>\n",
       "      <td>4</td>\n",
       "      <td>AIRPORT JFK</td>\n",
       "      <td>39 TRANSPORTATION FACILITIES</td>\n",
       "      <td>V7</td>\n",
       "      <td>N/A ROCKAWAY BLVD</td>\n",
       "      <td>0.0</td>\n",
       "      <td>0.0</td>\n",
       "      <td>4121000</td>\n",
       "    </tr>\n",
       "    <tr>\n",
       "      <th>1</th>\n",
       "      <td>2020</td>\n",
       "      <td>4</td>\n",
       "      <td>AIRPORT LA GUARDIA</td>\n",
       "      <td>01 ONE FAMILY DWELLINGS</td>\n",
       "      <td>A5</td>\n",
       "      <td>19-62 81ST STREET</td>\n",
       "      <td>1.0</td>\n",
       "      <td>1224.0</td>\n",
       "      <td>584569</td>\n",
       "    </tr>\n",
       "    <tr>\n",
       "      <th>2</th>\n",
       "      <td>2020</td>\n",
       "      <td>4</td>\n",
       "      <td>AIRPORT LA GUARDIA</td>\n",
       "      <td>12 CONDOS - WALKUP APARTMENTS</td>\n",
       "      <td>R2</td>\n",
       "      <td>19-37 80TH STREET, 1</td>\n",
       "      <td>1.0</td>\n",
       "      <td>0.0</td>\n",
       "      <td>420000</td>\n",
       "    </tr>\n",
       "    <tr>\n",
       "      <th>3</th>\n",
       "      <td>2020</td>\n",
       "      <td>4</td>\n",
       "      <td>ARVERNE</td>\n",
       "      <td>01 ONE FAMILY DWELLINGS</td>\n",
       "      <td>A5</td>\n",
       "      <td>3-20 BEACH 41 STREET</td>\n",
       "      <td>1.0</td>\n",
       "      <td>1476.0</td>\n",
       "      <td>300000</td>\n",
       "    </tr>\n",
       "    <tr>\n",
       "      <th>4</th>\n",
       "      <td>2020</td>\n",
       "      <td>4</td>\n",
       "      <td>ARVERNE</td>\n",
       "      <td>01 ONE FAMILY DWELLINGS</td>\n",
       "      <td>A5</td>\n",
       "      <td>336 BEACH 41ST STREET</td>\n",
       "      <td>1.0</td>\n",
       "      <td>1350.0</td>\n",
       "      <td>360000</td>\n",
       "    </tr>\n",
       "  </tbody>\n",
       "</table>\n",
       "</div>"
      ],
      "text/plain": [
       "   YEAR  BOROUGH        NEIGHBORHOOD        BUILDING_CLASS_CATEGORY  \\\n",
       "0  2020        4         AIRPORT JFK   39 TRANSPORTATION FACILITIES   \n",
       "1  2020        4  AIRPORT LA GUARDIA        01 ONE FAMILY DWELLINGS   \n",
       "2  2020        4  AIRPORT LA GUARDIA  12 CONDOS - WALKUP APARTMENTS   \n",
       "3  2020        4             ARVERNE        01 ONE FAMILY DWELLINGS   \n",
       "4  2020        4             ARVERNE        01 ONE FAMILY DWELLINGS   \n",
       "\n",
       "  BUILDING_CLASS_AT_PRESENT                ADDRESS  TOTAL_UNITS  GROSS_SQ_FT  \\\n",
       "0                        V7      N/A ROCKAWAY BLVD          0.0          0.0   \n",
       "1                        A5      19-62 81ST STREET          1.0       1224.0   \n",
       "2                        R2   19-37 80TH STREET, 1          1.0          0.0   \n",
       "3                        A5   3-20 BEACH 41 STREET          1.0       1476.0   \n",
       "4                        A5  336 BEACH 41ST STREET          1.0       1350.0   \n",
       "\n",
       "   SALE_PRICE  \n",
       "0     4121000  \n",
       "1      584569  \n",
       "2      420000  \n",
       "3      300000  \n",
       "4      360000  "
      ]
     },
     "execution_count": 5,
     "metadata": {},
     "output_type": "execute_result"
    }
   ],
   "source": [
    "# Read Queens sales prices\n",
    "file_path4 = \"Resources/queens_annual_sales20.csv\"\n",
    "queens_df = pd.read_csv(file_path4)\n",
    "queens_df = queens_df.dropna()\n",
    "queens_df.head()"
   ]
  },
  {
   "cell_type": "code",
   "execution_count": 6,
   "id": "a22e12c6",
   "metadata": {},
   "outputs": [
    {
     "data": {
      "text/html": [
       "<div>\n",
       "<style scoped>\n",
       "    .dataframe tbody tr th:only-of-type {\n",
       "        vertical-align: middle;\n",
       "    }\n",
       "\n",
       "    .dataframe tbody tr th {\n",
       "        vertical-align: top;\n",
       "    }\n",
       "\n",
       "    .dataframe thead th {\n",
       "        text-align: right;\n",
       "    }\n",
       "</style>\n",
       "<table border=\"1\" class=\"dataframe\">\n",
       "  <thead>\n",
       "    <tr style=\"text-align: right;\">\n",
       "      <th></th>\n",
       "      <th>YEAR</th>\n",
       "      <th>BOROUGH</th>\n",
       "      <th>NEIGHBORHOOD</th>\n",
       "      <th>BUILDING_CLASS_CATEGORY</th>\n",
       "      <th>BUILDING_CLASS_AT_PRESENT</th>\n",
       "      <th>ADDRESS</th>\n",
       "      <th>TOTAL_UNITS</th>\n",
       "      <th>GROSS_SQ_FT</th>\n",
       "      <th>SALE_PRICE</th>\n",
       "    </tr>\n",
       "  </thead>\n",
       "  <tbody>\n",
       "    <tr>\n",
       "      <th>0</th>\n",
       "      <td>2020</td>\n",
       "      <td>5</td>\n",
       "      <td>ANNADALE</td>\n",
       "      <td>01 ONE FAMILY DWELLINGS</td>\n",
       "      <td>A5</td>\n",
       "      <td>4726 AMBOY ROAD</td>\n",
       "      <td>1.0</td>\n",
       "      <td>910.0</td>\n",
       "      <td>0</td>\n",
       "    </tr>\n",
       "    <tr>\n",
       "      <th>1</th>\n",
       "      <td>2020</td>\n",
       "      <td>5</td>\n",
       "      <td>ANNADALE</td>\n",
       "      <td>01 ONE FAMILY DWELLINGS</td>\n",
       "      <td>A1</td>\n",
       "      <td>119 LENZIE STREET</td>\n",
       "      <td>1.0</td>\n",
       "      <td>3660.0</td>\n",
       "      <td>315000</td>\n",
       "    </tr>\n",
       "    <tr>\n",
       "      <th>2</th>\n",
       "      <td>2020</td>\n",
       "      <td>5</td>\n",
       "      <td>ANNADALE</td>\n",
       "      <td>01 ONE FAMILY DWELLINGS</td>\n",
       "      <td>A1</td>\n",
       "      <td>118 ELMBANK STREET</td>\n",
       "      <td>1.0</td>\n",
       "      <td>2580.0</td>\n",
       "      <td>450000</td>\n",
       "    </tr>\n",
       "    <tr>\n",
       "      <th>3</th>\n",
       "      <td>2020</td>\n",
       "      <td>5</td>\n",
       "      <td>ANNADALE</td>\n",
       "      <td>01 ONE FAMILY DWELLINGS</td>\n",
       "      <td>A1</td>\n",
       "      <td>7 SANDGAP STREET</td>\n",
       "      <td>1.0</td>\n",
       "      <td>1222.0</td>\n",
       "      <td>525000</td>\n",
       "    </tr>\n",
       "    <tr>\n",
       "      <th>4</th>\n",
       "      <td>2020</td>\n",
       "      <td>5</td>\n",
       "      <td>ANNADALE</td>\n",
       "      <td>01 ONE FAMILY DWELLINGS</td>\n",
       "      <td>A5</td>\n",
       "      <td>91 EAGAN AVENUE</td>\n",
       "      <td>1.0</td>\n",
       "      <td>1854.0</td>\n",
       "      <td>480000</td>\n",
       "    </tr>\n",
       "  </tbody>\n",
       "</table>\n",
       "</div>"
      ],
      "text/plain": [
       "   YEAR  BOROUGH NEIGHBORHOOD  BUILDING_CLASS_CATEGORY  \\\n",
       "0  2020        5     ANNADALE  01 ONE FAMILY DWELLINGS   \n",
       "1  2020        5     ANNADALE  01 ONE FAMILY DWELLINGS   \n",
       "2  2020        5     ANNADALE  01 ONE FAMILY DWELLINGS   \n",
       "3  2020        5     ANNADALE  01 ONE FAMILY DWELLINGS   \n",
       "4  2020        5     ANNADALE  01 ONE FAMILY DWELLINGS   \n",
       "\n",
       "  BUILDING_CLASS_AT_PRESENT             ADDRESS  TOTAL_UNITS  GROSS_SQ_FT  \\\n",
       "0                        A5     4726 AMBOY ROAD          1.0        910.0   \n",
       "1                        A1   119 LENZIE STREET          1.0       3660.0   \n",
       "2                        A1  118 ELMBANK STREET          1.0       2580.0   \n",
       "3                        A1    7 SANDGAP STREET          1.0       1222.0   \n",
       "4                        A5     91 EAGAN AVENUE          1.0       1854.0   \n",
       "\n",
       "   SALE_PRICE  \n",
       "0           0  \n",
       "1      315000  \n",
       "2      450000  \n",
       "3      525000  \n",
       "4      480000  "
      ]
     },
     "execution_count": 6,
     "metadata": {},
     "output_type": "execute_result"
    }
   ],
   "source": [
    "# Read Staten Island sales prices\n",
    "file_path5 = \"Resources/staten_island_annual_sales20.csv\"\n",
    "staten_island_df = pd.read_csv(file_path5)\n",
    "staten_island_df = staten_island_df.dropna()\n",
    "staten_island_df.head()"
   ]
  },
  {
   "cell_type": "code",
   "execution_count": 7,
   "id": "c5610f08",
   "metadata": {},
   "outputs": [
    {
     "data": {
      "text/html": [
       "<div>\n",
       "<style scoped>\n",
       "    .dataframe tbody tr th:only-of-type {\n",
       "        vertical-align: middle;\n",
       "    }\n",
       "\n",
       "    .dataframe tbody tr th {\n",
       "        vertical-align: top;\n",
       "    }\n",
       "\n",
       "    .dataframe thead th {\n",
       "        text-align: right;\n",
       "    }\n",
       "</style>\n",
       "<table border=\"1\" class=\"dataframe\">\n",
       "  <thead>\n",
       "    <tr style=\"text-align: right;\">\n",
       "      <th></th>\n",
       "      <th>YEAR</th>\n",
       "      <th>BOROUGH</th>\n",
       "      <th>BUILDING CLASS CATEGORY</th>\n",
       "      <th>NUMBER OF SALES</th>\n",
       "      <th>MINIMUM SALE PRICE</th>\n",
       "      <th>AVERAGE SALE PRICE</th>\n",
       "      <th>MEDIAN SALE PRICE</th>\n",
       "      <th>MAXIMUM SALE PRICE</th>\n",
       "    </tr>\n",
       "  </thead>\n",
       "  <tbody>\n",
       "    <tr>\n",
       "      <th>0</th>\n",
       "      <td>2019</td>\n",
       "      <td>Manhattan</td>\n",
       "      <td>01 ONE FAMILY DWELLINGS</td>\n",
       "      <td>101</td>\n",
       "      <td>375,000</td>\n",
       "      <td>9,256,384</td>\n",
       "      <td>7,200,000</td>\n",
       "      <td>77,100,000</td>\n",
       "    </tr>\n",
       "    <tr>\n",
       "      <th>1</th>\n",
       "      <td>2019</td>\n",
       "      <td>Manhattan</td>\n",
       "      <td>02 TWO FAMILY DWELLINGS</td>\n",
       "      <td>74</td>\n",
       "      <td>425,000</td>\n",
       "      <td>5,454,151</td>\n",
       "      <td>3,925,000</td>\n",
       "      <td>25,500,000</td>\n",
       "    </tr>\n",
       "    <tr>\n",
       "      <th>2</th>\n",
       "      <td>2019</td>\n",
       "      <td>Manhattan</td>\n",
       "      <td>03 THREE FAMILY DWELLINGS</td>\n",
       "      <td>42</td>\n",
       "      <td>531,527</td>\n",
       "      <td>4,400,861</td>\n",
       "      <td>2,375,000</td>\n",
       "      <td>24,000,000</td>\n",
       "    </tr>\n",
       "    <tr>\n",
       "      <th>3</th>\n",
       "      <td>2019</td>\n",
       "      <td>Bronx</td>\n",
       "      <td>01 ONE FAMILY DWELLINGS</td>\n",
       "      <td>1,019</td>\n",
       "      <td>200,000</td>\n",
       "      <td>548,758</td>\n",
       "      <td>485,000</td>\n",
       "      <td>5,000,000</td>\n",
       "    </tr>\n",
       "    <tr>\n",
       "      <th>4</th>\n",
       "      <td>2019</td>\n",
       "      <td>Bronx</td>\n",
       "      <td>02 TWO FAMILY DWELLINGS</td>\n",
       "      <td>1,364</td>\n",
       "      <td>200,000</td>\n",
       "      <td>596,455</td>\n",
       "      <td>600,000</td>\n",
       "      <td>2,400,000</td>\n",
       "    </tr>\n",
       "  </tbody>\n",
       "</table>\n",
       "</div>"
      ],
      "text/plain": [
       "   YEAR    BOROUGH    BUILDING CLASS CATEGORY  NUMBER OF SALES   \\\n",
       "0  2019  Manhattan    01 ONE FAMILY DWELLINGS               101   \n",
       "1  2019  Manhattan    02 TWO FAMILY DWELLINGS                74   \n",
       "2  2019  Manhattan  03 THREE FAMILY DWELLINGS                42   \n",
       "3  2019      Bronx    01 ONE FAMILY DWELLINGS             1,019   \n",
       "4  2019      Bronx    02 TWO FAMILY DWELLINGS             1,364   \n",
       "\n",
       "   MINIMUM SALE PRICE   AVERAGE SALE PRICE   MEDIAN SALE PRICE   \\\n",
       "0              375,000            9,256,384           7,200,000   \n",
       "1              425,000            5,454,151           3,925,000   \n",
       "2              531,527            4,400,861           2,375,000   \n",
       "3              200,000              548,758             485,000   \n",
       "4              200,000              596,455             600,000   \n",
       "\n",
       "   MAXIMUM SALE PRICE   \n",
       "0           77,100,000  \n",
       "1           25,500,000  \n",
       "2           24,000,000  \n",
       "3            5,000,000  \n",
       "4            2,400,000  "
      ]
     },
     "execution_count": 7,
     "metadata": {},
     "output_type": "execute_result"
    }
   ],
   "source": [
    "# Read Annualized city sales 2019\n",
    "file_path6 = \"Resources/annualized_citywide_sale19.csv\"\n",
    "annualized_citywide_sale19_df = pd.read_csv(file_path6)\n",
    "annualized_citywide_sale19_df = annualized_citywide_sale19_df.dropna()\n",
    "annualized_citywide_sale19_df.head()"
   ]
  },
  {
   "cell_type": "code",
   "execution_count": 8,
   "id": "a3911efe",
   "metadata": {},
   "outputs": [
    {
     "data": {
      "text/html": [
       "<div>\n",
       "<style scoped>\n",
       "    .dataframe tbody tr th:only-of-type {\n",
       "        vertical-align: middle;\n",
       "    }\n",
       "\n",
       "    .dataframe tbody tr th {\n",
       "        vertical-align: top;\n",
       "    }\n",
       "\n",
       "    .dataframe thead th {\n",
       "        text-align: right;\n",
       "    }\n",
       "</style>\n",
       "<table border=\"1\" class=\"dataframe\">\n",
       "  <thead>\n",
       "    <tr style=\"text-align: right;\">\n",
       "      <th></th>\n",
       "      <th>YEAR</th>\n",
       "      <th>BOROUGH</th>\n",
       "      <th>BUILDING CLASS CATEGORY</th>\n",
       "      <th>NUMBER OF SALES</th>\n",
       "      <th>MINIMUM SALE PRICE</th>\n",
       "      <th>AVERAGE SALE PRICE</th>\n",
       "      <th>MEDIAN SALE PRICE</th>\n",
       "      <th>MAXIMUM SALE PRICE</th>\n",
       "    </tr>\n",
       "  </thead>\n",
       "  <tbody>\n",
       "    <tr>\n",
       "      <th>0</th>\n",
       "      <td>2020</td>\n",
       "      <td>MANHATTAN</td>\n",
       "      <td>01 ONE FAMILY DWELLINGS</td>\n",
       "      <td>71</td>\n",
       "      <td>1,250,000</td>\n",
       "      <td>10,068,400</td>\n",
       "      <td>8,300,000</td>\n",
       "      <td>38,000,000</td>\n",
       "    </tr>\n",
       "    <tr>\n",
       "      <th>1</th>\n",
       "      <td>2020</td>\n",
       "      <td>MANHATTAN</td>\n",
       "      <td>02 TWO FAMILY DWELLINGS</td>\n",
       "      <td>54</td>\n",
       "      <td>642,000</td>\n",
       "      <td>5,899,924</td>\n",
       "      <td>4,225,000</td>\n",
       "      <td>31,000,000</td>\n",
       "    </tr>\n",
       "    <tr>\n",
       "      <th>2</th>\n",
       "      <td>2020</td>\n",
       "      <td>MANHATTAN</td>\n",
       "      <td>03 THREE FAMILY DWELLINGS</td>\n",
       "      <td>21</td>\n",
       "      <td>319,393</td>\n",
       "      <td>3,511,994</td>\n",
       "      <td>2,650,000</td>\n",
       "      <td>8,405,000</td>\n",
       "    </tr>\n",
       "    <tr>\n",
       "      <th>3</th>\n",
       "      <td>2020</td>\n",
       "      <td>BRONX</td>\n",
       "      <td>01 ONE FAMILY DWELLINGS</td>\n",
       "      <td>821</td>\n",
       "      <td>200,000</td>\n",
       "      <td>563,110</td>\n",
       "      <td>520,000</td>\n",
       "      <td>4,325,000</td>\n",
       "    </tr>\n",
       "    <tr>\n",
       "      <th>4</th>\n",
       "      <td>2020</td>\n",
       "      <td>BRONX</td>\n",
       "      <td>02 TWO FAMILY DWELLINGS</td>\n",
       "      <td>1,015</td>\n",
       "      <td>200,000</td>\n",
       "      <td>852,118</td>\n",
       "      <td>653,500</td>\n",
       "      <td>87,400,000</td>\n",
       "    </tr>\n",
       "  </tbody>\n",
       "</table>\n",
       "</div>"
      ],
      "text/plain": [
       "   YEAR    BOROUGH    BUILDING CLASS CATEGORY  NUMBER OF SALES   \\\n",
       "0  2020  MANHATTAN    01 ONE FAMILY DWELLINGS                71   \n",
       "1  2020  MANHATTAN    02 TWO FAMILY DWELLINGS                54   \n",
       "2  2020  MANHATTAN  03 THREE FAMILY DWELLINGS                21   \n",
       "3  2020      BRONX    01 ONE FAMILY DWELLINGS               821   \n",
       "4  2020      BRONX    02 TWO FAMILY DWELLINGS             1,015   \n",
       "\n",
       "   MINIMUM SALE PRICE   AVERAGE SALE PRICE   MEDIAN SALE PRICE   \\\n",
       "0            1,250,000           10,068,400           8,300,000   \n",
       "1              642,000            5,899,924           4,225,000   \n",
       "2              319,393            3,511,994           2,650,000   \n",
       "3              200,000              563,110             520,000   \n",
       "4              200,000              852,118             653,500   \n",
       "\n",
       "   MAXIMUM SALE PRICE   \n",
       "0           38,000,000  \n",
       "1           31,000,000  \n",
       "2            8,405,000  \n",
       "3            4,325,000  \n",
       "4           87,400,000  "
      ]
     },
     "execution_count": 8,
     "metadata": {},
     "output_type": "execute_result"
    }
   ],
   "source": [
    "# Read Annualized city sales 2020\n",
    "file_path7 = \"Resources/annualized_citywide_sale20.csv\"\n",
    "annualized_citywide_sale20_df = pd.read_csv(file_path7)\n",
    "annualized_citywide_sale20_df.dropna(axis=0, how='all',inplace=True)\n",
    "annualized_citywide_sale20_df = annualized_citywide_sale20_df.dropna(axis='columns')\n",
    "annualized_citywide_sale20_df.head()"
   ]
  },
  {
   "cell_type": "code",
   "execution_count": 9,
   "id": "162a5c89",
   "metadata": {},
   "outputs": [
    {
     "data": {
      "text/html": [
       "<div>\n",
       "<style scoped>\n",
       "    .dataframe tbody tr th:only-of-type {\n",
       "        vertical-align: middle;\n",
       "    }\n",
       "\n",
       "    .dataframe tbody tr th {\n",
       "        vertical-align: top;\n",
       "    }\n",
       "\n",
       "    .dataframe thead th {\n",
       "        text-align: right;\n",
       "    }\n",
       "</style>\n",
       "<table border=\"1\" class=\"dataframe\">\n",
       "  <thead>\n",
       "    <tr style=\"text-align: right;\">\n",
       "      <th></th>\n",
       "      <th>year</th>\n",
       "      <th>amount</th>\n",
       "      <th>inflation rate</th>\n",
       "    </tr>\n",
       "  </thead>\n",
       "  <tbody>\n",
       "    <tr>\n",
       "      <th>0</th>\n",
       "      <td>1701</td>\n",
       "      <td>1.00</td>\n",
       "      <td>0.05</td>\n",
       "    </tr>\n",
       "    <tr>\n",
       "      <th>1</th>\n",
       "      <td>1702</td>\n",
       "      <td>0.91</td>\n",
       "      <td>-0.09</td>\n",
       "    </tr>\n",
       "    <tr>\n",
       "      <th>2</th>\n",
       "      <td>1703</td>\n",
       "      <td>0.91</td>\n",
       "      <td>0.00</td>\n",
       "    </tr>\n",
       "    <tr>\n",
       "      <th>3</th>\n",
       "      <td>1704</td>\n",
       "      <td>1.07</td>\n",
       "      <td>0.18</td>\n",
       "    </tr>\n",
       "    <tr>\n",
       "      <th>4</th>\n",
       "      <td>1705</td>\n",
       "      <td>0.98</td>\n",
       "      <td>-0.09</td>\n",
       "    </tr>\n",
       "  </tbody>\n",
       "</table>\n",
       "</div>"
      ],
      "text/plain": [
       "   year  amount  inflation rate\n",
       "0  1701    1.00            0.05\n",
       "1  1702    0.91           -0.09\n",
       "2  1703    0.91            0.00\n",
       "3  1704    1.07            0.18\n",
       "4  1705    0.98           -0.09"
      ]
     },
     "execution_count": 9,
     "metadata": {},
     "output_type": "execute_result"
    }
   ],
   "source": [
    "# Read Annualized city sales 2019\n",
    "file_path8 = \"Resources/inflation_data_1701to2022.csv\"\n",
    "inflation_data_1701to2022_df = pd.read_csv(file_path8)\n",
    "inflation_data_1701to2022_df = inflation_data_1701to2022_df.dropna()\n",
    "inflation_data_1701to2022_df.head()"
   ]
  },
  {
   "cell_type": "markdown",
   "id": "92985242",
   "metadata": {},
   "source": [
    "# Machine Learning\n",
    "Linear Regression Model"
   ]
  },
  {
   "cell_type": "code",
   "execution_count": 10,
   "id": "5de1b677",
   "metadata": {},
   "outputs": [],
   "source": [
    "import pandas as pd\n",
    "from pathlib import Path\n",
    "import matplotlib.pyplot as plt\n",
    "from sklearn.linear_model import LinearRegression\n",
    "import numpy as np"
   ]
  },
  {
   "cell_type": "code",
   "execution_count": 11,
   "id": "8e52094f",
   "metadata": {},
   "outputs": [
    {
     "data": {
      "text/html": [
       "<div>\n",
       "<style scoped>\n",
       "    .dataframe tbody tr th:only-of-type {\n",
       "        vertical-align: middle;\n",
       "    }\n",
       "\n",
       "    .dataframe tbody tr th {\n",
       "        vertical-align: top;\n",
       "    }\n",
       "\n",
       "    .dataframe thead th {\n",
       "        text-align: right;\n",
       "    }\n",
       "</style>\n",
       "<table border=\"1\" class=\"dataframe\">\n",
       "  <thead>\n",
       "    <tr style=\"text-align: right;\">\n",
       "      <th></th>\n",
       "      <th>YEAR</th>\n",
       "      <th>BOROUGH</th>\n",
       "      <th>NEIGHBORHOOD</th>\n",
       "      <th>BUILDING_CLASS_CATEGORY</th>\n",
       "      <th>BUILDING_CLASS_AT_PRESENT</th>\n",
       "      <th>ADDRESS</th>\n",
       "      <th>TOTAL_UNITS</th>\n",
       "      <th>GROSS_SQ_FT</th>\n",
       "      <th>SALE_PRICE</th>\n",
       "    </tr>\n",
       "  </thead>\n",
       "  <tbody>\n",
       "    <tr>\n",
       "      <th>0</th>\n",
       "      <td>2020</td>\n",
       "      <td>2</td>\n",
       "      <td>BATHGATE</td>\n",
       "      <td>01 ONE FAMILY DWELLINGS</td>\n",
       "      <td>A5</td>\n",
       "      <td>418 EAST 180 STREET</td>\n",
       "      <td>1.0</td>\n",
       "      <td>1526.0</td>\n",
       "      <td>0</td>\n",
       "    </tr>\n",
       "    <tr>\n",
       "      <th>1</th>\n",
       "      <td>2020</td>\n",
       "      <td>2</td>\n",
       "      <td>BATHGATE</td>\n",
       "      <td>01 ONE FAMILY DWELLINGS</td>\n",
       "      <td>A1</td>\n",
       "      <td>4455 PARK AVENUE</td>\n",
       "      <td>1.0</td>\n",
       "      <td>1587.0</td>\n",
       "      <td>458000</td>\n",
       "    </tr>\n",
       "    <tr>\n",
       "      <th>2</th>\n",
       "      <td>2020</td>\n",
       "      <td>2</td>\n",
       "      <td>BATHGATE</td>\n",
       "      <td>01 ONE FAMILY DWELLINGS</td>\n",
       "      <td>A1</td>\n",
       "      <td>4451 PARK AVENUE</td>\n",
       "      <td>1.0</td>\n",
       "      <td>1495.0</td>\n",
       "      <td>275000</td>\n",
       "    </tr>\n",
       "    <tr>\n",
       "      <th>3</th>\n",
       "      <td>2020</td>\n",
       "      <td>2</td>\n",
       "      <td>BATHGATE</td>\n",
       "      <td>01 ONE FAMILY DWELLINGS</td>\n",
       "      <td>A1</td>\n",
       "      <td>4451 PARK AVENUE</td>\n",
       "      <td>1.0</td>\n",
       "      <td>1495.0</td>\n",
       "      <td>475000</td>\n",
       "    </tr>\n",
       "    <tr>\n",
       "      <th>4</th>\n",
       "      <td>2020</td>\n",
       "      <td>2</td>\n",
       "      <td>BATHGATE</td>\n",
       "      <td>01 ONE FAMILY DWELLINGS</td>\n",
       "      <td>A9</td>\n",
       "      <td>2327 WASHINGTON AVE</td>\n",
       "      <td>1.0</td>\n",
       "      <td>1260.0</td>\n",
       "      <td>165000</td>\n",
       "    </tr>\n",
       "  </tbody>\n",
       "</table>\n",
       "</div>"
      ],
      "text/plain": [
       "   YEAR  BOROUGH NEIGHBORHOOD  BUILDING_CLASS_CATEGORY  \\\n",
       "0  2020        2     BATHGATE  01 ONE FAMILY DWELLINGS   \n",
       "1  2020        2     BATHGATE  01 ONE FAMILY DWELLINGS   \n",
       "2  2020        2     BATHGATE  01 ONE FAMILY DWELLINGS   \n",
       "3  2020        2     BATHGATE  01 ONE FAMILY DWELLINGS   \n",
       "4  2020        2     BATHGATE  01 ONE FAMILY DWELLINGS   \n",
       "\n",
       "  BUILDING_CLASS_AT_PRESENT              ADDRESS  TOTAL_UNITS  GROSS_SQ_FT  \\\n",
       "0                        A5  418 EAST 180 STREET          1.0       1526.0   \n",
       "1                        A1     4455 PARK AVENUE          1.0       1587.0   \n",
       "2                        A1     4451 PARK AVENUE          1.0       1495.0   \n",
       "3                        A1     4451 PARK AVENUE          1.0       1495.0   \n",
       "4                        A9  2327 WASHINGTON AVE          1.0       1260.0   \n",
       "\n",
       "   SALE_PRICE  \n",
       "0           0  \n",
       "1      458000  \n",
       "2      275000  \n",
       "3      475000  \n",
       "4      165000  "
      ]
     },
     "execution_count": 11,
     "metadata": {},
     "output_type": "execute_result"
    }
   ],
   "source": [
    "df = pd.read_csv(Path('Resources/bronx_annual_sales20.csv'))\n",
    "df.head()"
   ]
  },
  {
   "cell_type": "code",
   "execution_count": 12,
   "id": "dae95537",
   "metadata": {},
   "outputs": [
    {
     "data": {
      "image/png": "[encoded data removed]",
      "text/plain": [
       "<Figure size 432x288 with 1 Axes>"
      ]
     },
     "metadata": {
      "needs_background": "light"
     },
     "output_type": "display_data"
    }
   ],
   "source": [
    "plt.scatter(df.GROSS_SQ_FT, df.SALE_PRICE)\n",
    "plt.xlabel('Square ft')\n",
    "plt.ylabel('Sale Price')\n",
    "plt.show()"
   ]
  },
  {
   "cell_type": "code",
   "execution_count": 13,
   "id": "4e5eaf7a",
   "metadata": {},
   "outputs": [
    {
     "data": {
      "text/html": [
       "<div>\n",
       "<style scoped>\n",
       "    .dataframe tbody tr th:only-of-type {\n",
       "        vertical-align: middle;\n",
       "    }\n",
       "\n",
       "    .dataframe tbody tr th {\n",
       "        vertical-align: top;\n",
       "    }\n",
       "\n",
       "    .dataframe thead th {\n",
       "        text-align: right;\n",
       "    }\n",
       "</style>\n",
       "<table border=\"1\" class=\"dataframe\">\n",
       "  <thead>\n",
       "    <tr style=\"text-align: right;\">\n",
       "      <th></th>\n",
       "      <th>YEAR</th>\n",
       "      <th>BOROUGH</th>\n",
       "      <th>NEIGHBORHOOD</th>\n",
       "      <th>BUILDING_CLASS_CATEGORY</th>\n",
       "      <th>BUILDING_CLASS_AT_PRESENT</th>\n",
       "      <th>ADDRESS</th>\n",
       "      <th>TOTAL_UNITS</th>\n",
       "      <th>GROSS_SQ_FT</th>\n",
       "      <th>SALE_PRICE</th>\n",
       "    </tr>\n",
       "  </thead>\n",
       "  <tbody>\n",
       "    <tr>\n",
       "      <th>0</th>\n",
       "      <td>2020</td>\n",
       "      <td>3</td>\n",
       "      <td>BATH BEACH</td>\n",
       "      <td>01 ONE FAMILY DWELLINGS</td>\n",
       "      <td>S1</td>\n",
       "      <td>8684 15TH AVENUE</td>\n",
       "      <td>2.0</td>\n",
       "      <td>4080.0</td>\n",
       "      <td>1300000</td>\n",
       "    </tr>\n",
       "    <tr>\n",
       "      <th>1</th>\n",
       "      <td>2020</td>\n",
       "      <td>3</td>\n",
       "      <td>BATH BEACH</td>\n",
       "      <td>01 ONE FAMILY DWELLINGS</td>\n",
       "      <td>A5</td>\n",
       "      <td>14 BAY 10TH STREET</td>\n",
       "      <td>1.0</td>\n",
       "      <td>1428.0</td>\n",
       "      <td>849000</td>\n",
       "    </tr>\n",
       "    <tr>\n",
       "      <th>2</th>\n",
       "      <td>2020</td>\n",
       "      <td>3</td>\n",
       "      <td>BATH BEACH</td>\n",
       "      <td>01 ONE FAMILY DWELLINGS</td>\n",
       "      <td>A5</td>\n",
       "      <td>30 BAY 10TH STREET</td>\n",
       "      <td>1.0</td>\n",
       "      <td>1428.0</td>\n",
       "      <td>75000</td>\n",
       "    </tr>\n",
       "    <tr>\n",
       "      <th>3</th>\n",
       "      <td>2020</td>\n",
       "      <td>3</td>\n",
       "      <td>BATH BEACH</td>\n",
       "      <td>01 ONE FAMILY DWELLINGS</td>\n",
       "      <td>A9</td>\n",
       "      <td>43 BAY 11TH STREET</td>\n",
       "      <td>1.0</td>\n",
       "      <td>1052.0</td>\n",
       "      <td>0</td>\n",
       "    </tr>\n",
       "    <tr>\n",
       "      <th>4</th>\n",
       "      <td>2020</td>\n",
       "      <td>3</td>\n",
       "      <td>BATH BEACH</td>\n",
       "      <td>01 ONE FAMILY DWELLINGS</td>\n",
       "      <td>A9</td>\n",
       "      <td>8645 BAY 16TH STREET</td>\n",
       "      <td>1.0</td>\n",
       "      <td>1456.0</td>\n",
       "      <td>830000</td>\n",
       "    </tr>\n",
       "  </tbody>\n",
       "</table>\n",
       "</div>"
      ],
      "text/plain": [
       "   YEAR  BOROUGH NEIGHBORHOOD  BUILDING_CLASS_CATEGORY  \\\n",
       "0  2020        3   BATH BEACH  01 ONE FAMILY DWELLINGS   \n",
       "1  2020        3   BATH BEACH  01 ONE FAMILY DWELLINGS   \n",
       "2  2020        3   BATH BEACH  01 ONE FAMILY DWELLINGS   \n",
       "3  2020        3   BATH BEACH  01 ONE FAMILY DWELLINGS   \n",
       "4  2020        3   BATH BEACH  01 ONE FAMILY DWELLINGS   \n",
       "\n",
       "  BUILDING_CLASS_AT_PRESENT               ADDRESS  TOTAL_UNITS  GROSS_SQ_FT  \\\n",
       "0                        S1      8684 15TH AVENUE          2.0       4080.0   \n",
       "1                        A5    14 BAY 10TH STREET          1.0       1428.0   \n",
       "2                        A5    30 BAY 10TH STREET          1.0       1428.0   \n",
       "3                        A9    43 BAY 11TH STREET          1.0       1052.0   \n",
       "4                        A9  8645 BAY 16TH STREET          1.0       1456.0   \n",
       "\n",
       "   SALE_PRICE  \n",
       "0     1300000  \n",
       "1      849000  \n",
       "2       75000  \n",
       "3           0  \n",
       "4      830000  "
      ]
     },
     "execution_count": 13,
     "metadata": {},
     "output_type": "execute_result"
    }
   ],
   "source": [
    "df2 = pd.read_csv(Path('Resources/brooklyn_annual_sales20.csv'))\n",
    "df2.head()"
   ]
  },
  {
   "cell_type": "code",
   "execution_count": 14,
   "id": "98a6c127",
   "metadata": {},
   "outputs": [
    {
     "data": {
      "image/png": "[encoded data removed]",
      "text/plain": [
       "<Figure size 432x288 with 1 Axes>"
      ]
     },
     "metadata": {
      "needs_background": "light"
     },
     "output_type": "display_data"
    }
   ],
   "source": [
    "plt.scatter(df2.GROSS_SQ_FT, df2.SALE_PRICE)\n",
    "plt.xlabel('Square ft')\n",
    "plt.ylabel('Sale Price')\n",
    "plt.show()"
   ]
  },
  {
   "cell_type": "code",
   "execution_count": 15,
   "id": "eacdfda0",
   "metadata": {},
   "outputs": [
    {
     "data": {
      "text/html": [
       "<div>\n",
       "<style scoped>\n",
       "    .dataframe tbody tr th:only-of-type {\n",
       "        vertical-align: middle;\n",
       "    }\n",
       "\n",
       "    .dataframe tbody tr th {\n",
       "        vertical-align: top;\n",
       "    }\n",
       "\n",
       "    .dataframe thead th {\n",
       "        text-align: right;\n",
       "    }\n",
       "</style>\n",
       "<table border=\"1\" class=\"dataframe\">\n",
       "  <thead>\n",
       "    <tr style=\"text-align: right;\">\n",
       "      <th></th>\n",
       "      <th>YEAR</th>\n",
       "      <th>BOROUGH</th>\n",
       "      <th>NEIGHBORHOOD</th>\n",
       "      <th>BUILDING_CLASS_CATEGORY</th>\n",
       "      <th>BUILDING_CLASS_AT_PRESENT</th>\n",
       "      <th>ADDRESS</th>\n",
       "      <th>TOTAL_UNITS</th>\n",
       "      <th>GROSS_SQ_FT</th>\n",
       "      <th>SALE_PRICE</th>\n",
       "    </tr>\n",
       "  </thead>\n",
       "  <tbody>\n",
       "    <tr>\n",
       "      <th>0</th>\n",
       "      <td>2020</td>\n",
       "      <td>1</td>\n",
       "      <td>ALPHABET CITY</td>\n",
       "      <td>32 HOSPITAL AND HEALTH FACILITIES</td>\n",
       "      <td>I5</td>\n",
       "      <td>538-542 EAST 13TH STREET</td>\n",
       "      <td>1</td>\n",
       "      <td>6681</td>\n",
       "      <td>0</td>\n",
       "    </tr>\n",
       "    <tr>\n",
       "      <th>1</th>\n",
       "      <td>2020</td>\n",
       "      <td>1</td>\n",
       "      <td>ALPHABET CITY</td>\n",
       "      <td>37 RELIGIOUS FACILITIES</td>\n",
       "      <td>M1</td>\n",
       "      <td>345 EAST 4TH STREET</td>\n",
       "      <td>1</td>\n",
       "      <td>3496</td>\n",
       "      <td>0</td>\n",
       "    </tr>\n",
       "    <tr>\n",
       "      <th>2</th>\n",
       "      <td>2020</td>\n",
       "      <td>1</td>\n",
       "      <td>ALPHABET CITY</td>\n",
       "      <td>47 CONDO NON-BUSINESS STORAGE</td>\n",
       "      <td>RS</td>\n",
       "      <td>229 EAST 2ND STREET, STOR</td>\n",
       "      <td>1</td>\n",
       "      <td>0</td>\n",
       "      <td>1900000</td>\n",
       "    </tr>\n",
       "    <tr>\n",
       "      <th>3</th>\n",
       "      <td>2020</td>\n",
       "      <td>1</td>\n",
       "      <td>ALPHABET CITY</td>\n",
       "      <td>47 CONDO NON-BUSINESS STORAGE</td>\n",
       "      <td>RS</td>\n",
       "      <td>229 EAST 2ND STREET, STOR</td>\n",
       "      <td>1</td>\n",
       "      <td>0</td>\n",
       "      <td>1630000</td>\n",
       "    </tr>\n",
       "    <tr>\n",
       "      <th>4</th>\n",
       "      <td>2020</td>\n",
       "      <td>1</td>\n",
       "      <td>ALPHABET CITY</td>\n",
       "      <td>47 CONDO NON-BUSINESS STORAGE</td>\n",
       "      <td>RS</td>\n",
       "      <td>631 EAST 9TH STREET, S1</td>\n",
       "      <td>1</td>\n",
       "      <td>0</td>\n",
       "      <td>1350000</td>\n",
       "    </tr>\n",
       "  </tbody>\n",
       "</table>\n",
       "</div>"
      ],
      "text/plain": [
       "   YEAR  BOROUGH   NEIGHBORHOOD            BUILDING_CLASS_CATEGORY  \\\n",
       "0  2020        1  ALPHABET CITY  32 HOSPITAL AND HEALTH FACILITIES   \n",
       "1  2020        1  ALPHABET CITY            37 RELIGIOUS FACILITIES   \n",
       "2  2020        1  ALPHABET CITY      47 CONDO NON-BUSINESS STORAGE   \n",
       "3  2020        1  ALPHABET CITY      47 CONDO NON-BUSINESS STORAGE   \n",
       "4  2020        1  ALPHABET CITY      47 CONDO NON-BUSINESS STORAGE   \n",
       "\n",
       "  BUILDING_CLASS_AT_PRESENT                    ADDRESS  TOTAL_UNITS  \\\n",
       "0                        I5   538-542 EAST 13TH STREET            1   \n",
       "1                        M1        345 EAST 4TH STREET            1   \n",
       "2                        RS  229 EAST 2ND STREET, STOR            1   \n",
       "3                        RS  229 EAST 2ND STREET, STOR            1   \n",
       "4                        RS    631 EAST 9TH STREET, S1            1   \n",
       "\n",
       "   GROSS_SQ_FT  SALE_PRICE  \n",
       "0         6681           0  \n",
       "1         3496           0  \n",
       "2            0     1900000  \n",
       "3            0     1630000  \n",
       "4            0     1350000  "
      ]
     },
     "execution_count": 15,
     "metadata": {},
     "output_type": "execute_result"
    }
   ],
   "source": [
    "df3 = pd.read_csv(Path('Resources/manhattan_annual_sales20.csv'))\n",
    "df3.head()"
   ]
  },
  {
   "cell_type": "code",
   "execution_count": 16,
   "id": "a618e1aa",
   "metadata": {},
   "outputs": [],
   "source": [
    "dfGross_SQ_Ft3= df3[[\"GROSS_SQ_FT\", \"SALE_PRICE\"]].copy()"
   ]
  },
  {
   "cell_type": "code",
   "execution_count": 17,
   "id": "0c9a19b3",
   "metadata": {},
   "outputs": [],
   "source": [
    "dfGross_SQ_Ft3.replace(0, np.nan, inplace=True)"
   ]
  },
  {
   "cell_type": "code",
   "execution_count": 18,
   "id": "ada4f1be",
   "metadata": {},
   "outputs": [],
   "source": [
    "dfGross_SQ_Ft3.dropna(inplace=True)"
   ]
  },
  {
   "cell_type": "code",
   "execution_count": 19,
   "id": "433247fa",
   "metadata": {},
   "outputs": [
    {
     "data": {
      "text/html": [
       "<div>\n",
       "<style scoped>\n",
       "    .dataframe tbody tr th:only-of-type {\n",
       "        vertical-align: middle;\n",
       "    }\n",
       "\n",
       "    .dataframe tbody tr th {\n",
       "        vertical-align: top;\n",
       "    }\n",
       "\n",
       "    .dataframe thead th {\n",
       "        text-align: right;\n",
       "    }\n",
       "</style>\n",
       "<table border=\"1\" class=\"dataframe\">\n",
       "  <thead>\n",
       "    <tr style=\"text-align: right;\">\n",
       "      <th></th>\n",
       "      <th>GROSS_SQ_FT</th>\n",
       "      <th>SALE_PRICE</th>\n",
       "    </tr>\n",
       "  </thead>\n",
       "  <tbody>\n",
       "    <tr>\n",
       "      <th>8</th>\n",
       "      <td>17940.0</td>\n",
       "      <td>12333333.0</td>\n",
       "    </tr>\n",
       "    <tr>\n",
       "      <th>9</th>\n",
       "      <td>8700.0</td>\n",
       "      <td>6166667.0</td>\n",
       "    </tr>\n",
       "    <tr>\n",
       "      <th>13</th>\n",
       "      <td>35600.0</td>\n",
       "      <td>3607000.0</td>\n",
       "    </tr>\n",
       "    <tr>\n",
       "      <th>14</th>\n",
       "      <td>35600.0</td>\n",
       "      <td>3625000.0</td>\n",
       "    </tr>\n",
       "    <tr>\n",
       "      <th>17</th>\n",
       "      <td>3630.0</td>\n",
       "      <td>9000000.0</td>\n",
       "    </tr>\n",
       "    <tr>\n",
       "      <th>...</th>\n",
       "      <td>...</td>\n",
       "      <td>...</td>\n",
       "    </tr>\n",
       "    <tr>\n",
       "      <th>7388</th>\n",
       "      <td>81339.0</td>\n",
       "      <td>37750000.0</td>\n",
       "    </tr>\n",
       "    <tr>\n",
       "      <th>7392</th>\n",
       "      <td>302399.0</td>\n",
       "      <td>93836434.0</td>\n",
       "    </tr>\n",
       "    <tr>\n",
       "      <th>7393</th>\n",
       "      <td>407555.0</td>\n",
       "      <td>380600000.0</td>\n",
       "    </tr>\n",
       "    <tr>\n",
       "      <th>7394</th>\n",
       "      <td>657592.0</td>\n",
       "      <td>423957600.0</td>\n",
       "    </tr>\n",
       "    <tr>\n",
       "      <th>7395</th>\n",
       "      <td>8942176.0</td>\n",
       "      <td>600000.0</td>\n",
       "    </tr>\n",
       "  </tbody>\n",
       "</table>\n",
       "<p>705 rows × 2 columns</p>\n",
       "</div>"
      ],
      "text/plain": [
       "      GROSS_SQ_FT   SALE_PRICE\n",
       "8         17940.0   12333333.0\n",
       "9          8700.0    6166667.0\n",
       "13        35600.0    3607000.0\n",
       "14        35600.0    3625000.0\n",
       "17         3630.0    9000000.0\n",
       "...           ...          ...\n",
       "7388      81339.0   37750000.0\n",
       "7392     302399.0   93836434.0\n",
       "7393     407555.0  380600000.0\n",
       "7394     657592.0  423957600.0\n",
       "7395    8942176.0     600000.0\n",
       "\n",
       "[705 rows x 2 columns]"
      ]
     },
     "execution_count": 19,
     "metadata": {},
     "output_type": "execute_result"
    }
   ],
   "source": [
    "dfGross_SQ_Ft3"
   ]
  },
  {
   "cell_type": "code",
   "execution_count": 20,
   "id": "2b1f0988",
   "metadata": {},
   "outputs": [
    {
     "data": {
      "image/png": "[encoded data removed]",
      "text/plain": [
       "<Figure size 432x288 with 1 Axes>"
      ]
     },
     "metadata": {
      "needs_background": "light"
     },
     "output_type": "display_data"
    }
   ],
   "source": [
    "plt.scatter(df3.GROSS_SQ_FT, df3.SALE_PRICE)\n",
    "plt.xlabel('Square ft')\n",
    "plt.ylabel('Sale Price')\n",
    "plt.show()"
   ]
  },
  {
   "cell_type": "code",
   "execution_count": 21,
   "id": "479e9501",
   "metadata": {},
   "outputs": [],
   "source": [
    "X = dfGross_SQ_Ft3.GROSS_SQ_FT.values.reshape(-1, 1)"
   ]
  },
  {
   "cell_type": "code",
   "execution_count": 22,
   "id": "4c3d8a72",
   "metadata": {},
   "outputs": [
    {
     "data": {
      "text/plain": [
       "array([[17940.],\n",
       "       [ 8700.],\n",
       "       [35600.],\n",
       "       [35600.],\n",
       "       [ 3630.]])"
      ]
     },
     "execution_count": 22,
     "metadata": {},
     "output_type": "execute_result"
    }
   ],
   "source": [
    "X[:5]"
   ]
  },
  {
   "cell_type": "code",
   "execution_count": 23,
   "id": "fb9d8466",
   "metadata": {},
   "outputs": [
    {
     "data": {
      "text/plain": [
       "(705, 1)"
      ]
     },
     "execution_count": 23,
     "metadata": {},
     "output_type": "execute_result"
    }
   ],
   "source": [
    "X.shape"
   ]
  },
  {
   "cell_type": "code",
   "execution_count": 24,
   "id": "274d55df",
   "metadata": {},
   "outputs": [],
   "source": [
    "y = dfGross_SQ_Ft3.SALE_PRICE"
   ]
  },
  {
   "cell_type": "code",
   "execution_count": 25,
   "id": "0cbad143",
   "metadata": {},
   "outputs": [],
   "source": [
    "model = LinearRegression()"
   ]
  },
  {
   "cell_type": "code",
   "execution_count": 26,
   "id": "d634ed3d",
   "metadata": {},
   "outputs": [
    {
     "data": {
      "text/plain": [
       "LinearRegression()"
      ]
     },
     "execution_count": 26,
     "metadata": {},
     "output_type": "execute_result"
    }
   ],
   "source": [
    "model.fit(X, y)"
   ]
  },
  {
   "cell_type": "code",
   "execution_count": 27,
   "id": "d488b84a",
   "metadata": {},
   "outputs": [
    {
     "name": "stdout",
     "output_type": "stream",
     "text": [
      "(705,)\n"
     ]
    }
   ],
   "source": [
    "y_pred = model.predict(X)\n",
    "print(y_pred.shape)"
   ]
  },
  {
   "cell_type": "code",
   "execution_count": 28,
   "id": "6340d04e",
   "metadata": {},
   "outputs": [
    {
     "data": {
      "image/png": "[encoded data removed]",
      "text/plain": [
       "<Figure size 432x288 with 1 Axes>"
      ]
     },
     "metadata": {
      "needs_background": "light"
     },
     "output_type": "display_data"
    }
   ],
   "source": [
    "plt.scatter(X, y)\n",
    "plt.plot(X, y_pred, color='red')\n",
    "plt.show()"
   ]
  },
  {
   "cell_type": "code",
   "execution_count": 29,
   "id": "dded290c",
   "metadata": {},
   "outputs": [
    {
     "data": {
      "text/html": [
       "<div>\n",
       "<style scoped>\n",
       "    .dataframe tbody tr th:only-of-type {\n",
       "        vertical-align: middle;\n",
       "    }\n",
       "\n",
       "    .dataframe tbody tr th {\n",
       "        vertical-align: top;\n",
       "    }\n",
       "\n",
       "    .dataframe thead th {\n",
       "        text-align: right;\n",
       "    }\n",
       "</style>\n",
       "<table border=\"1\" class=\"dataframe\">\n",
       "  <thead>\n",
       "    <tr style=\"text-align: right;\">\n",
       "      <th></th>\n",
       "      <th>YEAR</th>\n",
       "      <th>BOROUGH</th>\n",
       "      <th>NEIGHBORHOOD</th>\n",
       "      <th>BUILDING_CLASS_CATEGORY</th>\n",
       "      <th>BUILDING_CLASS_AT_PRESENT</th>\n",
       "      <th>ADDRESS</th>\n",
       "      <th>TOTAL_UNITS</th>\n",
       "      <th>GROSS_SQ_FT</th>\n",
       "      <th>SALE_PRICE</th>\n",
       "    </tr>\n",
       "  </thead>\n",
       "  <tbody>\n",
       "    <tr>\n",
       "      <th>0</th>\n",
       "      <td>2020</td>\n",
       "      <td>4</td>\n",
       "      <td>AIRPORT JFK</td>\n",
       "      <td>39 TRANSPORTATION FACILITIES</td>\n",
       "      <td>V7</td>\n",
       "      <td>N/A ROCKAWAY BLVD</td>\n",
       "      <td>0.0</td>\n",
       "      <td>0.0</td>\n",
       "      <td>4121000</td>\n",
       "    </tr>\n",
       "    <tr>\n",
       "      <th>1</th>\n",
       "      <td>2020</td>\n",
       "      <td>4</td>\n",
       "      <td>AIRPORT LA GUARDIA</td>\n",
       "      <td>01 ONE FAMILY DWELLINGS</td>\n",
       "      <td>A5</td>\n",
       "      <td>19-62 81ST STREET</td>\n",
       "      <td>1.0</td>\n",
       "      <td>1224.0</td>\n",
       "      <td>584569</td>\n",
       "    </tr>\n",
       "    <tr>\n",
       "      <th>2</th>\n",
       "      <td>2020</td>\n",
       "      <td>4</td>\n",
       "      <td>AIRPORT LA GUARDIA</td>\n",
       "      <td>12 CONDOS - WALKUP APARTMENTS</td>\n",
       "      <td>R2</td>\n",
       "      <td>19-37 80TH STREET, 1</td>\n",
       "      <td>1.0</td>\n",
       "      <td>0.0</td>\n",
       "      <td>420000</td>\n",
       "    </tr>\n",
       "    <tr>\n",
       "      <th>3</th>\n",
       "      <td>2020</td>\n",
       "      <td>4</td>\n",
       "      <td>ARVERNE</td>\n",
       "      <td>01 ONE FAMILY DWELLINGS</td>\n",
       "      <td>A5</td>\n",
       "      <td>3-20 BEACH 41 STREET</td>\n",
       "      <td>1.0</td>\n",
       "      <td>1476.0</td>\n",
       "      <td>300000</td>\n",
       "    </tr>\n",
       "    <tr>\n",
       "      <th>4</th>\n",
       "      <td>2020</td>\n",
       "      <td>4</td>\n",
       "      <td>ARVERNE</td>\n",
       "      <td>01 ONE FAMILY DWELLINGS</td>\n",
       "      <td>A5</td>\n",
       "      <td>336 BEACH 41ST STREET</td>\n",
       "      <td>1.0</td>\n",
       "      <td>1350.0</td>\n",
       "      <td>360000</td>\n",
       "    </tr>\n",
       "  </tbody>\n",
       "</table>\n",
       "</div>"
      ],
      "text/plain": [
       "   YEAR  BOROUGH        NEIGHBORHOOD        BUILDING_CLASS_CATEGORY  \\\n",
       "0  2020        4         AIRPORT JFK   39 TRANSPORTATION FACILITIES   \n",
       "1  2020        4  AIRPORT LA GUARDIA        01 ONE FAMILY DWELLINGS   \n",
       "2  2020        4  AIRPORT LA GUARDIA  12 CONDOS - WALKUP APARTMENTS   \n",
       "3  2020        4             ARVERNE        01 ONE FAMILY DWELLINGS   \n",
       "4  2020        4             ARVERNE        01 ONE FAMILY DWELLINGS   \n",
       "\n",
       "  BUILDING_CLASS_AT_PRESENT                ADDRESS  TOTAL_UNITS  GROSS_SQ_FT  \\\n",
       "0                        V7      N/A ROCKAWAY BLVD          0.0          0.0   \n",
       "1                        A5      19-62 81ST STREET          1.0       1224.0   \n",
       "2                        R2   19-37 80TH STREET, 1          1.0          0.0   \n",
       "3                        A5   3-20 BEACH 41 STREET          1.0       1476.0   \n",
       "4                        A5  336 BEACH 41ST STREET          1.0       1350.0   \n",
       "\n",
       "   SALE_PRICE  \n",
       "0     4121000  \n",
       "1      584569  \n",
       "2      420000  \n",
       "3      300000  \n",
       "4      360000  "
      ]
     },
     "execution_count": 29,
     "metadata": {},
     "output_type": "execute_result"
    }
   ],
   "source": [
    "df4 = pd.read_csv(Path('Resources/queens_annual_sales20.csv'))\n",
    "df4.head()"
   ]
  },
  {
   "cell_type": "code",
   "execution_count": 30,
   "id": "cc4e9fe4",
   "metadata": {},
   "outputs": [],
   "source": [
    "dfGross_SQ_Ft4= df4[[\"GROSS_SQ_FT\", \"SALE_PRICE\"]].copy()"
   ]
  },
  {
   "cell_type": "code",
   "execution_count": 31,
   "id": "4f93796e",
   "metadata": {},
   "outputs": [],
   "source": [
    "dfGross_SQ_Ft4.replace(0, np.nan, inplace=True)"
   ]
  },
  {
   "cell_type": "code",
   "execution_count": 32,
   "id": "d5762f9f",
   "metadata": {},
   "outputs": [],
   "source": [
    "dfGross_SQ_Ft4.dropna(inplace=True)"
   ]
  },
  {
   "cell_type": "code",
   "execution_count": 33,
   "id": "479cff7a",
   "metadata": {},
   "outputs": [
    {
     "data": {
      "text/html": [
       "<div>\n",
       "<style scoped>\n",
       "    .dataframe tbody tr th:only-of-type {\n",
       "        vertical-align: middle;\n",
       "    }\n",
       "\n",
       "    .dataframe tbody tr th {\n",
       "        vertical-align: top;\n",
       "    }\n",
       "\n",
       "    .dataframe thead th {\n",
       "        text-align: right;\n",
       "    }\n",
       "</style>\n",
       "<table border=\"1\" class=\"dataframe\">\n",
       "  <thead>\n",
       "    <tr style=\"text-align: right;\">\n",
       "      <th></th>\n",
       "      <th>GROSS_SQ_FT</th>\n",
       "      <th>SALE_PRICE</th>\n",
       "    </tr>\n",
       "  </thead>\n",
       "  <tbody>\n",
       "    <tr>\n",
       "      <th>1</th>\n",
       "      <td>1224.0</td>\n",
       "      <td>584569.0</td>\n",
       "    </tr>\n",
       "    <tr>\n",
       "      <th>3</th>\n",
       "      <td>1476.0</td>\n",
       "      <td>300000.0</td>\n",
       "    </tr>\n",
       "    <tr>\n",
       "      <th>4</th>\n",
       "      <td>1350.0</td>\n",
       "      <td>360000.0</td>\n",
       "    </tr>\n",
       "    <tr>\n",
       "      <th>5</th>\n",
       "      <td>1332.0</td>\n",
       "      <td>465000.0</td>\n",
       "    </tr>\n",
       "    <tr>\n",
       "      <th>6</th>\n",
       "      <td>1224.0</td>\n",
       "      <td>235000.0</td>\n",
       "    </tr>\n",
       "    <tr>\n",
       "      <th>...</th>\n",
       "      <td>...</td>\n",
       "      <td>...</td>\n",
       "    </tr>\n",
       "    <tr>\n",
       "      <th>21682</th>\n",
       "      <td>10000.0</td>\n",
       "      <td>3775000.0</td>\n",
       "    </tr>\n",
       "    <tr>\n",
       "      <th>21683</th>\n",
       "      <td>5144.0</td>\n",
       "      <td>4131000.0</td>\n",
       "    </tr>\n",
       "    <tr>\n",
       "      <th>21685</th>\n",
       "      <td>2025.0</td>\n",
       "      <td>1425000.0</td>\n",
       "    </tr>\n",
       "    <tr>\n",
       "      <th>21686</th>\n",
       "      <td>16800.0</td>\n",
       "      <td>6500000.0</td>\n",
       "    </tr>\n",
       "    <tr>\n",
       "      <th>21691</th>\n",
       "      <td>10000.0</td>\n",
       "      <td>1000000.0</td>\n",
       "    </tr>\n",
       "  </tbody>\n",
       "</table>\n",
       "<p>8282 rows × 2 columns</p>\n",
       "</div>"
      ],
      "text/plain": [
       "       GROSS_SQ_FT  SALE_PRICE\n",
       "1           1224.0    584569.0\n",
       "3           1476.0    300000.0\n",
       "4           1350.0    360000.0\n",
       "5           1332.0    465000.0\n",
       "6           1224.0    235000.0\n",
       "...            ...         ...\n",
       "21682      10000.0   3775000.0\n",
       "21683       5144.0   4131000.0\n",
       "21685       2025.0   1425000.0\n",
       "21686      16800.0   6500000.0\n",
       "21691      10000.0   1000000.0\n",
       "\n",
       "[8282 rows x 2 columns]"
      ]
     },
     "execution_count": 33,
     "metadata": {},
     "output_type": "execute_result"
    }
   ],
   "source": [
    "dfGross_SQ_Ft4"
   ]
  },
  {
   "cell_type": "code",
   "execution_count": 34,
   "id": "3d1c825e",
   "metadata": {},
   "outputs": [
    {
     "data": {
      "image/png": "[encoded data removed]",
      "text/plain": [
       "<Figure size 432x288 with 1 Axes>"
      ]
     },
     "metadata": {
      "needs_background": "light"
     },
     "output_type": "display_data"
    }
   ],
   "source": [
    "plt.scatter(df4.GROSS_SQ_FT, df4.SALE_PRICE)\n",
    "plt.xlabel('Square ft')\n",
    "plt.ylabel('Sale Price')\n",
    "plt.show()"
   ]
  },
  {
   "cell_type": "code",
   "execution_count": 35,
   "id": "22acb907",
   "metadata": {},
   "outputs": [],
   "source": [
    "X = dfGross_SQ_Ft4.GROSS_SQ_FT.values.reshape(-1, 1)"
   ]
  },
  {
   "cell_type": "code",
   "execution_count": 36,
   "id": "a7c081a1",
   "metadata": {},
   "outputs": [
    {
     "data": {
      "text/plain": [
       "array([[1224.],\n",
       "       [1476.],\n",
       "       [1350.],\n",
       "       [1332.],\n",
       "       [1224.]])"
      ]
     },
     "execution_count": 36,
     "metadata": {},
     "output_type": "execute_result"
    }
   ],
   "source": [
    "X[:5]"
   ]
  },
  {
   "cell_type": "code",
   "execution_count": 37,
   "id": "8a5aa063",
   "metadata": {},
   "outputs": [
    {
     "data": {
      "text/plain": [
       "(8282, 1)"
      ]
     },
     "execution_count": 37,
     "metadata": {},
     "output_type": "execute_result"
    }
   ],
   "source": [
    "X.shape"
   ]
  },
  {
   "cell_type": "code",
   "execution_count": 38,
   "id": "a6ba3ea8",
   "metadata": {},
   "outputs": [],
   "source": [
    "y = dfGross_SQ_Ft4.SALE_PRICE"
   ]
  },
  {
   "cell_type": "code",
   "execution_count": 39,
   "id": "ee290eca",
   "metadata": {},
   "outputs": [],
   "source": [
    "model = LinearRegression()"
   ]
  },
  {
   "cell_type": "code",
   "execution_count": 40,
   "id": "4c99bde9",
   "metadata": {},
   "outputs": [
    {
     "data": {
      "text/plain": [
       "LinearRegression()"
      ]
     },
     "execution_count": 40,
     "metadata": {},
     "output_type": "execute_result"
    }
   ],
   "source": [
    "model.fit(X, y)"
   ]
  },
  {
   "cell_type": "code",
   "execution_count": 41,
   "id": "8b07a238",
   "metadata": {},
   "outputs": [
    {
     "name": "stdout",
     "output_type": "stream",
     "text": [
      "(8282,)\n"
     ]
    }
   ],
   "source": [
    "y_pred = model.predict(X)\n",
    "print(y_pred.shape)"
   ]
  },
  {
   "cell_type": "code",
   "execution_count": 42,
   "id": "f62afd11",
   "metadata": {},
   "outputs": [
    {
     "data": {
      "image/png": "[encoded data removed]",
      "text/plain": [
       "<Figure size 432x288 with 1 Axes>"
      ]
     },
     "metadata": {
      "needs_background": "light"
     },
     "output_type": "display_data"
    }
   ],
   "source": [
    "plt.scatter(X, y)\n",
    "plt.plot(X, y_pred, color='red')\n",
    "plt.show()"
   ]
  },
  {
   "cell_type": "code",
   "execution_count": 43,
   "id": "624ad363",
   "metadata": {},
   "outputs": [
    {
     "data": {
      "text/html": [
       "<div>\n",
       "<style scoped>\n",
       "    .dataframe tbody tr th:only-of-type {\n",
       "        vertical-align: middle;\n",
       "    }\n",
       "\n",
       "    .dataframe tbody tr th {\n",
       "        vertical-align: top;\n",
       "    }\n",
       "\n",
       "    .dataframe thead th {\n",
       "        text-align: right;\n",
       "    }\n",
       "</style>\n",
       "<table border=\"1\" class=\"dataframe\">\n",
       "  <thead>\n",
       "    <tr style=\"text-align: right;\">\n",
       "      <th></th>\n",
       "      <th>YEAR</th>\n",
       "      <th>BOROUGH</th>\n",
       "      <th>NEIGHBORHOOD</th>\n",
       "      <th>BUILDING_CLASS_CATEGORY</th>\n",
       "      <th>BUILDING_CLASS_AT_PRESENT</th>\n",
       "      <th>ADDRESS</th>\n",
       "      <th>TOTAL_UNITS</th>\n",
       "      <th>GROSS_SQ_FT</th>\n",
       "      <th>SALE_PRICE</th>\n",
       "    </tr>\n",
       "  </thead>\n",
       "  <tbody>\n",
       "    <tr>\n",
       "      <th>0</th>\n",
       "      <td>2020</td>\n",
       "      <td>5</td>\n",
       "      <td>ANNADALE</td>\n",
       "      <td>01 ONE FAMILY DWELLINGS</td>\n",
       "      <td>A5</td>\n",
       "      <td>4726 AMBOY ROAD</td>\n",
       "      <td>1.0</td>\n",
       "      <td>910.0</td>\n",
       "      <td>0</td>\n",
       "    </tr>\n",
       "    <tr>\n",
       "      <th>1</th>\n",
       "      <td>2020</td>\n",
       "      <td>5</td>\n",
       "      <td>ANNADALE</td>\n",
       "      <td>01 ONE FAMILY DWELLINGS</td>\n",
       "      <td>A1</td>\n",
       "      <td>119 LENZIE STREET</td>\n",
       "      <td>1.0</td>\n",
       "      <td>3660.0</td>\n",
       "      <td>315000</td>\n",
       "    </tr>\n",
       "    <tr>\n",
       "      <th>2</th>\n",
       "      <td>2020</td>\n",
       "      <td>5</td>\n",
       "      <td>ANNADALE</td>\n",
       "      <td>01 ONE FAMILY DWELLINGS</td>\n",
       "      <td>A1</td>\n",
       "      <td>118 ELMBANK STREET</td>\n",
       "      <td>1.0</td>\n",
       "      <td>2580.0</td>\n",
       "      <td>450000</td>\n",
       "    </tr>\n",
       "    <tr>\n",
       "      <th>3</th>\n",
       "      <td>2020</td>\n",
       "      <td>5</td>\n",
       "      <td>ANNADALE</td>\n",
       "      <td>01 ONE FAMILY DWELLINGS</td>\n",
       "      <td>A1</td>\n",
       "      <td>7 SANDGAP STREET</td>\n",
       "      <td>1.0</td>\n",
       "      <td>1222.0</td>\n",
       "      <td>525000</td>\n",
       "    </tr>\n",
       "    <tr>\n",
       "      <th>4</th>\n",
       "      <td>2020</td>\n",
       "      <td>5</td>\n",
       "      <td>ANNADALE</td>\n",
       "      <td>01 ONE FAMILY DWELLINGS</td>\n",
       "      <td>A5</td>\n",
       "      <td>91 EAGAN AVENUE</td>\n",
       "      <td>1.0</td>\n",
       "      <td>1854.0</td>\n",
       "      <td>480000</td>\n",
       "    </tr>\n",
       "  </tbody>\n",
       "</table>\n",
       "</div>"
      ],
      "text/plain": [
       "   YEAR  BOROUGH NEIGHBORHOOD  BUILDING_CLASS_CATEGORY  \\\n",
       "0  2020        5     ANNADALE  01 ONE FAMILY DWELLINGS   \n",
       "1  2020        5     ANNADALE  01 ONE FAMILY DWELLINGS   \n",
       "2  2020        5     ANNADALE  01 ONE FAMILY DWELLINGS   \n",
       "3  2020        5     ANNADALE  01 ONE FAMILY DWELLINGS   \n",
       "4  2020        5     ANNADALE  01 ONE FAMILY DWELLINGS   \n",
       "\n",
       "  BUILDING_CLASS_AT_PRESENT             ADDRESS  TOTAL_UNITS  GROSS_SQ_FT  \\\n",
       "0                        A5     4726 AMBOY ROAD          1.0        910.0   \n",
       "1                        A1   119 LENZIE STREET          1.0       3660.0   \n",
       "2                        A1  118 ELMBANK STREET          1.0       2580.0   \n",
       "3                        A1    7 SANDGAP STREET          1.0       1222.0   \n",
       "4                        A5     91 EAGAN AVENUE          1.0       1854.0   \n",
       "\n",
       "   SALE_PRICE  \n",
       "0           0  \n",
       "1      315000  \n",
       "2      450000  \n",
       "3      525000  \n",
       "4      480000  "
      ]
     },
     "execution_count": 43,
     "metadata": {},
     "output_type": "execute_result"
    }
   ],
   "source": [
    "df5 = pd.read_csv(Path('Resources/staten_island_annual_sales20.csv'))\n",
    "df5.head()"
   ]
  },
  {
   "cell_type": "code",
   "execution_count": 44,
   "id": "6b7a9a17",
   "metadata": {},
   "outputs": [],
   "source": [
    "dfGross_SQ_Ft5= df5[[\"GROSS_SQ_FT\", \"SALE_PRICE\"]].copy()"
   ]
  },
  {
   "cell_type": "code",
   "execution_count": 45,
   "id": "920cbff6",
   "metadata": {},
   "outputs": [],
   "source": [
    "dfGross_SQ_Ft5.replace(0, np.nan, inplace=True)"
   ]
  },
  {
   "cell_type": "code",
   "execution_count": 46,
   "id": "497b6a3a",
   "metadata": {},
   "outputs": [],
   "source": [
    "dfGross_SQ_Ft5.dropna(inplace=True)"
   ]
  },
  {
   "cell_type": "code",
   "execution_count": 47,
   "id": "d53bd3d0",
   "metadata": {},
   "outputs": [
    {
     "data": {
      "text/html": [
       "<div>\n",
       "<style scoped>\n",
       "    .dataframe tbody tr th:only-of-type {\n",
       "        vertical-align: middle;\n",
       "    }\n",
       "\n",
       "    .dataframe tbody tr th {\n",
       "        vertical-align: top;\n",
       "    }\n",
       "\n",
       "    .dataframe thead th {\n",
       "        text-align: right;\n",
       "    }\n",
       "</style>\n",
       "<table border=\"1\" class=\"dataframe\">\n",
       "  <thead>\n",
       "    <tr style=\"text-align: right;\">\n",
       "      <th></th>\n",
       "      <th>GROSS_SQ_FT</th>\n",
       "      <th>SALE_PRICE</th>\n",
       "    </tr>\n",
       "  </thead>\n",
       "  <tbody>\n",
       "    <tr>\n",
       "      <th>1</th>\n",
       "      <td>3660.0</td>\n",
       "      <td>315000.0</td>\n",
       "    </tr>\n",
       "    <tr>\n",
       "      <th>2</th>\n",
       "      <td>2580.0</td>\n",
       "      <td>450000.0</td>\n",
       "    </tr>\n",
       "    <tr>\n",
       "      <th>3</th>\n",
       "      <td>1222.0</td>\n",
       "      <td>525000.0</td>\n",
       "    </tr>\n",
       "    <tr>\n",
       "      <th>4</th>\n",
       "      <td>1854.0</td>\n",
       "      <td>480000.0</td>\n",
       "    </tr>\n",
       "    <tr>\n",
       "      <th>5</th>\n",
       "      <td>2300.0</td>\n",
       "      <td>720000.0</td>\n",
       "    </tr>\n",
       "    <tr>\n",
       "      <th>...</th>\n",
       "      <td>...</td>\n",
       "      <td>...</td>\n",
       "    </tr>\n",
       "    <tr>\n",
       "      <th>7550</th>\n",
       "      <td>1850.0</td>\n",
       "      <td>665000.0</td>\n",
       "    </tr>\n",
       "    <tr>\n",
       "      <th>7552</th>\n",
       "      <td>2400.0</td>\n",
       "      <td>775000.0</td>\n",
       "    </tr>\n",
       "    <tr>\n",
       "      <th>7553</th>\n",
       "      <td>2250.0</td>\n",
       "      <td>500000.0</td>\n",
       "    </tr>\n",
       "    <tr>\n",
       "      <th>7554</th>\n",
       "      <td>1980.0</td>\n",
       "      <td>537000.0</td>\n",
       "    </tr>\n",
       "    <tr>\n",
       "      <th>7555</th>\n",
       "      <td>1980.0</td>\n",
       "      <td>525000.0</td>\n",
       "    </tr>\n",
       "  </tbody>\n",
       "</table>\n",
       "<p>4366 rows × 2 columns</p>\n",
       "</div>"
      ],
      "text/plain": [
       "      GROSS_SQ_FT  SALE_PRICE\n",
       "1          3660.0    315000.0\n",
       "2          2580.0    450000.0\n",
       "3          1222.0    525000.0\n",
       "4          1854.0    480000.0\n",
       "5          2300.0    720000.0\n",
       "...           ...         ...\n",
       "7550       1850.0    665000.0\n",
       "7552       2400.0    775000.0\n",
       "7553       2250.0    500000.0\n",
       "7554       1980.0    537000.0\n",
       "7555       1980.0    525000.0\n",
       "\n",
       "[4366 rows x 2 columns]"
      ]
     },
     "execution_count": 47,
     "metadata": {},
     "output_type": "execute_result"
    }
   ],
   "source": [
    "dfGross_SQ_Ft5"
   ]
  },
  {
   "cell_type": "code",
   "execution_count": 48,
   "id": "4b28d148",
   "metadata": {},
   "outputs": [
    {
     "data": {
      "image/png": "[encoded data removed]",
      "text/plain": [
       "<Figure size 432x288 with 1 Axes>"
      ]
     },
     "metadata": {
      "needs_background": "light"
     },
     "output_type": "display_data"
    }
   ],
   "source": [
    "plt.scatter(df5.GROSS_SQ_FT, df5.SALE_PRICE)\n",
    "plt.xlabel('Square ft')\n",
    "plt.ylabel('Sale Price')\n",
    "plt.show()"
   ]
  },
  {
   "cell_type": "code",
   "execution_count": 49,
   "id": "85cc7bc3",
   "metadata": {},
   "outputs": [],
   "source": [
    "X = dfGross_SQ_Ft5.GROSS_SQ_FT.values.reshape(-1, 1)"
   ]
  },
  {
   "cell_type": "code",
   "execution_count": 50,
   "id": "6ca1bd5f",
   "metadata": {},
   "outputs": [
    {
     "data": {
      "text/plain": [
       "array([[3660.],\n",
       "       [2580.],\n",
       "       [1222.],\n",
       "       [1854.],\n",
       "       [2300.]])"
      ]
     },
     "execution_count": 50,
     "metadata": {},
     "output_type": "execute_result"
    }
   ],
   "source": [
    "X[:5]"
   ]
  },
  {
   "cell_type": "code",
   "execution_count": 51,
   "id": "4822c964",
   "metadata": {},
   "outputs": [
    {
     "data": {
      "text/plain": [
       "(4366, 1)"
      ]
     },
     "execution_count": 51,
     "metadata": {},
     "output_type": "execute_result"
    }
   ],
   "source": [
    "X.shape"
   ]
  },
  {
   "cell_type": "code",
   "execution_count": 52,
   "id": "0299e54e",
   "metadata": {},
   "outputs": [],
   "source": [
    "y = dfGross_SQ_Ft5.SALE_PRICE"
   ]
  },
  {
   "cell_type": "code",
   "execution_count": 53,
   "id": "17357d7b",
   "metadata": {},
   "outputs": [],
   "source": [
    "model = LinearRegression()"
   ]
  },
  {
   "cell_type": "code",
   "execution_count": 54,
   "id": "0894513b",
   "metadata": {},
   "outputs": [
    {
     "data": {
      "text/plain": [
       "LinearRegression()"
      ]
     },
     "execution_count": 54,
     "metadata": {},
     "output_type": "execute_result"
    }
   ],
   "source": [
    "model.fit(X, y)"
   ]
  },
  {
   "cell_type": "code",
   "execution_count": 55,
   "id": "d7c6f895",
   "metadata": {},
   "outputs": [
    {
     "name": "stdout",
     "output_type": "stream",
     "text": [
      "(4366,)\n"
     ]
    }
   ],
   "source": [
    "y_pred = model.predict(X)\n",
    "print(y_pred.shape)"
   ]
  },
  {
   "cell_type": "code",
   "execution_count": 56,
   "id": "1436b18b",
   "metadata": {},
   "outputs": [
    {
     "data": {
      "image/png": "[encoded data removed]",
      "text/plain": [
       "<Figure size 432x288 with 1 Axes>"
      ]
     },
     "metadata": {
      "needs_background": "light"
     },
     "output_type": "display_data"
    }
   ],
   "source": [
    "plt.scatter(X, y)\n",
    "plt.plot(X, y_pred, color='red')\n",
    "plt.show()"
   ]
  },
  {
   "cell_type": "code",
   "execution_count": null,
   "id": "51b8fd75",
   "metadata": {},
   "outputs": [],
   "source": []
  }
 ],
 "metadata": {
  "kernelspec": {
   "display_name": "mlenv",
   "language": "python",
   "name": "mlenv"
  },
  "language_info": {
   "codemirror_mode": {
    "name": "ipython",
    "version": 3
   },
   "file_extension": ".py",
   "mimetype": "text/x-python",
   "name": "python",
   "nbconvert_exporter": "python",
   "pygments_lexer": "ipython3",
   "version": "3.10.2"
  }
 },
 "nbformat": 4,
 "nbformat_minor": 5
}
