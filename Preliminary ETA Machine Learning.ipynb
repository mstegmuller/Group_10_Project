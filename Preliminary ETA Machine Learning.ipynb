{
 "cells": [
  {
   "cell_type": "code",
   "execution_count": null,
   "id": "101264ee",
   "metadata": {},
   "outputs": [],
   "source": [
    "# Import our dependencies\n",
    "from sqlalchemy import create_engine\n",
    "from sklearn.model_selection import train_test_split\n",
    "from sklearn.preprocessing import StandardScaler,OneHotEncoder\n",
    "import pandas as pd\n",
    "import tensorflow as tf"
   ]
  },
  {
   "cell_type": "markdown",
   "id": "bee43bf5",
   "metadata": {},
   "source": [
    "## Import and Clean Data"
   ]
  },
  {
   "cell_type": "code",
   "execution_count": null,
   "id": "dd818cee",
   "metadata": {},
   "outputs": [],
   "source": [
    "# Data to use\n",
    "# Zillow_home_value_index.csv\n",
    "# Zillow_home_value_forecast.csv\n",
    "# Zillow_observed_rent_index.csv\n"
   ]
  },
  {
   "cell_type": "code",
   "execution_count": null,
   "id": "1021cc20",
   "metadata": {},
   "outputs": [],
   "source": [
    "# Read in home value csv \n",
    "# file_path1 = \"Resources/Zillow_home_value_index.csv\"\n",
    "# value_df = pd.read_csv(file_path1, index_col=0)"
   ]
  },
  {
   "cell_type": "code",
   "execution_count": null,
   "id": "94a6e074",
   "metadata": {},
   "outputs": [],
   "source": [
    "# Read in home value forecast csv \n",
    "# file_path2 = \"Resources/Zillow_home_value_forecast.csv\"\n",
    "# value_df = pd.read_csv(file_path2, index_col=0)"
   ]
  },
  {
   "cell_type": "code",
   "execution_count": null,
   "id": "322aaca1",
   "metadata": {},
   "outputs": [],
   "source": [
    "# Read in rental csv \n",
    "# file_path2 = \"Resources/Zillow_observed_rent_index.csv\"\n",
    "# value_df = pd.read_csv(file_path2, index_col=0)"
   ]
  },
  {
   "cell_type": "code",
   "execution_count": null,
   "id": "0555f97f",
   "metadata": {},
   "outputs": [],
   "source": []
  },
  {
   "cell_type": "markdown",
   "id": "e06bbc70",
   "metadata": {},
   "source": [
    "## Machine Learning"
   ]
  },
  {
   "cell_type": "code",
   "execution_count": null,
   "id": "30c02b60",
   "metadata": {},
   "outputs": [],
   "source": [
    "# Linear Regression Model"
   ]
  },
  {
   "cell_type": "code",
   "execution_count": null,
   "id": "1aa1b9b2",
   "metadata": {},
   "outputs": [],
   "source": []
  },
  {
   "cell_type": "code",
   "execution_count": null,
   "id": "1e7be1e6",
   "metadata": {},
   "outputs": [],
   "source": [
    "# Logistic Regression Model"
   ]
  },
  {
   "cell_type": "code",
   "execution_count": null,
   "id": "18d0eca1",
   "metadata": {},
   "outputs": [],
   "source": []
  },
  {
   "cell_type": "code",
   "execution_count": null,
   "id": "ea3c7d48",
   "metadata": {},
   "outputs": [],
   "source": [
    "# Decision Tree Model"
   ]
  },
  {
   "cell_type": "markdown",
   "id": "3c0efb7e",
   "metadata": {},
   "source": [
    "## ETL"
   ]
  },
  {
   "cell_type": "code",
   "execution_count": null,
   "id": "666d54f2",
   "metadata": {},
   "outputs": [],
   "source": [
    "# Establish connection to database\n",
    "# connection_string = \"postgres:...\"\n",
    "# engine = create_engine(f'postgresql://{connection_string}')"
   ]
  },
  {
   "cell_type": "code",
   "execution_count": null,
   "id": "f9d9ffba",
   "metadata": {},
   "outputs": [],
   "source": []
  }
 ],
 "metadata": {
  "kernelspec": {
   "display_name": "mlenv",
   "language": "python",
   "name": "mlenv"
  },
  "language_info": {
   "codemirror_mode": {
    "name": "ipython",
    "version": 3
   },
   "file_extension": ".py",
   "mimetype": "text/x-python",
   "name": "python",
   "nbconvert_exporter": "python",
   "pygments_lexer": "ipython3",
   "version": "3.7.11"
  }
 },
 "nbformat": 4,
 "nbformat_minor": 5
}
