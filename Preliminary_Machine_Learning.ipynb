{
 "cells": [
  {
   "cell_type": "code",
   "execution_count": null,
   "id": "101264ee",
   "metadata": {},
   "outputs": [],
   "source": [
    "# Import our dependencies\n",
    "import pandas as pd\n",
    "from sqlalchemy import create_engine\n",
    "from sklearn.model_selection import train_test_split\n",
    "from sklearn.preprocessing import StandardScaler,OneHotEncoder\n",
    "\n",
    "import tensorflow as tf"
   ]
  },
  {
   "cell_type": "markdown",
   "id": "bee43bf5",
   "metadata": {},
   "source": [
    "## Import and Clean Data"
   ]
  },
  {
   "cell_type": "code",
   "execution_count": null,
   "id": "dd818cee",
   "metadata": {},
   "outputs": [],
   "source": [
    "# Data to use\n",
    "# Zillow_home_value_index.csv\n",
    "# Zillow_home_value_forecast.csv\n",
    "# Zillow_observed_rent_index.csv\n",
    "# ACSST1Y2019.S0101_age_and_sex.csv\n",
    "# ACSDP1Y2019.DP05_demographics_housing.csv\n",
    "# DECENNIALPL2020.P1_race.csv\n",
    "# ACSST1Y2019.S2503_financial_characteristics.csv\n",
    "# ACSST1Y2019.S1501_educational_attainment.csv\n",
    "# ACSST1Y2019.S0802_transportation_to_work.csv"
   ]
  },
  {
   "cell_type": "code",
   "execution_count": null,
   "id": "1021cc20",
   "metadata": {},
   "outputs": [],
   "source": [
    "# Read in home value csv \n",
    "# file_path1 = \"Resources/Zillow_home_value_index.csv\"\n",
    "# value_df = pd.read_csv(file_path1, index_col=0)"
   ]
  },
  {
   "cell_type": "code",
   "execution_count": null,
   "id": "94a6e074",
   "metadata": {},
   "outputs": [],
   "source": [
    "# Read in home value forecast csv \n",
    "# file_path2 = \"Resources/Zillow_home_value_forecast.csv\"\n",
    "# value_forecast_df = pd.read_csv(file_path2, index_col=0)"
   ]
  },
  {
   "cell_type": "code",
   "execution_count": null,
   "id": "322aaca1",
   "metadata": {},
   "outputs": [],
   "source": [
    "# Read in rental csv \n",
    "# file_path3 = \"Resources/Zillow_observed_rent_index.csv\"\n",
    "# rent_df = pd.read_csv(file_path3, index_col=0)"
   ]
  },
  {
   "cell_type": "code",
   "execution_count": null,
   "id": "0555f97f",
   "metadata": {},
   "outputs": [],
   "source": [
    "# Read in age and sex csv \n",
    "# file_path4 = \"Resources/ACSST1Y2019.S0101_age_and_sex.csv\"\n",
    "# age_sex_df = pd.read_csv(file_path4, index_col=0)"
   ]
  },
  {
   "cell_type": "code",
   "execution_count": null,
   "id": "435ac40c",
   "metadata": {},
   "outputs": [],
   "source": [
    "# Read in demographics and housing csv \n",
    "# file_path5 = \"Resources/ACSDP1Y2019.DP05_demographics_housing.csv\"\n",
    "# dem_house_df = pd.read_csv(file_path5, index_col=0)"
   ]
  },
  {
   "cell_type": "code",
   "execution_count": null,
   "id": "86f4caca",
   "metadata": {},
   "outputs": [],
   "source": [
    "# Read in race csv \n",
    "# file_path6 = \"Resources/DECENNIALPL2020.P1_race.csv\"\n",
    "# race_df = pd.read_csv(file_path6, index_col=0)"
   ]
  },
  {
   "cell_type": "code",
   "execution_count": null,
   "id": "922b1fc4",
   "metadata": {},
   "outputs": [],
   "source": [
    "# Read in financial characteristics csv \n",
    "# file_path7 = \"Resources/ACSST1Y2019.S2503_financial_characteristics.csv\"\n",
    "# finance_df = pd.read_csv(file_path7, index_col=0)"
   ]
  },
  {
   "cell_type": "code",
   "execution_count": null,
   "id": "92a74677",
   "metadata": {},
   "outputs": [],
   "source": [
    "# Read in educational attainment csv \n",
    "# file_path8 = \"Resources/ACSST1Y2019.S1501_educational_attainment.csv\"\n",
    "# education_df = pd.read_csv(file_path8, index_col=0)"
   ]
  },
  {
   "cell_type": "code",
   "execution_count": null,
   "id": "a650bac3",
   "metadata": {},
   "outputs": [],
   "source": [
    "# Read in transportation to work csv \n",
    "# file_path9 = \"Resources/ACSST1Y2019.S0802_transportation_to_work.csv\"\n",
    "# transportation_df = pd.read_csv(file_path9, index_col=0)"
   ]
  },
  {
   "cell_type": "markdown",
   "id": "e06bbc70",
   "metadata": {},
   "source": [
    "## Machine Learning"
   ]
  },
  {
   "cell_type": "markdown",
   "id": "4a93d29d",
   "metadata": {},
   "source": [
    "### Linear Regression Model"
   ]
  },
  {
   "cell_type": "code",
   "execution_count": null,
   "id": "53604252",
   "metadata": {},
   "outputs": [],
   "source": [
    "# from sklearn.model_selection import train_test_split\n",
    "# X_train, X_test, y_train, y_test = train_test_split(X, y, random_state=1)"
   ]
  },
  {
   "cell_type": "code",
   "execution_count": null,
   "id": "1aa1b9b2",
   "metadata": {},
   "outputs": [],
   "source": [
    "# from sklearn.linear_model import LinearRegression\n",
    "# model = LinearRegression()\n",
    "# model.fit(X, y)\n",
    "# y_pred = model.predict(X)"
   ]
  },
  {
   "cell_type": "code",
   "execution_count": null,
   "id": "1cba3f4f",
   "metadata": {},
   "outputs": [],
   "source": [
    "# Plot predictions\n",
    "# plt.scatter(X, y)\n",
    "# plt.plot(X, y_pred, color='...')\n",
    "# plt.show()"
   ]
  },
  {
   "cell_type": "markdown",
   "id": "a5a8267d",
   "metadata": {},
   "source": [
    "### Logistic Regression Model"
   ]
  },
  {
   "cell_type": "code",
   "execution_count": null,
   "id": "c137b5ca",
   "metadata": {},
   "outputs": [],
   "source": [
    "# from sklearn.model_selection import train_test_split\n",
    "# X_train, X_test, y_train, y_test = train_test_split(X, y, random_state=1)"
   ]
  },
  {
   "cell_type": "code",
   "execution_count": null,
   "id": "9f419845",
   "metadata": {},
   "outputs": [],
   "source": [
    "# Will need to decide on algorithm: RandomOversampler, SMOTE, ClusterCentroids, SMOTEEN\n",
    "# from sklearn.linear_model import LogisticRegression\n",
    "# ros = RandomOverSampler(random_state=1)\n",
    "# X_resampled, y_resampled = ros.fit_resample(X_train, y_train)\n",
    "# Counter(y_resampled)\n",
    "\n",
    "# from imblearn.over_sampling import SMOTE\n",
    "# X_resampled, y_resampled = SMOTE(random_state=1, sampling_strategy='auto').fit_resample(X_train, y_train)\n",
    "# Counter(y_resampled)\n",
    "\n",
    "# from imblearn.under_sampling import ClusterCentroids\n",
    "# cc = ClusterCentroids(random_state=1)\n",
    "# X_resampled, y_resampled = cc.fit_resample(X_train, y_train)\n",
    "# Counter(y_resampled)\n",
    "\n",
    "# from imblearn.combine import SMOTEENN\n",
    "# smoteenn = SMOTEENN(random_state=1)\n",
    "# X_resampled, y_resampled = smoteenn.fit_resample(X_train, y_train)\n",
    "# Counter(y_resampled)"
   ]
  },
  {
   "cell_type": "code",
   "execution_count": null,
   "id": "18d0eca1",
   "metadata": {},
   "outputs": [],
   "source": [
    "# Train the Logistic Regression model using the resampled data\n",
    "# from sklearn.linear_model import LogisticRegression\n",
    "# model = LogisticRegression(solver='lbfgs', random_state=1)\n",
    "# model.fit(X_resampled, y_resampled)"
   ]
  },
  {
   "cell_type": "code",
   "execution_count": null,
   "id": "fe5f770c",
   "metadata": {},
   "outputs": [],
   "source": [
    "# Calculated the balanced accuracy score\n",
    "# from sklearn.metrics import balanced_accuracy_score\n",
    "# y_pred = model.predict(X_test)\n",
    "# balanced_accuracy_score(y_test, y_pred)"
   ]
  },
  {
   "cell_type": "code",
   "execution_count": null,
   "id": "e4d7c368",
   "metadata": {},
   "outputs": [],
   "source": [
    "# Display the confusion matrix\n",
    "# from sklearn.metrics import confusion_matrix\n",
    "# cm = confusion_matrix(y_test, y_pred)\n",
    "\n",
    "# Create a DataFrame from the confusion matrix.\n",
    "#cm_df = pd.DataFrame(\n",
    "    #matrix, index=[\"...\", \"...\"], columns=[\"...\", \"...\"])\n",
    "#cm_df"
   ]
  },
  {
   "cell_type": "code",
   "execution_count": null,
   "id": "d64fe4b3",
   "metadata": {},
   "outputs": [],
   "source": [
    "# Print the imbalanced classification report\n",
    "# from imblearn.metrics import classification_report_imbalanced\n",
    "# print(classification_report_imbalanced(y_test, y_pred))"
   ]
  },
  {
   "cell_type": "markdown",
   "id": "4aa2bb30",
   "metadata": {},
   "source": [
    "### Decision Tree Model"
   ]
  },
  {
   "cell_type": "code",
   "execution_count": null,
   "id": "020935a4",
   "metadata": {},
   "outputs": [],
   "source": [
    "# from sklearn.model_selection import train_test_split\n",
    "# X_train, X_test, y_train, y_test = train_test_split(X, y, random_state=1)"
   ]
  },
  {
   "cell_type": "code",
   "execution_count": null,
   "id": "30f712e0",
   "metadata": {},
   "outputs": [],
   "source": [
    "# Scale data\n",
    "# Creating a StandardScaler instance.\n",
    "# scaler = StandardScaler()\n",
    "# Fitting the Standard Scaler with the training data.\n",
    "# X_scaler = scaler.fit(X_train)\n",
    "\n",
    "# Scaling the data.\n",
    "# X_train_scaled = X_scaler.transform(X_train)\n",
    "# X_test_scaled = X_scaler.transform(X_test)"
   ]
  },
  {
   "cell_type": "code",
   "execution_count": null,
   "id": "25282307",
   "metadata": {},
   "outputs": [],
   "source": [
    "# from sklearn import tree\n",
    "# Creating the decision tree classifier instance.\n",
    "# model = tree.DecisionTreeClassifier()\n",
    "# Fitting the model.\n",
    "# model = model.fit(X_train_scaled, y_train)"
   ]
  },
  {
   "cell_type": "code",
   "execution_count": null,
   "id": "d83da86a",
   "metadata": {},
   "outputs": [],
   "source": [
    "# Making predictions using the testing data.\n",
    "# predictions = model.predict(X_test_scaled)"
   ]
  },
  {
   "cell_type": "code",
   "execution_count": null,
   "id": "f5f886bd",
   "metadata": {},
   "outputs": [],
   "source": [
    "# Display the confusion matrix\n",
    "# from sklearn.metrics import confusion_matrix\n",
    "# cm = confusion_matrix(y_test, y_pred)\n",
    "\n",
    "# Create a DataFrame from the confusion matrix.\n",
    "#cm_df = pd.DataFrame(\n",
    "    #matrix, index=[\"...\", \"...\"], columns=[\"...\", \"...\"])\n",
    "#cm_df"
   ]
  },
  {
   "cell_type": "code",
   "execution_count": null,
   "id": "8fb28cb3",
   "metadata": {},
   "outputs": [],
   "source": [
    "# Calculating the accuracy score.\n",
    "# acc_score = accuracy_score(y_test, predictions)"
   ]
  },
  {
   "cell_type": "markdown",
   "id": "3c0efb7e",
   "metadata": {},
   "source": [
    "## Connect to Database"
   ]
  },
  {
   "cell_type": "code",
   "execution_count": null,
   "id": "666d54f2",
   "metadata": {},
   "outputs": [],
   "source": [
    "# Establish connection to database\n",
    "# connection_string = \"postgres:...\"\n",
    "# engine = create_engine(f'postgresql://{connection_string}')"
   ]
  },
  {
   "cell_type": "code",
   "execution_count": null,
   "id": "f9d9ffba",
   "metadata": {},
   "outputs": [],
   "source": []
  }
 ],
 "metadata": {
  "kernelspec": {
   "display_name": "mlenv",
   "language": "python",
   "name": "mlenv"
  },
  "language_info": {
   "codemirror_mode": {
    "name": "ipython",
    "version": 3
   },
   "file_extension": ".py",
   "mimetype": "text/x-python",
   "name": "python",
   "nbconvert_exporter": "python",
   "pygments_lexer": "ipython3",
   "version": "3.7.11"
  }
 },
 "nbformat": 4,
 "nbformat_minor": 5
}
