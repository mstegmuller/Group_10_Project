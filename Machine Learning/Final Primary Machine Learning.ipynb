{
 "cells": [
  {
   "cell_type": "code",
   "execution_count": 1,
   "id": "7502c022",
   "metadata": {},
   "outputs": [],
   "source": [
    "# Import our dependencies\n",
    "import pandas as pd\n",
    "import sqlalchemy\n",
    "import psycopg2\n",
    "from config import db_password\n",
    "from sqlalchemy import create_engine\n",
    "from sklearn.model_selection import train_test_split\n",
    "from sklearn.preprocessing import StandardScaler,OneHotEncoder\n",
    "import plotly.express as px\n",
    "\n",
    "import tensorflow as tf"
   ]
  },
  {
   "cell_type": "code",
   "execution_count": 2,
   "id": "8c614d91",
   "metadata": {},
   "outputs": [
    {
     "data": {
      "text/html": [
       "<div>\n",
       "<style scoped>\n",
       "    .dataframe tbody tr th:only-of-type {\n",
       "        vertical-align: middle;\n",
       "    }\n",
       "\n",
       "    .dataframe tbody tr th {\n",
       "        vertical-align: top;\n",
       "    }\n",
       "\n",
       "    .dataframe thead th {\n",
       "        text-align: right;\n",
       "    }\n",
       "</style>\n",
       "<table border=\"1\" class=\"dataframe\">\n",
       "  <thead>\n",
       "    <tr style=\"text-align: right;\">\n",
       "      <th></th>\n",
       "      <th>YEAR</th>\n",
       "      <th>BOROUGH</th>\n",
       "      <th>NEIGHBORHOOD</th>\n",
       "      <th>BUILDING_CLASS_CATEGORY</th>\n",
       "      <th>BUILDING_CLASS_AT_PRESENT</th>\n",
       "      <th>ADDRESS</th>\n",
       "      <th>TOTAL_UNITS</th>\n",
       "      <th>GROSS_SQ_FT</th>\n",
       "      <th>SALE_PRICE</th>\n",
       "    </tr>\n",
       "  </thead>\n",
       "  <tbody>\n",
       "    <tr>\n",
       "      <th>0</th>\n",
       "      <td>2020</td>\n",
       "      <td>2</td>\n",
       "      <td>BATHGATE</td>\n",
       "      <td>01 ONE FAMILY DWELLINGS</td>\n",
       "      <td>A5</td>\n",
       "      <td>418 EAST 180 STREET</td>\n",
       "      <td>1.0</td>\n",
       "      <td>1526.0</td>\n",
       "      <td>0</td>\n",
       "    </tr>\n",
       "    <tr>\n",
       "      <th>1</th>\n",
       "      <td>2020</td>\n",
       "      <td>2</td>\n",
       "      <td>BATHGATE</td>\n",
       "      <td>01 ONE FAMILY DWELLINGS</td>\n",
       "      <td>A1</td>\n",
       "      <td>4455 PARK AVENUE</td>\n",
       "      <td>1.0</td>\n",
       "      <td>1587.0</td>\n",
       "      <td>458000</td>\n",
       "    </tr>\n",
       "    <tr>\n",
       "      <th>2</th>\n",
       "      <td>2020</td>\n",
       "      <td>2</td>\n",
       "      <td>BATHGATE</td>\n",
       "      <td>01 ONE FAMILY DWELLINGS</td>\n",
       "      <td>A1</td>\n",
       "      <td>4451 PARK AVENUE</td>\n",
       "      <td>1.0</td>\n",
       "      <td>1495.0</td>\n",
       "      <td>275000</td>\n",
       "    </tr>\n",
       "    <tr>\n",
       "      <th>3</th>\n",
       "      <td>2020</td>\n",
       "      <td>2</td>\n",
       "      <td>BATHGATE</td>\n",
       "      <td>01 ONE FAMILY DWELLINGS</td>\n",
       "      <td>A1</td>\n",
       "      <td>4451 PARK AVENUE</td>\n",
       "      <td>1.0</td>\n",
       "      <td>1495.0</td>\n",
       "      <td>475000</td>\n",
       "    </tr>\n",
       "    <tr>\n",
       "      <th>4</th>\n",
       "      <td>2020</td>\n",
       "      <td>2</td>\n",
       "      <td>BATHGATE</td>\n",
       "      <td>01 ONE FAMILY DWELLINGS</td>\n",
       "      <td>A9</td>\n",
       "      <td>2327 WASHINGTON AVE</td>\n",
       "      <td>1.0</td>\n",
       "      <td>1260.0</td>\n",
       "      <td>165000</td>\n",
       "    </tr>\n",
       "  </tbody>\n",
       "</table>\n",
       "</div>"
      ],
      "text/plain": [
       "   YEAR  BOROUGH NEIGHBORHOOD  BUILDING_CLASS_CATEGORY  \\\n",
       "0  2020        2     BATHGATE  01 ONE FAMILY DWELLINGS   \n",
       "1  2020        2     BATHGATE  01 ONE FAMILY DWELLINGS   \n",
       "2  2020        2     BATHGATE  01 ONE FAMILY DWELLINGS   \n",
       "3  2020        2     BATHGATE  01 ONE FAMILY DWELLINGS   \n",
       "4  2020        2     BATHGATE  01 ONE FAMILY DWELLINGS   \n",
       "\n",
       "  BUILDING_CLASS_AT_PRESENT              ADDRESS  TOTAL_UNITS  GROSS_SQ_FT  \\\n",
       "0                        A5  418 EAST 180 STREET          1.0       1526.0   \n",
       "1                        A1     4455 PARK AVENUE          1.0       1587.0   \n",
       "2                        A1     4451 PARK AVENUE          1.0       1495.0   \n",
       "3                        A1     4451 PARK AVENUE          1.0       1495.0   \n",
       "4                        A9  2327 WASHINGTON AVE          1.0       1260.0   \n",
       "\n",
       "   SALE_PRICE  \n",
       "0           0  \n",
       "1      458000  \n",
       "2      275000  \n",
       "3      475000  \n",
       "4      165000  "
      ]
     },
     "execution_count": 2,
     "metadata": {},
     "output_type": "execute_result"
    }
   ],
   "source": [
    "# Read Bronx Sales Prices\n",
    "file_path1 = \"Resources/bronx_annual_sales20.csv\"\n",
    "bronx_df = pd.read_csv(file_path1)\n",
    "bronx_df = bronx_df.dropna()\n",
    "bronx_df.head()"
   ]
  },
  {
   "cell_type": "code",
   "execution_count": 3,
   "id": "711b2893",
   "metadata": {},
   "outputs": [
    {
     "data": {
      "text/html": [
       "<div>\n",
       "<style scoped>\n",
       "    .dataframe tbody tr th:only-of-type {\n",
       "        vertical-align: middle;\n",
       "    }\n",
       "\n",
       "    .dataframe tbody tr th {\n",
       "        vertical-align: top;\n",
       "    }\n",
       "\n",
       "    .dataframe thead th {\n",
       "        text-align: right;\n",
       "    }\n",
       "</style>\n",
       "<table border=\"1\" class=\"dataframe\">\n",
       "  <thead>\n",
       "    <tr style=\"text-align: right;\">\n",
       "      <th></th>\n",
       "      <th>YEAR</th>\n",
       "      <th>BOROUGH</th>\n",
       "      <th>NEIGHBORHOOD</th>\n",
       "      <th>BUILDING_CLASS_CATEGORY</th>\n",
       "      <th>BUILDING_CLASS_AT_PRESENT</th>\n",
       "      <th>ADDRESS</th>\n",
       "      <th>TOTAL_UNITS</th>\n",
       "      <th>GROSS_SQ_FT</th>\n",
       "      <th>SALE_PRICE</th>\n",
       "    </tr>\n",
       "  </thead>\n",
       "  <tbody>\n",
       "    <tr>\n",
       "      <th>0</th>\n",
       "      <td>2020</td>\n",
       "      <td>3</td>\n",
       "      <td>BATH BEACH</td>\n",
       "      <td>01 ONE FAMILY DWELLINGS</td>\n",
       "      <td>S1</td>\n",
       "      <td>8684 15TH AVENUE</td>\n",
       "      <td>2.0</td>\n",
       "      <td>4080.0</td>\n",
       "      <td>1300000</td>\n",
       "    </tr>\n",
       "    <tr>\n",
       "      <th>1</th>\n",
       "      <td>2020</td>\n",
       "      <td>3</td>\n",
       "      <td>BATH BEACH</td>\n",
       "      <td>01 ONE FAMILY DWELLINGS</td>\n",
       "      <td>A5</td>\n",
       "      <td>14 BAY 10TH STREET</td>\n",
       "      <td>1.0</td>\n",
       "      <td>1428.0</td>\n",
       "      <td>849000</td>\n",
       "    </tr>\n",
       "    <tr>\n",
       "      <th>2</th>\n",
       "      <td>2020</td>\n",
       "      <td>3</td>\n",
       "      <td>BATH BEACH</td>\n",
       "      <td>01 ONE FAMILY DWELLINGS</td>\n",
       "      <td>A5</td>\n",
       "      <td>30 BAY 10TH STREET</td>\n",
       "      <td>1.0</td>\n",
       "      <td>1428.0</td>\n",
       "      <td>75000</td>\n",
       "    </tr>\n",
       "    <tr>\n",
       "      <th>3</th>\n",
       "      <td>2020</td>\n",
       "      <td>3</td>\n",
       "      <td>BATH BEACH</td>\n",
       "      <td>01 ONE FAMILY DWELLINGS</td>\n",
       "      <td>A9</td>\n",
       "      <td>43 BAY 11TH STREET</td>\n",
       "      <td>1.0</td>\n",
       "      <td>1052.0</td>\n",
       "      <td>0</td>\n",
       "    </tr>\n",
       "    <tr>\n",
       "      <th>4</th>\n",
       "      <td>2020</td>\n",
       "      <td>3</td>\n",
       "      <td>BATH BEACH</td>\n",
       "      <td>01 ONE FAMILY DWELLINGS</td>\n",
       "      <td>A9</td>\n",
       "      <td>8645 BAY 16TH STREET</td>\n",
       "      <td>1.0</td>\n",
       "      <td>1456.0</td>\n",
       "      <td>830000</td>\n",
       "    </tr>\n",
       "  </tbody>\n",
       "</table>\n",
       "</div>"
      ],
      "text/plain": [
       "   YEAR  BOROUGH NEIGHBORHOOD  BUILDING_CLASS_CATEGORY  \\\n",
       "0  2020        3   BATH BEACH  01 ONE FAMILY DWELLINGS   \n",
       "1  2020        3   BATH BEACH  01 ONE FAMILY DWELLINGS   \n",
       "2  2020        3   BATH BEACH  01 ONE FAMILY DWELLINGS   \n",
       "3  2020        3   BATH BEACH  01 ONE FAMILY DWELLINGS   \n",
       "4  2020        3   BATH BEACH  01 ONE FAMILY DWELLINGS   \n",
       "\n",
       "  BUILDING_CLASS_AT_PRESENT               ADDRESS  TOTAL_UNITS  GROSS_SQ_FT  \\\n",
       "0                        S1      8684 15TH AVENUE          2.0       4080.0   \n",
       "1                        A5    14 BAY 10TH STREET          1.0       1428.0   \n",
       "2                        A5    30 BAY 10TH STREET          1.0       1428.0   \n",
       "3                        A9    43 BAY 11TH STREET          1.0       1052.0   \n",
       "4                        A9  8645 BAY 16TH STREET          1.0       1456.0   \n",
       "\n",
       "   SALE_PRICE  \n",
       "0     1300000  \n",
       "1      849000  \n",
       "2       75000  \n",
       "3           0  \n",
       "4      830000  "
      ]
     },
     "execution_count": 3,
     "metadata": {},
     "output_type": "execute_result"
    }
   ],
   "source": [
    "# Read Brooklyn sales prices \n",
    "file_path2 = \"Resources/brooklyn_annual_sales20.csv\"\n",
    "brooklyn_df = pd.read_csv(file_path2)\n",
    "brooklyn_df = brooklyn_df.dropna()\n",
    "brooklyn_df.head()"
   ]
  },
  {
   "cell_type": "code",
   "execution_count": 4,
   "id": "c5e0eecb",
   "metadata": {},
   "outputs": [
    {
     "data": {
      "text/html": [
       "<div>\n",
       "<style scoped>\n",
       "    .dataframe tbody tr th:only-of-type {\n",
       "        vertical-align: middle;\n",
       "    }\n",
       "\n",
       "    .dataframe tbody tr th {\n",
       "        vertical-align: top;\n",
       "    }\n",
       "\n",
       "    .dataframe thead th {\n",
       "        text-align: right;\n",
       "    }\n",
       "</style>\n",
       "<table border=\"1\" class=\"dataframe\">\n",
       "  <thead>\n",
       "    <tr style=\"text-align: right;\">\n",
       "      <th></th>\n",
       "      <th>YEAR</th>\n",
       "      <th>BOROUGH</th>\n",
       "      <th>NEIGHBORHOOD</th>\n",
       "      <th>BUILDING_CLASS_CATEGORY</th>\n",
       "      <th>BUILDING_CLASS_AT_PRESENT</th>\n",
       "      <th>ADDRESS</th>\n",
       "      <th>TOTAL_UNITS</th>\n",
       "      <th>GROSS_SQ_FT</th>\n",
       "      <th>SALE_PRICE</th>\n",
       "    </tr>\n",
       "  </thead>\n",
       "  <tbody>\n",
       "    <tr>\n",
       "      <th>0</th>\n",
       "      <td>2020</td>\n",
       "      <td>1</td>\n",
       "      <td>ALPHABET CITY</td>\n",
       "      <td>32 HOSPITAL AND HEALTH FACILITIES</td>\n",
       "      <td>I5</td>\n",
       "      <td>538-542 EAST 13TH STREET</td>\n",
       "      <td>1</td>\n",
       "      <td>6681</td>\n",
       "      <td>0</td>\n",
       "    </tr>\n",
       "    <tr>\n",
       "      <th>1</th>\n",
       "      <td>2020</td>\n",
       "      <td>1</td>\n",
       "      <td>ALPHABET CITY</td>\n",
       "      <td>37 RELIGIOUS FACILITIES</td>\n",
       "      <td>M1</td>\n",
       "      <td>345 EAST 4TH STREET</td>\n",
       "      <td>1</td>\n",
       "      <td>3496</td>\n",
       "      <td>0</td>\n",
       "    </tr>\n",
       "    <tr>\n",
       "      <th>2</th>\n",
       "      <td>2020</td>\n",
       "      <td>1</td>\n",
       "      <td>ALPHABET CITY</td>\n",
       "      <td>47 CONDO NON-BUSINESS STORAGE</td>\n",
       "      <td>RS</td>\n",
       "      <td>229 EAST 2ND STREET, STOR</td>\n",
       "      <td>1</td>\n",
       "      <td>0</td>\n",
       "      <td>1900000</td>\n",
       "    </tr>\n",
       "    <tr>\n",
       "      <th>3</th>\n",
       "      <td>2020</td>\n",
       "      <td>1</td>\n",
       "      <td>ALPHABET CITY</td>\n",
       "      <td>47 CONDO NON-BUSINESS STORAGE</td>\n",
       "      <td>RS</td>\n",
       "      <td>229 EAST 2ND STREET, STOR</td>\n",
       "      <td>1</td>\n",
       "      <td>0</td>\n",
       "      <td>1630000</td>\n",
       "    </tr>\n",
       "    <tr>\n",
       "      <th>4</th>\n",
       "      <td>2020</td>\n",
       "      <td>1</td>\n",
       "      <td>ALPHABET CITY</td>\n",
       "      <td>47 CONDO NON-BUSINESS STORAGE</td>\n",
       "      <td>RS</td>\n",
       "      <td>631 EAST 9TH STREET, S1</td>\n",
       "      <td>1</td>\n",
       "      <td>0</td>\n",
       "      <td>1350000</td>\n",
       "    </tr>\n",
       "  </tbody>\n",
       "</table>\n",
       "</div>"
      ],
      "text/plain": [
       "   YEAR  BOROUGH   NEIGHBORHOOD            BUILDING_CLASS_CATEGORY  \\\n",
       "0  2020        1  ALPHABET CITY  32 HOSPITAL AND HEALTH FACILITIES   \n",
       "1  2020        1  ALPHABET CITY            37 RELIGIOUS FACILITIES   \n",
       "2  2020        1  ALPHABET CITY      47 CONDO NON-BUSINESS STORAGE   \n",
       "3  2020        1  ALPHABET CITY      47 CONDO NON-BUSINESS STORAGE   \n",
       "4  2020        1  ALPHABET CITY      47 CONDO NON-BUSINESS STORAGE   \n",
       "\n",
       "  BUILDING_CLASS_AT_PRESENT                    ADDRESS  TOTAL_UNITS  \\\n",
       "0                        I5   538-542 EAST 13TH STREET            1   \n",
       "1                        M1        345 EAST 4TH STREET            1   \n",
       "2                        RS  229 EAST 2ND STREET, STOR            1   \n",
       "3                        RS  229 EAST 2ND STREET, STOR            1   \n",
       "4                        RS    631 EAST 9TH STREET, S1            1   \n",
       "\n",
       "   GROSS_SQ_FT  SALE_PRICE  \n",
       "0         6681           0  \n",
       "1         3496           0  \n",
       "2            0     1900000  \n",
       "3            0     1630000  \n",
       "4            0     1350000  "
      ]
     },
     "execution_count": 4,
     "metadata": {},
     "output_type": "execute_result"
    }
   ],
   "source": [
    "# Read Manhattan sales prices\n",
    "file_path3 = \"Resources/manhattan_annual_sales20.csv\"\n",
    "manhattan_df = pd.read_csv(file_path3)\n",
    "manhattan_df = manhattan_df.dropna()\n",
    "manhattan_df.head()"
   ]
  },
  {
   "cell_type": "code",
   "execution_count": 5,
   "id": "e82d076e",
   "metadata": {},
   "outputs": [
    {
     "data": {
      "text/html": [
       "<div>\n",
       "<style scoped>\n",
       "    .dataframe tbody tr th:only-of-type {\n",
       "        vertical-align: middle;\n",
       "    }\n",
       "\n",
       "    .dataframe tbody tr th {\n",
       "        vertical-align: top;\n",
       "    }\n",
       "\n",
       "    .dataframe thead th {\n",
       "        text-align: right;\n",
       "    }\n",
       "</style>\n",
       "<table border=\"1\" class=\"dataframe\">\n",
       "  <thead>\n",
       "    <tr style=\"text-align: right;\">\n",
       "      <th></th>\n",
       "      <th>YEAR</th>\n",
       "      <th>BOROUGH</th>\n",
       "      <th>NEIGHBORHOOD</th>\n",
       "      <th>BUILDING_CLASS_CATEGORY</th>\n",
       "      <th>BUILDING_CLASS_AT_PRESENT</th>\n",
       "      <th>ADDRESS</th>\n",
       "      <th>TOTAL_UNITS</th>\n",
       "      <th>GROSS_SQ_FT</th>\n",
       "      <th>SALE_PRICE</th>\n",
       "    </tr>\n",
       "  </thead>\n",
       "  <tbody>\n",
       "    <tr>\n",
       "      <th>0</th>\n",
       "      <td>2020</td>\n",
       "      <td>4</td>\n",
       "      <td>AIRPORT JFK</td>\n",
       "      <td>39 TRANSPORTATION FACILITIES</td>\n",
       "      <td>V7</td>\n",
       "      <td>N/A ROCKAWAY BLVD</td>\n",
       "      <td>0.0</td>\n",
       "      <td>0.0</td>\n",
       "      <td>4121000</td>\n",
       "    </tr>\n",
       "    <tr>\n",
       "      <th>1</th>\n",
       "      <td>2020</td>\n",
       "      <td>4</td>\n",
       "      <td>AIRPORT LA GUARDIA</td>\n",
       "      <td>01 ONE FAMILY DWELLINGS</td>\n",
       "      <td>A5</td>\n",
       "      <td>19-62 81ST STREET</td>\n",
       "      <td>1.0</td>\n",
       "      <td>1224.0</td>\n",
       "      <td>584569</td>\n",
       "    </tr>\n",
       "    <tr>\n",
       "      <th>2</th>\n",
       "      <td>2020</td>\n",
       "      <td>4</td>\n",
       "      <td>AIRPORT LA GUARDIA</td>\n",
       "      <td>12 CONDOS - WALKUP APARTMENTS</td>\n",
       "      <td>R2</td>\n",
       "      <td>19-37 80TH STREET, 1</td>\n",
       "      <td>1.0</td>\n",
       "      <td>0.0</td>\n",
       "      <td>420000</td>\n",
       "    </tr>\n",
       "    <tr>\n",
       "      <th>3</th>\n",
       "      <td>2020</td>\n",
       "      <td>4</td>\n",
       "      <td>ARVERNE</td>\n",
       "      <td>01 ONE FAMILY DWELLINGS</td>\n",
       "      <td>A5</td>\n",
       "      <td>3-20 BEACH 41 STREET</td>\n",
       "      <td>1.0</td>\n",
       "      <td>1476.0</td>\n",
       "      <td>300000</td>\n",
       "    </tr>\n",
       "    <tr>\n",
       "      <th>4</th>\n",
       "      <td>2020</td>\n",
       "      <td>4</td>\n",
       "      <td>ARVERNE</td>\n",
       "      <td>01 ONE FAMILY DWELLINGS</td>\n",
       "      <td>A5</td>\n",
       "      <td>336 BEACH 41ST STREET</td>\n",
       "      <td>1.0</td>\n",
       "      <td>1350.0</td>\n",
       "      <td>360000</td>\n",
       "    </tr>\n",
       "  </tbody>\n",
       "</table>\n",
       "</div>"
      ],
      "text/plain": [
       "   YEAR  BOROUGH        NEIGHBORHOOD        BUILDING_CLASS_CATEGORY  \\\n",
       "0  2020        4         AIRPORT JFK   39 TRANSPORTATION FACILITIES   \n",
       "1  2020        4  AIRPORT LA GUARDIA        01 ONE FAMILY DWELLINGS   \n",
       "2  2020        4  AIRPORT LA GUARDIA  12 CONDOS - WALKUP APARTMENTS   \n",
       "3  2020        4             ARVERNE        01 ONE FAMILY DWELLINGS   \n",
       "4  2020        4             ARVERNE        01 ONE FAMILY DWELLINGS   \n",
       "\n",
       "  BUILDING_CLASS_AT_PRESENT                ADDRESS  TOTAL_UNITS  GROSS_SQ_FT  \\\n",
       "0                        V7      N/A ROCKAWAY BLVD          0.0          0.0   \n",
       "1                        A5      19-62 81ST STREET          1.0       1224.0   \n",
       "2                        R2   19-37 80TH STREET, 1          1.0          0.0   \n",
       "3                        A5   3-20 BEACH 41 STREET          1.0       1476.0   \n",
       "4                        A5  336 BEACH 41ST STREET          1.0       1350.0   \n",
       "\n",
       "   SALE_PRICE  \n",
       "0     4121000  \n",
       "1      584569  \n",
       "2      420000  \n",
       "3      300000  \n",
       "4      360000  "
      ]
     },
     "execution_count": 5,
     "metadata": {},
     "output_type": "execute_result"
    }
   ],
   "source": [
    "# Read Queens sales prices\n",
    "file_path4 = \"Resources/queens_annual_sales20.csv\"\n",
    "queens_df = pd.read_csv(file_path4)\n",
    "queens_df = queens_df.dropna()\n",
    "queens_df.head()"
   ]
  },
  {
   "cell_type": "code",
   "execution_count": 6,
   "id": "a22e12c6",
   "metadata": {},
   "outputs": [
    {
     "data": {
      "text/html": [
       "<div>\n",
       "<style scoped>\n",
       "    .dataframe tbody tr th:only-of-type {\n",
       "        vertical-align: middle;\n",
       "    }\n",
       "\n",
       "    .dataframe tbody tr th {\n",
       "        vertical-align: top;\n",
       "    }\n",
       "\n",
       "    .dataframe thead th {\n",
       "        text-align: right;\n",
       "    }\n",
       "</style>\n",
       "<table border=\"1\" class=\"dataframe\">\n",
       "  <thead>\n",
       "    <tr style=\"text-align: right;\">\n",
       "      <th></th>\n",
       "      <th>YEAR</th>\n",
       "      <th>BOROUGH</th>\n",
       "      <th>NEIGHBORHOOD</th>\n",
       "      <th>BUILDING_CLASS_CATEGORY</th>\n",
       "      <th>BUILDING_CLASS_AT_PRESENT</th>\n",
       "      <th>ADDRESS</th>\n",
       "      <th>TOTAL_UNITS</th>\n",
       "      <th>GROSS_SQ_FT</th>\n",
       "      <th>SALE_PRICE</th>\n",
       "    </tr>\n",
       "  </thead>\n",
       "  <tbody>\n",
       "    <tr>\n",
       "      <th>0</th>\n",
       "      <td>2020</td>\n",
       "      <td>5</td>\n",
       "      <td>ANNADALE</td>\n",
       "      <td>01 ONE FAMILY DWELLINGS</td>\n",
       "      <td>A5</td>\n",
       "      <td>4726 AMBOY ROAD</td>\n",
       "      <td>1.0</td>\n",
       "      <td>910.0</td>\n",
       "      <td>0</td>\n",
       "    </tr>\n",
       "    <tr>\n",
       "      <th>1</th>\n",
       "      <td>2020</td>\n",
       "      <td>5</td>\n",
       "      <td>ANNADALE</td>\n",
       "      <td>01 ONE FAMILY DWELLINGS</td>\n",
       "      <td>A1</td>\n",
       "      <td>119 LENZIE STREET</td>\n",
       "      <td>1.0</td>\n",
       "      <td>3660.0</td>\n",
       "      <td>315000</td>\n",
       "    </tr>\n",
       "    <tr>\n",
       "      <th>2</th>\n",
       "      <td>2020</td>\n",
       "      <td>5</td>\n",
       "      <td>ANNADALE</td>\n",
       "      <td>01 ONE FAMILY DWELLINGS</td>\n",
       "      <td>A1</td>\n",
       "      <td>118 ELMBANK STREET</td>\n",
       "      <td>1.0</td>\n",
       "      <td>2580.0</td>\n",
       "      <td>450000</td>\n",
       "    </tr>\n",
       "    <tr>\n",
       "      <th>3</th>\n",
       "      <td>2020</td>\n",
       "      <td>5</td>\n",
       "      <td>ANNADALE</td>\n",
       "      <td>01 ONE FAMILY DWELLINGS</td>\n",
       "      <td>A1</td>\n",
       "      <td>7 SANDGAP STREET</td>\n",
       "      <td>1.0</td>\n",
       "      <td>1222.0</td>\n",
       "      <td>525000</td>\n",
       "    </tr>\n",
       "    <tr>\n",
       "      <th>4</th>\n",
       "      <td>2020</td>\n",
       "      <td>5</td>\n",
       "      <td>ANNADALE</td>\n",
       "      <td>01 ONE FAMILY DWELLINGS</td>\n",
       "      <td>A5</td>\n",
       "      <td>91 EAGAN AVENUE</td>\n",
       "      <td>1.0</td>\n",
       "      <td>1854.0</td>\n",
       "      <td>480000</td>\n",
       "    </tr>\n",
       "  </tbody>\n",
       "</table>\n",
       "</div>"
      ],
      "text/plain": [
       "   YEAR  BOROUGH NEIGHBORHOOD  BUILDING_CLASS_CATEGORY  \\\n",
       "0  2020        5     ANNADALE  01 ONE FAMILY DWELLINGS   \n",
       "1  2020        5     ANNADALE  01 ONE FAMILY DWELLINGS   \n",
       "2  2020        5     ANNADALE  01 ONE FAMILY DWELLINGS   \n",
       "3  2020        5     ANNADALE  01 ONE FAMILY DWELLINGS   \n",
       "4  2020        5     ANNADALE  01 ONE FAMILY DWELLINGS   \n",
       "\n",
       "  BUILDING_CLASS_AT_PRESENT             ADDRESS  TOTAL_UNITS  GROSS_SQ_FT  \\\n",
       "0                        A5     4726 AMBOY ROAD          1.0        910.0   \n",
       "1                        A1   119 LENZIE STREET          1.0       3660.0   \n",
       "2                        A1  118 ELMBANK STREET          1.0       2580.0   \n",
       "3                        A1    7 SANDGAP STREET          1.0       1222.0   \n",
       "4                        A5     91 EAGAN AVENUE          1.0       1854.0   \n",
       "\n",
       "   SALE_PRICE  \n",
       "0           0  \n",
       "1      315000  \n",
       "2      450000  \n",
       "3      525000  \n",
       "4      480000  "
      ]
     },
     "execution_count": 6,
     "metadata": {},
     "output_type": "execute_result"
    }
   ],
   "source": [
    "# Read Staten Island sales prices\n",
    "file_path5 = \"Resources/staten_island_annual_sales20.csv\"\n",
    "staten_island_df = pd.read_csv(file_path5)\n",
    "staten_island_df = staten_island_df.dropna()\n",
    "staten_island_df.head()"
   ]
  },
  {
   "cell_type": "code",
   "execution_count": 7,
   "id": "c5610f08",
   "metadata": {},
   "outputs": [
    {
     "data": {
      "text/html": [
       "<div>\n",
       "<style scoped>\n",
       "    .dataframe tbody tr th:only-of-type {\n",
       "        vertical-align: middle;\n",
       "    }\n",
       "\n",
       "    .dataframe tbody tr th {\n",
       "        vertical-align: top;\n",
       "    }\n",
       "\n",
       "    .dataframe thead th {\n",
       "        text-align: right;\n",
       "    }\n",
       "</style>\n",
       "<table border=\"1\" class=\"dataframe\">\n",
       "  <thead>\n",
       "    <tr style=\"text-align: right;\">\n",
       "      <th></th>\n",
       "      <th>YEAR</th>\n",
       "      <th>BOROUGH</th>\n",
       "      <th>BUILDING CLASS CATEGORY</th>\n",
       "      <th>NUMBER OF SALES</th>\n",
       "      <th>MINIMUM SALE PRICE</th>\n",
       "      <th>AVERAGE SALE PRICE</th>\n",
       "      <th>MEDIAN SALE PRICE</th>\n",
       "      <th>MAXIMUM SALE PRICE</th>\n",
       "    </tr>\n",
       "  </thead>\n",
       "  <tbody>\n",
       "    <tr>\n",
       "      <th>0</th>\n",
       "      <td>2019</td>\n",
       "      <td>Manhattan</td>\n",
       "      <td>01 ONE FAMILY DWELLINGS</td>\n",
       "      <td>101</td>\n",
       "      <td>375,000</td>\n",
       "      <td>9,256,384</td>\n",
       "      <td>7,200,000</td>\n",
       "      <td>77,100,000</td>\n",
       "    </tr>\n",
       "    <tr>\n",
       "      <th>1</th>\n",
       "      <td>2019</td>\n",
       "      <td>Manhattan</td>\n",
       "      <td>02 TWO FAMILY DWELLINGS</td>\n",
       "      <td>74</td>\n",
       "      <td>425,000</td>\n",
       "      <td>5,454,151</td>\n",
       "      <td>3,925,000</td>\n",
       "      <td>25,500,000</td>\n",
       "    </tr>\n",
       "    <tr>\n",
       "      <th>2</th>\n",
       "      <td>2019</td>\n",
       "      <td>Manhattan</td>\n",
       "      <td>03 THREE FAMILY DWELLINGS</td>\n",
       "      <td>42</td>\n",
       "      <td>531,527</td>\n",
       "      <td>4,400,861</td>\n",
       "      <td>2,375,000</td>\n",
       "      <td>24,000,000</td>\n",
       "    </tr>\n",
       "    <tr>\n",
       "      <th>3</th>\n",
       "      <td>2019</td>\n",
       "      <td>Bronx</td>\n",
       "      <td>01 ONE FAMILY DWELLINGS</td>\n",
       "      <td>1,019</td>\n",
       "      <td>200,000</td>\n",
       "      <td>548,758</td>\n",
       "      <td>485,000</td>\n",
       "      <td>5,000,000</td>\n",
       "    </tr>\n",
       "    <tr>\n",
       "      <th>4</th>\n",
       "      <td>2019</td>\n",
       "      <td>Bronx</td>\n",
       "      <td>02 TWO FAMILY DWELLINGS</td>\n",
       "      <td>1,364</td>\n",
       "      <td>200,000</td>\n",
       "      <td>596,455</td>\n",
       "      <td>600,000</td>\n",
       "      <td>2,400,000</td>\n",
       "    </tr>\n",
       "  </tbody>\n",
       "</table>\n",
       "</div>"
      ],
      "text/plain": [
       "   YEAR    BOROUGH    BUILDING CLASS CATEGORY  NUMBER OF SALES   \\\n",
       "0  2019  Manhattan    01 ONE FAMILY DWELLINGS               101   \n",
       "1  2019  Manhattan    02 TWO FAMILY DWELLINGS                74   \n",
       "2  2019  Manhattan  03 THREE FAMILY DWELLINGS                42   \n",
       "3  2019      Bronx    01 ONE FAMILY DWELLINGS             1,019   \n",
       "4  2019      Bronx    02 TWO FAMILY DWELLINGS             1,364   \n",
       "\n",
       "   MINIMUM SALE PRICE   AVERAGE SALE PRICE   MEDIAN SALE PRICE   \\\n",
       "0              375,000            9,256,384           7,200,000   \n",
       "1              425,000            5,454,151           3,925,000   \n",
       "2              531,527            4,400,861           2,375,000   \n",
       "3              200,000              548,758             485,000   \n",
       "4              200,000              596,455             600,000   \n",
       "\n",
       "   MAXIMUM SALE PRICE   \n",
       "0           77,100,000  \n",
       "1           25,500,000  \n",
       "2           24,000,000  \n",
       "3            5,000,000  \n",
       "4            2,400,000  "
      ]
     },
     "execution_count": 7,
     "metadata": {},
     "output_type": "execute_result"
    }
   ],
   "source": [
    "# Read Annualized city sales 2019\n",
    "file_path6 = \"Resources/annualized_citywide_sale19.csv\"\n",
    "annualized_citywide_sale19_df = pd.read_csv(file_path6)\n",
    "annualized_citywide_sale19_df = annualized_citywide_sale19_df.dropna()\n",
    "annualized_citywide_sale19_df.head()"
   ]
  },
  {
   "cell_type": "code",
   "execution_count": 8,
   "id": "a3911efe",
   "metadata": {},
   "outputs": [
    {
     "data": {
      "text/html": [
       "<div>\n",
       "<style scoped>\n",
       "    .dataframe tbody tr th:only-of-type {\n",
       "        vertical-align: middle;\n",
       "    }\n",
       "\n",
       "    .dataframe tbody tr th {\n",
       "        vertical-align: top;\n",
       "    }\n",
       "\n",
       "    .dataframe thead th {\n",
       "        text-align: right;\n",
       "    }\n",
       "</style>\n",
       "<table border=\"1\" class=\"dataframe\">\n",
       "  <thead>\n",
       "    <tr style=\"text-align: right;\">\n",
       "      <th></th>\n",
       "      <th>YEAR</th>\n",
       "      <th>BOROUGH</th>\n",
       "      <th>BUILDING CLASS CATEGORY</th>\n",
       "      <th>NUMBER OF SALES</th>\n",
       "      <th>MINIMUM SALE PRICE</th>\n",
       "      <th>AVERAGE SALE PRICE</th>\n",
       "      <th>MEDIAN SALE PRICE</th>\n",
       "      <th>MAXIMUM SALE PRICE</th>\n",
       "    </tr>\n",
       "  </thead>\n",
       "  <tbody>\n",
       "    <tr>\n",
       "      <th>0</th>\n",
       "      <td>2020</td>\n",
       "      <td>MANHATTAN</td>\n",
       "      <td>01 ONE FAMILY DWELLINGS</td>\n",
       "      <td>71</td>\n",
       "      <td>1,250,000</td>\n",
       "      <td>10,068,400</td>\n",
       "      <td>8,300,000</td>\n",
       "      <td>38,000,000</td>\n",
       "    </tr>\n",
       "    <tr>\n",
       "      <th>1</th>\n",
       "      <td>2020</td>\n",
       "      <td>MANHATTAN</td>\n",
       "      <td>02 TWO FAMILY DWELLINGS</td>\n",
       "      <td>54</td>\n",
       "      <td>642,000</td>\n",
       "      <td>5,899,924</td>\n",
       "      <td>4,225,000</td>\n",
       "      <td>31,000,000</td>\n",
       "    </tr>\n",
       "    <tr>\n",
       "      <th>2</th>\n",
       "      <td>2020</td>\n",
       "      <td>MANHATTAN</td>\n",
       "      <td>03 THREE FAMILY DWELLINGS</td>\n",
       "      <td>21</td>\n",
       "      <td>319,393</td>\n",
       "      <td>3,511,994</td>\n",
       "      <td>2,650,000</td>\n",
       "      <td>8,405,000</td>\n",
       "    </tr>\n",
       "    <tr>\n",
       "      <th>3</th>\n",
       "      <td>2020</td>\n",
       "      <td>BRONX</td>\n",
       "      <td>01 ONE FAMILY DWELLINGS</td>\n",
       "      <td>821</td>\n",
       "      <td>200,000</td>\n",
       "      <td>563,110</td>\n",
       "      <td>520,000</td>\n",
       "      <td>4,325,000</td>\n",
       "    </tr>\n",
       "    <tr>\n",
       "      <th>4</th>\n",
       "      <td>2020</td>\n",
       "      <td>BRONX</td>\n",
       "      <td>02 TWO FAMILY DWELLINGS</td>\n",
       "      <td>1,015</td>\n",
       "      <td>200,000</td>\n",
       "      <td>852,118</td>\n",
       "      <td>653,500</td>\n",
       "      <td>87,400,000</td>\n",
       "    </tr>\n",
       "  </tbody>\n",
       "</table>\n",
       "</div>"
      ],
      "text/plain": [
       "   YEAR    BOROUGH    BUILDING CLASS CATEGORY  NUMBER OF SALES   \\\n",
       "0  2020  MANHATTAN    01 ONE FAMILY DWELLINGS                71   \n",
       "1  2020  MANHATTAN    02 TWO FAMILY DWELLINGS                54   \n",
       "2  2020  MANHATTAN  03 THREE FAMILY DWELLINGS                21   \n",
       "3  2020      BRONX    01 ONE FAMILY DWELLINGS               821   \n",
       "4  2020      BRONX    02 TWO FAMILY DWELLINGS             1,015   \n",
       "\n",
       "   MINIMUM SALE PRICE   AVERAGE SALE PRICE   MEDIAN SALE PRICE   \\\n",
       "0            1,250,000           10,068,400           8,300,000   \n",
       "1              642,000            5,899,924           4,225,000   \n",
       "2              319,393            3,511,994           2,650,000   \n",
       "3              200,000              563,110             520,000   \n",
       "4              200,000              852,118             653,500   \n",
       "\n",
       "   MAXIMUM SALE PRICE   \n",
       "0           38,000,000  \n",
       "1           31,000,000  \n",
       "2            8,405,000  \n",
       "3            4,325,000  \n",
       "4           87,400,000  "
      ]
     },
     "execution_count": 8,
     "metadata": {},
     "output_type": "execute_result"
    }
   ],
   "source": [
    "# Read Annualized city sales 2020\n",
    "file_path7 = \"Resources/annualized_citywide_sale20.csv\"\n",
    "annualized_citywide_sale20_df = pd.read_csv(file_path7)\n",
    "annualized_citywide_sale20_df.dropna(axis=0, how='all',inplace=True)\n",
    "annualized_citywide_sale20_df = annualized_citywide_sale20_df.dropna(axis='columns')\n",
    "annualized_citywide_sale20_df.head()"
   ]
  },
  {
   "cell_type": "code",
   "execution_count": 9,
   "id": "162a5c89",
   "metadata": {},
   "outputs": [
    {
     "data": {
      "text/html": [
       "<div>\n",
       "<style scoped>\n",
       "    .dataframe tbody tr th:only-of-type {\n",
       "        vertical-align: middle;\n",
       "    }\n",
       "\n",
       "    .dataframe tbody tr th {\n",
       "        vertical-align: top;\n",
       "    }\n",
       "\n",
       "    .dataframe thead th {\n",
       "        text-align: right;\n",
       "    }\n",
       "</style>\n",
       "<table border=\"1\" class=\"dataframe\">\n",
       "  <thead>\n",
       "    <tr style=\"text-align: right;\">\n",
       "      <th></th>\n",
       "      <th>year</th>\n",
       "      <th>amount</th>\n",
       "      <th>inflation_rate</th>\n",
       "    </tr>\n",
       "  </thead>\n",
       "  <tbody>\n",
       "    <tr>\n",
       "      <th>0</th>\n",
       "      <td>1701</td>\n",
       "      <td>1.00</td>\n",
       "      <td>0.05</td>\n",
       "    </tr>\n",
       "    <tr>\n",
       "      <th>1</th>\n",
       "      <td>1702</td>\n",
       "      <td>0.91</td>\n",
       "      <td>-0.09</td>\n",
       "    </tr>\n",
       "    <tr>\n",
       "      <th>2</th>\n",
       "      <td>1703</td>\n",
       "      <td>0.91</td>\n",
       "      <td>0.00</td>\n",
       "    </tr>\n",
       "    <tr>\n",
       "      <th>3</th>\n",
       "      <td>1704</td>\n",
       "      <td>1.07</td>\n",
       "      <td>0.18</td>\n",
       "    </tr>\n",
       "    <tr>\n",
       "      <th>4</th>\n",
       "      <td>1705</td>\n",
       "      <td>0.98</td>\n",
       "      <td>-0.09</td>\n",
       "    </tr>\n",
       "  </tbody>\n",
       "</table>\n",
       "</div>"
      ],
      "text/plain": [
       "   year  amount  inflation_rate\n",
       "0  1701    1.00            0.05\n",
       "1  1702    0.91           -0.09\n",
       "2  1703    0.91            0.00\n",
       "3  1704    1.07            0.18\n",
       "4  1705    0.98           -0.09"
      ]
     },
     "execution_count": 9,
     "metadata": {},
     "output_type": "execute_result"
    }
   ],
   "source": [
    "# Read Annualized city sales 2019\n",
    "file_path8 = \"Resources/inflation_data_1701to2022.csv\"\n",
    "inflation_data_1701to2022_df = pd.read_csv(file_path8)\n",
    "inflation_data_1701to2022_df = inflation_data_1701to2022_df.dropna()\n",
    "inflation_data_1701to2022_df.head()"
   ]
  },
  {
   "cell_type": "markdown",
   "id": "92985242",
   "metadata": {},
   "source": [
    "# Machine Learning\n",
    "Linear Regression Model-\n",
    "Bronx"
   ]
  },
  {
   "cell_type": "code",
   "execution_count": 10,
   "id": "5de1b677",
   "metadata": {},
   "outputs": [],
   "source": [
    "import pandas as pd\n",
    "from pathlib import Path\n",
    "import matplotlib.pyplot as plt\n",
    "from sklearn.linear_model import LinearRegression\n",
    "import numpy as np"
   ]
  },
  {
   "cell_type": "code",
   "execution_count": 11,
   "id": "8e52094f",
   "metadata": {},
   "outputs": [
    {
     "data": {
      "text/html": [
       "<div>\n",
       "<style scoped>\n",
       "    .dataframe tbody tr th:only-of-type {\n",
       "        vertical-align: middle;\n",
       "    }\n",
       "\n",
       "    .dataframe tbody tr th {\n",
       "        vertical-align: top;\n",
       "    }\n",
       "\n",
       "    .dataframe thead th {\n",
       "        text-align: right;\n",
       "    }\n",
       "</style>\n",
       "<table border=\"1\" class=\"dataframe\">\n",
       "  <thead>\n",
       "    <tr style=\"text-align: right;\">\n",
       "      <th></th>\n",
       "      <th>YEAR</th>\n",
       "      <th>BOROUGH</th>\n",
       "      <th>NEIGHBORHOOD</th>\n",
       "      <th>BUILDING_CLASS_CATEGORY</th>\n",
       "      <th>BUILDING_CLASS_AT_PRESENT</th>\n",
       "      <th>ADDRESS</th>\n",
       "      <th>TOTAL_UNITS</th>\n",
       "      <th>GROSS_SQ_FT</th>\n",
       "      <th>SALE_PRICE</th>\n",
       "    </tr>\n",
       "  </thead>\n",
       "  <tbody>\n",
       "    <tr>\n",
       "      <th>0</th>\n",
       "      <td>2020</td>\n",
       "      <td>2</td>\n",
       "      <td>BATHGATE</td>\n",
       "      <td>01 ONE FAMILY DWELLINGS</td>\n",
       "      <td>A5</td>\n",
       "      <td>418 EAST 180 STREET</td>\n",
       "      <td>1.0</td>\n",
       "      <td>1526.0</td>\n",
       "      <td>0</td>\n",
       "    </tr>\n",
       "    <tr>\n",
       "      <th>1</th>\n",
       "      <td>2020</td>\n",
       "      <td>2</td>\n",
       "      <td>BATHGATE</td>\n",
       "      <td>01 ONE FAMILY DWELLINGS</td>\n",
       "      <td>A1</td>\n",
       "      <td>4455 PARK AVENUE</td>\n",
       "      <td>1.0</td>\n",
       "      <td>1587.0</td>\n",
       "      <td>458000</td>\n",
       "    </tr>\n",
       "    <tr>\n",
       "      <th>2</th>\n",
       "      <td>2020</td>\n",
       "      <td>2</td>\n",
       "      <td>BATHGATE</td>\n",
       "      <td>01 ONE FAMILY DWELLINGS</td>\n",
       "      <td>A1</td>\n",
       "      <td>4451 PARK AVENUE</td>\n",
       "      <td>1.0</td>\n",
       "      <td>1495.0</td>\n",
       "      <td>275000</td>\n",
       "    </tr>\n",
       "    <tr>\n",
       "      <th>3</th>\n",
       "      <td>2020</td>\n",
       "      <td>2</td>\n",
       "      <td>BATHGATE</td>\n",
       "      <td>01 ONE FAMILY DWELLINGS</td>\n",
       "      <td>A1</td>\n",
       "      <td>4451 PARK AVENUE</td>\n",
       "      <td>1.0</td>\n",
       "      <td>1495.0</td>\n",
       "      <td>475000</td>\n",
       "    </tr>\n",
       "    <tr>\n",
       "      <th>4</th>\n",
       "      <td>2020</td>\n",
       "      <td>2</td>\n",
       "      <td>BATHGATE</td>\n",
       "      <td>01 ONE FAMILY DWELLINGS</td>\n",
       "      <td>A9</td>\n",
       "      <td>2327 WASHINGTON AVE</td>\n",
       "      <td>1.0</td>\n",
       "      <td>1260.0</td>\n",
       "      <td>165000</td>\n",
       "    </tr>\n",
       "  </tbody>\n",
       "</table>\n",
       "</div>"
      ],
      "text/plain": [
       "   YEAR  BOROUGH NEIGHBORHOOD  BUILDING_CLASS_CATEGORY  \\\n",
       "0  2020        2     BATHGATE  01 ONE FAMILY DWELLINGS   \n",
       "1  2020        2     BATHGATE  01 ONE FAMILY DWELLINGS   \n",
       "2  2020        2     BATHGATE  01 ONE FAMILY DWELLINGS   \n",
       "3  2020        2     BATHGATE  01 ONE FAMILY DWELLINGS   \n",
       "4  2020        2     BATHGATE  01 ONE FAMILY DWELLINGS   \n",
       "\n",
       "  BUILDING_CLASS_AT_PRESENT              ADDRESS  TOTAL_UNITS  GROSS_SQ_FT  \\\n",
       "0                        A5  418 EAST 180 STREET          1.0       1526.0   \n",
       "1                        A1     4455 PARK AVENUE          1.0       1587.0   \n",
       "2                        A1     4451 PARK AVENUE          1.0       1495.0   \n",
       "3                        A1     4451 PARK AVENUE          1.0       1495.0   \n",
       "4                        A9  2327 WASHINGTON AVE          1.0       1260.0   \n",
       "\n",
       "   SALE_PRICE  \n",
       "0           0  \n",
       "1      458000  \n",
       "2      275000  \n",
       "3      475000  \n",
       "4      165000  "
      ]
     },
     "execution_count": 11,
     "metadata": {},
     "output_type": "execute_result"
    }
   ],
   "source": [
    "df1 = pd.read_csv(Path('Resources/bronx_annual_sales20.csv'))\n",
    "df1.head()"
   ]
  },
  {
   "cell_type": "code",
   "execution_count": 12,
   "id": "833549fd",
   "metadata": {},
   "outputs": [],
   "source": [
    "dfGross_SQ_Ft1= df1[[\"GROSS_SQ_FT\", \"SALE_PRICE\"]].copy()"
   ]
  },
  {
   "cell_type": "code",
   "execution_count": 13,
   "id": "60691e14",
   "metadata": {},
   "outputs": [],
   "source": [
    "dfGross_SQ_Ft1.replace(0, np.nan, inplace=True)"
   ]
  },
  {
   "cell_type": "code",
   "execution_count": 14,
   "id": "7e3a8a95",
   "metadata": {},
   "outputs": [],
   "source": [
    "dfGross_SQ_Ft1.dropna(inplace=True)"
   ]
  },
  {
   "cell_type": "code",
   "execution_count": 15,
   "id": "ec31b03b",
   "metadata": {},
   "outputs": [
    {
     "data": {
      "text/html": [
       "<div>\n",
       "<style scoped>\n",
       "    .dataframe tbody tr th:only-of-type {\n",
       "        vertical-align: middle;\n",
       "    }\n",
       "\n",
       "    .dataframe tbody tr th {\n",
       "        vertical-align: top;\n",
       "    }\n",
       "\n",
       "    .dataframe thead th {\n",
       "        text-align: right;\n",
       "    }\n",
       "</style>\n",
       "<table border=\"1\" class=\"dataframe\">\n",
       "  <thead>\n",
       "    <tr style=\"text-align: right;\">\n",
       "      <th></th>\n",
       "      <th>GROSS_SQ_FT</th>\n",
       "      <th>SALE_PRICE</th>\n",
       "    </tr>\n",
       "  </thead>\n",
       "  <tbody>\n",
       "    <tr>\n",
       "      <th>1</th>\n",
       "      <td>1587.0</td>\n",
       "      <td>458000.0</td>\n",
       "    </tr>\n",
       "    <tr>\n",
       "      <th>2</th>\n",
       "      <td>1495.0</td>\n",
       "      <td>275000.0</td>\n",
       "    </tr>\n",
       "    <tr>\n",
       "      <th>3</th>\n",
       "      <td>1495.0</td>\n",
       "      <td>475000.0</td>\n",
       "    </tr>\n",
       "    <tr>\n",
       "      <th>4</th>\n",
       "      <td>1260.0</td>\n",
       "      <td>165000.0</td>\n",
       "    </tr>\n",
       "    <tr>\n",
       "      <th>5</th>\n",
       "      <td>1516.0</td>\n",
       "      <td>289000.0</td>\n",
       "    </tr>\n",
       "    <tr>\n",
       "      <th>...</th>\n",
       "      <td>...</td>\n",
       "      <td>...</td>\n",
       "    </tr>\n",
       "    <tr>\n",
       "      <th>6625</th>\n",
       "      <td>1950.0</td>\n",
       "      <td>827000.0</td>\n",
       "    </tr>\n",
       "    <tr>\n",
       "      <th>6626</th>\n",
       "      <td>3487.0</td>\n",
       "      <td>600000.0</td>\n",
       "    </tr>\n",
       "    <tr>\n",
       "      <th>6627</th>\n",
       "      <td>3588.0</td>\n",
       "      <td>959000.0</td>\n",
       "    </tr>\n",
       "    <tr>\n",
       "      <th>6628</th>\n",
       "      <td>5568.0</td>\n",
       "      <td>500000.0</td>\n",
       "    </tr>\n",
       "    <tr>\n",
       "      <th>6629</th>\n",
       "      <td>3121.0</td>\n",
       "      <td>525000.0</td>\n",
       "    </tr>\n",
       "  </tbody>\n",
       "</table>\n",
       "<p>2738 rows × 2 columns</p>\n",
       "</div>"
      ],
      "text/plain": [
       "      GROSS_SQ_FT  SALE_PRICE\n",
       "1          1587.0    458000.0\n",
       "2          1495.0    275000.0\n",
       "3          1495.0    475000.0\n",
       "4          1260.0    165000.0\n",
       "5          1516.0    289000.0\n",
       "...           ...         ...\n",
       "6625       1950.0    827000.0\n",
       "6626       3487.0    600000.0\n",
       "6627       3588.0    959000.0\n",
       "6628       5568.0    500000.0\n",
       "6629       3121.0    525000.0\n",
       "\n",
       "[2738 rows x 2 columns]"
      ]
     },
     "execution_count": 15,
     "metadata": {},
     "output_type": "execute_result"
    }
   ],
   "source": [
    "dfGross_SQ_Ft1"
   ]
  },
  {
   "cell_type": "code",
   "execution_count": 16,
   "id": "dae95537",
   "metadata": {},
   "outputs": [
    {
     "data": {
      "image/png": "[encoded data removed]",
      "text/plain": [
       "<Figure size 432x288 with 1 Axes>"
      ]
     },
     "metadata": {
      "needs_background": "light"
     },
     "output_type": "display_data"
    }
   ],
   "source": [
    "plt.scatter(dfGross_SQ_Ft1.GROSS_SQ_FT, dfGross_SQ_Ft1.SALE_PRICE)\n",
    "plt.xlabel('Square ft')\n",
    "plt.ylabel('Sale Price')\n",
    "plt.show()"
   ]
  },
  {
   "cell_type": "code",
   "execution_count": 17,
   "id": "1749a086",
   "metadata": {},
   "outputs": [],
   "source": [
    "X = dfGross_SQ_Ft1.GROSS_SQ_FT.values.reshape(-1, 1)"
   ]
  },
  {
   "cell_type": "code",
   "execution_count": 18,
   "id": "5171df4f",
   "metadata": {},
   "outputs": [
    {
     "data": {
      "text/plain": [
       "array([[1587.],\n",
       "       [1495.],\n",
       "       [1495.],\n",
       "       [1260.],\n",
       "       [1516.]])"
      ]
     },
     "execution_count": 18,
     "metadata": {},
     "output_type": "execute_result"
    }
   ],
   "source": [
    "X[:5]"
   ]
  },
  {
   "cell_type": "code",
   "execution_count": 19,
   "id": "59e46180",
   "metadata": {},
   "outputs": [
    {
     "data": {
      "text/plain": [
       "(2738, 1)"
      ]
     },
     "execution_count": 19,
     "metadata": {},
     "output_type": "execute_result"
    }
   ],
   "source": [
    "X.shape"
   ]
  },
  {
   "cell_type": "code",
   "execution_count": 20,
   "id": "d3bed5cd",
   "metadata": {},
   "outputs": [],
   "source": [
    "y = dfGross_SQ_Ft1.SALE_PRICE"
   ]
  },
  {
   "cell_type": "code",
   "execution_count": 21,
   "id": "8c193e65",
   "metadata": {},
   "outputs": [],
   "source": [
    "model = LinearRegression()"
   ]
  },
  {
   "cell_type": "code",
   "execution_count": 22,
   "id": "4949ce5e",
   "metadata": {},
   "outputs": [
    {
     "data": {
      "text/plain": [
       "LinearRegression()"
      ]
     },
     "execution_count": 22,
     "metadata": {},
     "output_type": "execute_result"
    }
   ],
   "source": [
    "model.fit(X, y)"
   ]
  },
  {
   "cell_type": "code",
   "execution_count": 23,
   "id": "d1795124",
   "metadata": {},
   "outputs": [
    {
     "name": "stdout",
     "output_type": "stream",
     "text": [
      "(2738,)\n"
     ]
    }
   ],
   "source": [
    "y_pred = model.predict(X)\n",
    "print(y_pred.shape)"
   ]
  },
  {
   "cell_type": "code",
   "execution_count": 24,
   "id": "91f8f3df",
   "metadata": {
    "scrolled": true
   },
   "outputs": [
    {
     "data": {
      "image/png": "[encoded data removed]",
      "text/plain": [
       "<Figure size 432x288 with 1 Axes>"
      ]
     },
     "metadata": {
      "needs_background": "light"
     },
     "output_type": "display_data"
    }
   ],
   "source": [
    "plt.scatter(X, y)\n",
    "plt.plot(X, y_pred, color='red')\n",
    "plt.title('Bronx Sale Price by SQ FT')\n",
    "plt.xlabel('square ft')\n",
    "plt.ylabel('Price')\n",
    "plt.xlim(0,2000000)\n",
    "plt.ylim(0,20000000)\n",
    "plt.ticklabel_format(style='plain') \n",
    "plt.xticks(range(0,2000000, 500000))\n",
    "plt.show()"
   ]
  },
  {
   "cell_type": "markdown",
   "id": "89551759",
   "metadata": {},
   "source": [
    "###### Remove Bronx Outliers "
   ]
  },
  {
   "cell_type": "code",
   "execution_count": 25,
   "id": "3245711f",
   "metadata": {},
   "outputs": [],
   "source": [
    "BronxClean1=dfGross_SQ_Ft1[(dfGross_SQ_Ft1['GROSS_SQ_FT'] <=1000000)]"
   ]
  },
  {
   "cell_type": "code",
   "execution_count": 26,
   "id": "09e0150b",
   "metadata": {},
   "outputs": [],
   "source": [
    "X = BronxClean1.GROSS_SQ_FT.values.reshape(-1, 1)"
   ]
  },
  {
   "cell_type": "code",
   "execution_count": 27,
   "id": "0b23300f",
   "metadata": {},
   "outputs": [],
   "source": [
    "y = BronxClean1.SALE_PRICE"
   ]
  },
  {
   "cell_type": "code",
   "execution_count": 28,
   "id": "e0213fd3",
   "metadata": {},
   "outputs": [],
   "source": [
    "model = LinearRegression()"
   ]
  },
  {
   "cell_type": "code",
   "execution_count": 29,
   "id": "4b0f3c13",
   "metadata": {},
   "outputs": [
    {
     "data": {
      "text/plain": [
       "LinearRegression()"
      ]
     },
     "execution_count": 29,
     "metadata": {},
     "output_type": "execute_result"
    }
   ],
   "source": [
    "model.fit(X, y)"
   ]
  },
  {
   "cell_type": "code",
   "execution_count": 30,
   "id": "6edc08b7",
   "metadata": {},
   "outputs": [
    {
     "name": "stdout",
     "output_type": "stream",
     "text": [
      "(2697,)\n"
     ]
    }
   ],
   "source": [
    "y_pred = model.predict(X)\n",
    "print(y_pred.shape)"
   ]
  },
  {
   "cell_type": "code",
   "execution_count": 31,
   "id": "536340b6",
   "metadata": {},
   "outputs": [
    {
     "data": {
      "image/png": "[encoded data removed]",
      "text/plain": [
       "<Figure size 432x288 with 1 Axes>"
      ]
     },
     "metadata": {
      "needs_background": "light"
     },
     "output_type": "display_data"
    }
   ],
   "source": [
    "plt.scatter(X, y)\n",
    "plt.plot(X, y_pred, color='red')\n",
    "plt.title('Bronx Sale Price by SQ FT')\n",
    "plt.xlabel('square ft')\n",
    "plt.ylabel('Price')\n",
    "\n",
    "plt.ticklabel_format(style='plain') \n",
    "\n",
    "plt.show()"
   ]
  },
  {
   "cell_type": "markdown",
   "id": "8190fc76",
   "metadata": {},
   "source": [
    "## Brooklyn"
   ]
  },
  {
   "cell_type": "code",
   "execution_count": 32,
   "id": "4e5eaf7a",
   "metadata": {},
   "outputs": [
    {
     "data": {
      "text/html": [
       "<div>\n",
       "<style scoped>\n",
       "    .dataframe tbody tr th:only-of-type {\n",
       "        vertical-align: middle;\n",
       "    }\n",
       "\n",
       "    .dataframe tbody tr th {\n",
       "        vertical-align: top;\n",
       "    }\n",
       "\n",
       "    .dataframe thead th {\n",
       "        text-align: right;\n",
       "    }\n",
       "</style>\n",
       "<table border=\"1\" class=\"dataframe\">\n",
       "  <thead>\n",
       "    <tr style=\"text-align: right;\">\n",
       "      <th></th>\n",
       "      <th>YEAR</th>\n",
       "      <th>BOROUGH</th>\n",
       "      <th>NEIGHBORHOOD</th>\n",
       "      <th>BUILDING_CLASS_CATEGORY</th>\n",
       "      <th>BUILDING_CLASS_AT_PRESENT</th>\n",
       "      <th>ADDRESS</th>\n",
       "      <th>TOTAL_UNITS</th>\n",
       "      <th>GROSS_SQ_FT</th>\n",
       "      <th>SALE_PRICE</th>\n",
       "    </tr>\n",
       "  </thead>\n",
       "  <tbody>\n",
       "    <tr>\n",
       "      <th>0</th>\n",
       "      <td>2020</td>\n",
       "      <td>3</td>\n",
       "      <td>BATH BEACH</td>\n",
       "      <td>01 ONE FAMILY DWELLINGS</td>\n",
       "      <td>S1</td>\n",
       "      <td>8684 15TH AVENUE</td>\n",
       "      <td>2.0</td>\n",
       "      <td>4080.0</td>\n",
       "      <td>1300000</td>\n",
       "    </tr>\n",
       "    <tr>\n",
       "      <th>1</th>\n",
       "      <td>2020</td>\n",
       "      <td>3</td>\n",
       "      <td>BATH BEACH</td>\n",
       "      <td>01 ONE FAMILY DWELLINGS</td>\n",
       "      <td>A5</td>\n",
       "      <td>14 BAY 10TH STREET</td>\n",
       "      <td>1.0</td>\n",
       "      <td>1428.0</td>\n",
       "      <td>849000</td>\n",
       "    </tr>\n",
       "    <tr>\n",
       "      <th>2</th>\n",
       "      <td>2020</td>\n",
       "      <td>3</td>\n",
       "      <td>BATH BEACH</td>\n",
       "      <td>01 ONE FAMILY DWELLINGS</td>\n",
       "      <td>A5</td>\n",
       "      <td>30 BAY 10TH STREET</td>\n",
       "      <td>1.0</td>\n",
       "      <td>1428.0</td>\n",
       "      <td>75000</td>\n",
       "    </tr>\n",
       "    <tr>\n",
       "      <th>3</th>\n",
       "      <td>2020</td>\n",
       "      <td>3</td>\n",
       "      <td>BATH BEACH</td>\n",
       "      <td>01 ONE FAMILY DWELLINGS</td>\n",
       "      <td>A9</td>\n",
       "      <td>43 BAY 11TH STREET</td>\n",
       "      <td>1.0</td>\n",
       "      <td>1052.0</td>\n",
       "      <td>0</td>\n",
       "    </tr>\n",
       "    <tr>\n",
       "      <th>4</th>\n",
       "      <td>2020</td>\n",
       "      <td>3</td>\n",
       "      <td>BATH BEACH</td>\n",
       "      <td>01 ONE FAMILY DWELLINGS</td>\n",
       "      <td>A9</td>\n",
       "      <td>8645 BAY 16TH STREET</td>\n",
       "      <td>1.0</td>\n",
       "      <td>1456.0</td>\n",
       "      <td>830000</td>\n",
       "    </tr>\n",
       "  </tbody>\n",
       "</table>\n",
       "</div>"
      ],
      "text/plain": [
       "   YEAR  BOROUGH NEIGHBORHOOD  BUILDING_CLASS_CATEGORY  \\\n",
       "0  2020        3   BATH BEACH  01 ONE FAMILY DWELLINGS   \n",
       "1  2020        3   BATH BEACH  01 ONE FAMILY DWELLINGS   \n",
       "2  2020        3   BATH BEACH  01 ONE FAMILY DWELLINGS   \n",
       "3  2020        3   BATH BEACH  01 ONE FAMILY DWELLINGS   \n",
       "4  2020        3   BATH BEACH  01 ONE FAMILY DWELLINGS   \n",
       "\n",
       "  BUILDING_CLASS_AT_PRESENT               ADDRESS  TOTAL_UNITS  GROSS_SQ_FT  \\\n",
       "0                        S1      8684 15TH AVENUE          2.0       4080.0   \n",
       "1                        A5    14 BAY 10TH STREET          1.0       1428.0   \n",
       "2                        A5    30 BAY 10TH STREET          1.0       1428.0   \n",
       "3                        A9    43 BAY 11TH STREET          1.0       1052.0   \n",
       "4                        A9  8645 BAY 16TH STREET          1.0       1456.0   \n",
       "\n",
       "   SALE_PRICE  \n",
       "0     1300000  \n",
       "1      849000  \n",
       "2       75000  \n",
       "3           0  \n",
       "4      830000  "
      ]
     },
     "execution_count": 32,
     "metadata": {},
     "output_type": "execute_result"
    }
   ],
   "source": [
    "df2 = pd.read_csv(Path('Resources/brooklyn_annual_sales20.csv'))\n",
    "df2.head()"
   ]
  },
  {
   "cell_type": "code",
   "execution_count": 33,
   "id": "176ef5af",
   "metadata": {},
   "outputs": [],
   "source": [
    "dfGross_SQ_Ft2= df2[[\"GROSS_SQ_FT\", \"SALE_PRICE\"]].copy()"
   ]
  },
  {
   "cell_type": "code",
   "execution_count": 34,
   "id": "8e0332e6",
   "metadata": {},
   "outputs": [],
   "source": [
    "dfGross_SQ_Ft2.replace(0, np.nan, inplace=True)"
   ]
  },
  {
   "cell_type": "code",
   "execution_count": 35,
   "id": "d5a35cf6",
   "metadata": {},
   "outputs": [],
   "source": [
    "dfGross_SQ_Ft2.dropna(inplace=True)"
   ]
  },
  {
   "cell_type": "code",
   "execution_count": 36,
   "id": "b9781680",
   "metadata": {},
   "outputs": [
    {
     "data": {
      "text/html": [
       "<div>\n",
       "<style scoped>\n",
       "    .dataframe tbody tr th:only-of-type {\n",
       "        vertical-align: middle;\n",
       "    }\n",
       "\n",
       "    .dataframe tbody tr th {\n",
       "        vertical-align: top;\n",
       "    }\n",
       "\n",
       "    .dataframe thead th {\n",
       "        text-align: right;\n",
       "    }\n",
       "</style>\n",
       "<table border=\"1\" class=\"dataframe\">\n",
       "  <thead>\n",
       "    <tr style=\"text-align: right;\">\n",
       "      <th></th>\n",
       "      <th>GROSS_SQ_FT</th>\n",
       "      <th>SALE_PRICE</th>\n",
       "    </tr>\n",
       "  </thead>\n",
       "  <tbody>\n",
       "    <tr>\n",
       "      <th>0</th>\n",
       "      <td>4080.0</td>\n",
       "      <td>1300000.0</td>\n",
       "    </tr>\n",
       "    <tr>\n",
       "      <th>1</th>\n",
       "      <td>1428.0</td>\n",
       "      <td>849000.0</td>\n",
       "    </tr>\n",
       "    <tr>\n",
       "      <th>2</th>\n",
       "      <td>1428.0</td>\n",
       "      <td>75000.0</td>\n",
       "    </tr>\n",
       "    <tr>\n",
       "      <th>4</th>\n",
       "      <td>1456.0</td>\n",
       "      <td>830000.0</td>\n",
       "    </tr>\n",
       "    <tr>\n",
       "      <th>6</th>\n",
       "      <td>2106.0</td>\n",
       "      <td>1188000.0</td>\n",
       "    </tr>\n",
       "    <tr>\n",
       "      <th>...</th>\n",
       "      <td>...</td>\n",
       "      <td>...</td>\n",
       "    </tr>\n",
       "    <tr>\n",
       "      <th>19881</th>\n",
       "      <td>9037.0</td>\n",
       "      <td>9400000.0</td>\n",
       "    </tr>\n",
       "    <tr>\n",
       "      <th>19883</th>\n",
       "      <td>10880.0</td>\n",
       "      <td>2050000.0</td>\n",
       "    </tr>\n",
       "    <tr>\n",
       "      <th>19884</th>\n",
       "      <td>1632.0</td>\n",
       "      <td>950000.0</td>\n",
       "    </tr>\n",
       "    <tr>\n",
       "      <th>19888</th>\n",
       "      <td>9700.0</td>\n",
       "      <td>7050000.0</td>\n",
       "    </tr>\n",
       "    <tr>\n",
       "      <th>19890</th>\n",
       "      <td>1200.0</td>\n",
       "      <td>7050000.0</td>\n",
       "    </tr>\n",
       "  </tbody>\n",
       "</table>\n",
       "<p>6116 rows × 2 columns</p>\n",
       "</div>"
      ],
      "text/plain": [
       "       GROSS_SQ_FT  SALE_PRICE\n",
       "0           4080.0   1300000.0\n",
       "1           1428.0    849000.0\n",
       "2           1428.0     75000.0\n",
       "4           1456.0    830000.0\n",
       "6           2106.0   1188000.0\n",
       "...            ...         ...\n",
       "19881       9037.0   9400000.0\n",
       "19883      10880.0   2050000.0\n",
       "19884       1632.0    950000.0\n",
       "19888       9700.0   7050000.0\n",
       "19890       1200.0   7050000.0\n",
       "\n",
       "[6116 rows x 2 columns]"
      ]
     },
     "execution_count": 36,
     "metadata": {},
     "output_type": "execute_result"
    }
   ],
   "source": [
    "dfGross_SQ_Ft2"
   ]
  },
  {
   "cell_type": "code",
   "execution_count": 37,
   "id": "98a6c127",
   "metadata": {},
   "outputs": [
    {
     "data": {
      "image/png": "[encoded data removed]",
      "text/plain": [
       "<Figure size 432x288 with 1 Axes>"
      ]
     },
     "metadata": {
      "needs_background": "light"
     },
     "output_type": "display_data"
    }
   ],
   "source": [
    "plt.scatter(dfGross_SQ_Ft2.GROSS_SQ_FT, dfGross_SQ_Ft2.SALE_PRICE)\n",
    "plt.xlabel('Square ft')\n",
    "plt.ylabel('Sale Price')\n",
    "plt.show()"
   ]
  },
  {
   "cell_type": "code",
   "execution_count": 38,
   "id": "d7ec1025",
   "metadata": {},
   "outputs": [],
   "source": [
    "X = dfGross_SQ_Ft2.GROSS_SQ_FT.values.reshape(-1, 1)"
   ]
  },
  {
   "cell_type": "code",
   "execution_count": 39,
   "id": "0560732a",
   "metadata": {},
   "outputs": [
    {
     "data": {
      "text/plain": [
       "array([[4080.],\n",
       "       [1428.],\n",
       "       [1428.],\n",
       "       [1456.],\n",
       "       [2106.]])"
      ]
     },
     "execution_count": 39,
     "metadata": {},
     "output_type": "execute_result"
    }
   ],
   "source": [
    "X[:5]"
   ]
  },
  {
   "cell_type": "code",
   "execution_count": 40,
   "id": "4fb160da",
   "metadata": {},
   "outputs": [
    {
     "data": {
      "text/plain": [
       "(6116, 1)"
      ]
     },
     "execution_count": 40,
     "metadata": {},
     "output_type": "execute_result"
    }
   ],
   "source": [
    "X.shape"
   ]
  },
  {
   "cell_type": "code",
   "execution_count": 41,
   "id": "ece08cd4",
   "metadata": {},
   "outputs": [],
   "source": [
    "y = dfGross_SQ_Ft2.SALE_PRICE"
   ]
  },
  {
   "cell_type": "code",
   "execution_count": 42,
   "id": "4cada475",
   "metadata": {},
   "outputs": [],
   "source": [
    "model = LinearRegression()"
   ]
  },
  {
   "cell_type": "code",
   "execution_count": 43,
   "id": "2b916d4d",
   "metadata": {},
   "outputs": [
    {
     "data": {
      "text/plain": [
       "LinearRegression()"
      ]
     },
     "execution_count": 43,
     "metadata": {},
     "output_type": "execute_result"
    }
   ],
   "source": [
    "model.fit(X, y)"
   ]
  },
  {
   "cell_type": "code",
   "execution_count": 44,
   "id": "2c5a3d53",
   "metadata": {},
   "outputs": [
    {
     "name": "stdout",
     "output_type": "stream",
     "text": [
      "(6116,)\n"
     ]
    }
   ],
   "source": [
    "y_pred = model.predict(X)\n",
    "print(y_pred.shape)"
   ]
  },
  {
   "cell_type": "code",
   "execution_count": 45,
   "id": "a7ce3007",
   "metadata": {},
   "outputs": [
    {
     "data": {
      "image/png": "[encoded data removed]",
      "text/plain": [
       "<Figure size 432x288 with 1 Axes>"
      ]
     },
     "metadata": {
      "needs_background": "light"
     },
     "output_type": "display_data"
    }
   ],
   "source": [
    "plt.scatter(X, y)\n",
    "plt.plot(X, y_pred, color='red')\n",
    "plt.title('Brooklyn Sale Price by SQ FT')\n",
    "plt.xlabel('square ft')\n",
    "plt.ylabel('Price')\n",
    "plt.show()"
   ]
  },
  {
   "cell_type": "markdown",
   "id": "370583c0",
   "metadata": {},
   "source": [
    "###### Remove Brooklyn Outliers "
   ]
  },
  {
   "cell_type": "code",
   "execution_count": 46,
   "id": "d1930005",
   "metadata": {},
   "outputs": [],
   "source": [
    "BrooklynClean2=dfGross_SQ_Ft2[(dfGross_SQ_Ft2['GROSS_SQ_FT'] <=300000)]"
   ]
  },
  {
   "cell_type": "code",
   "execution_count": 47,
   "id": "24d76c33",
   "metadata": {},
   "outputs": [],
   "source": [
    "X = BrooklynClean2.GROSS_SQ_FT.values.reshape(-1, 1)"
   ]
  },
  {
   "cell_type": "code",
   "execution_count": 48,
   "id": "01f5b17b",
   "metadata": {},
   "outputs": [],
   "source": [
    "y = BrooklynClean2.SALE_PRICE"
   ]
  },
  {
   "cell_type": "code",
   "execution_count": 49,
   "id": "9326349c",
   "metadata": {},
   "outputs": [],
   "source": [
    "model = LinearRegression()"
   ]
  },
  {
   "cell_type": "code",
   "execution_count": 50,
   "id": "0ee5ea3c",
   "metadata": {},
   "outputs": [
    {
     "data": {
      "text/plain": [
       "LinearRegression()"
      ]
     },
     "execution_count": 50,
     "metadata": {},
     "output_type": "execute_result"
    }
   ],
   "source": [
    "model.fit(X, y)"
   ]
  },
  {
   "cell_type": "code",
   "execution_count": 51,
   "id": "4af3ba36",
   "metadata": {},
   "outputs": [
    {
     "name": "stdout",
     "output_type": "stream",
     "text": [
      "(6044,)\n"
     ]
    }
   ],
   "source": [
    "y_pred = model.predict(X)\n",
    "print(y_pred.shape)"
   ]
  },
  {
   "cell_type": "code",
   "execution_count": 52,
   "id": "3fc68b74",
   "metadata": {},
   "outputs": [
    {
     "data": {
      "image/png": "[encoded data removed]",
      "text/plain": [
       "<Figure size 432x288 with 1 Axes>"
      ]
     },
     "metadata": {
      "needs_background": "light"
     },
     "output_type": "display_data"
    }
   ],
   "source": [
    "plt.scatter(X, y)\n",
    "plt.plot(X, y_pred, color='red')\n",
    "plt.title('Brooklyn Sale Price by SQ FT')\n",
    "plt.xlabel('square ft')\n",
    "plt.ylabel('Price')\n",
    "\n",
    "plt.ticklabel_format(style='plain') \n",
    "\n",
    "plt.show()"
   ]
  },
  {
   "cell_type": "markdown",
   "id": "34be3897",
   "metadata": {},
   "source": [
    "## Manhattan"
   ]
  },
  {
   "cell_type": "code",
   "execution_count": 53,
   "id": "eacdfda0",
   "metadata": {},
   "outputs": [
    {
     "data": {
      "text/html": [
       "<div>\n",
       "<style scoped>\n",
       "    .dataframe tbody tr th:only-of-type {\n",
       "        vertical-align: middle;\n",
       "    }\n",
       "\n",
       "    .dataframe tbody tr th {\n",
       "        vertical-align: top;\n",
       "    }\n",
       "\n",
       "    .dataframe thead th {\n",
       "        text-align: right;\n",
       "    }\n",
       "</style>\n",
       "<table border=\"1\" class=\"dataframe\">\n",
       "  <thead>\n",
       "    <tr style=\"text-align: right;\">\n",
       "      <th></th>\n",
       "      <th>YEAR</th>\n",
       "      <th>BOROUGH</th>\n",
       "      <th>NEIGHBORHOOD</th>\n",
       "      <th>BUILDING_CLASS_CATEGORY</th>\n",
       "      <th>BUILDING_CLASS_AT_PRESENT</th>\n",
       "      <th>ADDRESS</th>\n",
       "      <th>TOTAL_UNITS</th>\n",
       "      <th>GROSS_SQ_FT</th>\n",
       "      <th>SALE_PRICE</th>\n",
       "    </tr>\n",
       "  </thead>\n",
       "  <tbody>\n",
       "    <tr>\n",
       "      <th>0</th>\n",
       "      <td>2020</td>\n",
       "      <td>1</td>\n",
       "      <td>ALPHABET CITY</td>\n",
       "      <td>32 HOSPITAL AND HEALTH FACILITIES</td>\n",
       "      <td>I5</td>\n",
       "      <td>538-542 EAST 13TH STREET</td>\n",
       "      <td>1</td>\n",
       "      <td>6681</td>\n",
       "      <td>0</td>\n",
       "    </tr>\n",
       "    <tr>\n",
       "      <th>1</th>\n",
       "      <td>2020</td>\n",
       "      <td>1</td>\n",
       "      <td>ALPHABET CITY</td>\n",
       "      <td>37 RELIGIOUS FACILITIES</td>\n",
       "      <td>M1</td>\n",
       "      <td>345 EAST 4TH STREET</td>\n",
       "      <td>1</td>\n",
       "      <td>3496</td>\n",
       "      <td>0</td>\n",
       "    </tr>\n",
       "    <tr>\n",
       "      <th>2</th>\n",
       "      <td>2020</td>\n",
       "      <td>1</td>\n",
       "      <td>ALPHABET CITY</td>\n",
       "      <td>47 CONDO NON-BUSINESS STORAGE</td>\n",
       "      <td>RS</td>\n",
       "      <td>229 EAST 2ND STREET, STOR</td>\n",
       "      <td>1</td>\n",
       "      <td>0</td>\n",
       "      <td>1900000</td>\n",
       "    </tr>\n",
       "    <tr>\n",
       "      <th>3</th>\n",
       "      <td>2020</td>\n",
       "      <td>1</td>\n",
       "      <td>ALPHABET CITY</td>\n",
       "      <td>47 CONDO NON-BUSINESS STORAGE</td>\n",
       "      <td>RS</td>\n",
       "      <td>229 EAST 2ND STREET, STOR</td>\n",
       "      <td>1</td>\n",
       "      <td>0</td>\n",
       "      <td>1630000</td>\n",
       "    </tr>\n",
       "    <tr>\n",
       "      <th>4</th>\n",
       "      <td>2020</td>\n",
       "      <td>1</td>\n",
       "      <td>ALPHABET CITY</td>\n",
       "      <td>47 CONDO NON-BUSINESS STORAGE</td>\n",
       "      <td>RS</td>\n",
       "      <td>631 EAST 9TH STREET, S1</td>\n",
       "      <td>1</td>\n",
       "      <td>0</td>\n",
       "      <td>1350000</td>\n",
       "    </tr>\n",
       "  </tbody>\n",
       "</table>\n",
       "</div>"
      ],
      "text/plain": [
       "   YEAR  BOROUGH   NEIGHBORHOOD            BUILDING_CLASS_CATEGORY  \\\n",
       "0  2020        1  ALPHABET CITY  32 HOSPITAL AND HEALTH FACILITIES   \n",
       "1  2020        1  ALPHABET CITY            37 RELIGIOUS FACILITIES   \n",
       "2  2020        1  ALPHABET CITY      47 CONDO NON-BUSINESS STORAGE   \n",
       "3  2020        1  ALPHABET CITY      47 CONDO NON-BUSINESS STORAGE   \n",
       "4  2020        1  ALPHABET CITY      47 CONDO NON-BUSINESS STORAGE   \n",
       "\n",
       "  BUILDING_CLASS_AT_PRESENT                    ADDRESS  TOTAL_UNITS  \\\n",
       "0                        I5   538-542 EAST 13TH STREET            1   \n",
       "1                        M1        345 EAST 4TH STREET            1   \n",
       "2                        RS  229 EAST 2ND STREET, STOR            1   \n",
       "3                        RS  229 EAST 2ND STREET, STOR            1   \n",
       "4                        RS    631 EAST 9TH STREET, S1            1   \n",
       "\n",
       "   GROSS_SQ_FT  SALE_PRICE  \n",
       "0         6681           0  \n",
       "1         3496           0  \n",
       "2            0     1900000  \n",
       "3            0     1630000  \n",
       "4            0     1350000  "
      ]
     },
     "execution_count": 53,
     "metadata": {},
     "output_type": "execute_result"
    }
   ],
   "source": [
    "df3 = pd.read_csv(Path('Resources/manhattan_annual_sales20.csv'))\n",
    "df3.head()"
   ]
  },
  {
   "cell_type": "code",
   "execution_count": 54,
   "id": "a618e1aa",
   "metadata": {},
   "outputs": [],
   "source": [
    "dfGross_SQ_Ft3= df3[[\"GROSS_SQ_FT\", \"SALE_PRICE\"]].copy()"
   ]
  },
  {
   "cell_type": "code",
   "execution_count": 55,
   "id": "0c9a19b3",
   "metadata": {},
   "outputs": [],
   "source": [
    "dfGross_SQ_Ft3.replace(0, np.nan, inplace=True)"
   ]
  },
  {
   "cell_type": "code",
   "execution_count": 56,
   "id": "ada4f1be",
   "metadata": {},
   "outputs": [],
   "source": [
    "dfGross_SQ_Ft3.dropna(inplace=True)"
   ]
  },
  {
   "cell_type": "code",
   "execution_count": 57,
   "id": "433247fa",
   "metadata": {},
   "outputs": [
    {
     "data": {
      "text/html": [
       "<div>\n",
       "<style scoped>\n",
       "    .dataframe tbody tr th:only-of-type {\n",
       "        vertical-align: middle;\n",
       "    }\n",
       "\n",
       "    .dataframe tbody tr th {\n",
       "        vertical-align: top;\n",
       "    }\n",
       "\n",
       "    .dataframe thead th {\n",
       "        text-align: right;\n",
       "    }\n",
       "</style>\n",
       "<table border=\"1\" class=\"dataframe\">\n",
       "  <thead>\n",
       "    <tr style=\"text-align: right;\">\n",
       "      <th></th>\n",
       "      <th>GROSS_SQ_FT</th>\n",
       "      <th>SALE_PRICE</th>\n",
       "    </tr>\n",
       "  </thead>\n",
       "  <tbody>\n",
       "    <tr>\n",
       "      <th>8</th>\n",
       "      <td>17940.0</td>\n",
       "      <td>12333333.0</td>\n",
       "    </tr>\n",
       "    <tr>\n",
       "      <th>9</th>\n",
       "      <td>8700.0</td>\n",
       "      <td>6166667.0</td>\n",
       "    </tr>\n",
       "    <tr>\n",
       "      <th>13</th>\n",
       "      <td>35600.0</td>\n",
       "      <td>3607000.0</td>\n",
       "    </tr>\n",
       "    <tr>\n",
       "      <th>14</th>\n",
       "      <td>35600.0</td>\n",
       "      <td>3625000.0</td>\n",
       "    </tr>\n",
       "    <tr>\n",
       "      <th>17</th>\n",
       "      <td>3630.0</td>\n",
       "      <td>9000000.0</td>\n",
       "    </tr>\n",
       "    <tr>\n",
       "      <th>...</th>\n",
       "      <td>...</td>\n",
       "      <td>...</td>\n",
       "    </tr>\n",
       "    <tr>\n",
       "      <th>7388</th>\n",
       "      <td>81339.0</td>\n",
       "      <td>37750000.0</td>\n",
       "    </tr>\n",
       "    <tr>\n",
       "      <th>7392</th>\n",
       "      <td>302399.0</td>\n",
       "      <td>93836434.0</td>\n",
       "    </tr>\n",
       "    <tr>\n",
       "      <th>7393</th>\n",
       "      <td>407555.0</td>\n",
       "      <td>380600000.0</td>\n",
       "    </tr>\n",
       "    <tr>\n",
       "      <th>7394</th>\n",
       "      <td>657592.0</td>\n",
       "      <td>423957600.0</td>\n",
       "    </tr>\n",
       "    <tr>\n",
       "      <th>7395</th>\n",
       "      <td>8942176.0</td>\n",
       "      <td>600000.0</td>\n",
       "    </tr>\n",
       "  </tbody>\n",
       "</table>\n",
       "<p>705 rows × 2 columns</p>\n",
       "</div>"
      ],
      "text/plain": [
       "      GROSS_SQ_FT   SALE_PRICE\n",
       "8         17940.0   12333333.0\n",
       "9          8700.0    6166667.0\n",
       "13        35600.0    3607000.0\n",
       "14        35600.0    3625000.0\n",
       "17         3630.0    9000000.0\n",
       "...           ...          ...\n",
       "7388      81339.0   37750000.0\n",
       "7392     302399.0   93836434.0\n",
       "7393     407555.0  380600000.0\n",
       "7394     657592.0  423957600.0\n",
       "7395    8942176.0     600000.0\n",
       "\n",
       "[705 rows x 2 columns]"
      ]
     },
     "execution_count": 57,
     "metadata": {},
     "output_type": "execute_result"
    }
   ],
   "source": [
    "dfGross_SQ_Ft3"
   ]
  },
  {
   "cell_type": "code",
   "execution_count": 58,
   "id": "2b1f0988",
   "metadata": {},
   "outputs": [
    {
     "data": {
      "image/png": "[encoded data removed]",
      "text/plain": [
       "<Figure size 432x288 with 1 Axes>"
      ]
     },
     "metadata": {
      "needs_background": "light"
     },
     "output_type": "display_data"
    }
   ],
   "source": [
    "plt.scatter(df3.GROSS_SQ_FT, df3.SALE_PRICE)\n",
    "plt.xlabel('Square ft')\n",
    "plt.ylabel('Sale Price')\n",
    "plt.show()"
   ]
  },
  {
   "cell_type": "code",
   "execution_count": 59,
   "id": "479e9501",
   "metadata": {},
   "outputs": [],
   "source": [
    "X = dfGross_SQ_Ft3.GROSS_SQ_FT.values.reshape(-1, 1)"
   ]
  },
  {
   "cell_type": "code",
   "execution_count": 60,
   "id": "4c3d8a72",
   "metadata": {},
   "outputs": [
    {
     "data": {
      "text/plain": [
       "array([[17940.],\n",
       "       [ 8700.],\n",
       "       [35600.],\n",
       "       [35600.],\n",
       "       [ 3630.]])"
      ]
     },
     "execution_count": 60,
     "metadata": {},
     "output_type": "execute_result"
    }
   ],
   "source": [
    "X[:5]"
   ]
  },
  {
   "cell_type": "code",
   "execution_count": 61,
   "id": "fb9d8466",
   "metadata": {},
   "outputs": [
    {
     "data": {
      "text/plain": [
       "(705, 1)"
      ]
     },
     "execution_count": 61,
     "metadata": {},
     "output_type": "execute_result"
    }
   ],
   "source": [
    "X.shape"
   ]
  },
  {
   "cell_type": "code",
   "execution_count": 62,
   "id": "274d55df",
   "metadata": {},
   "outputs": [],
   "source": [
    "y = dfGross_SQ_Ft3.SALE_PRICE"
   ]
  },
  {
   "cell_type": "code",
   "execution_count": 63,
   "id": "0cbad143",
   "metadata": {},
   "outputs": [],
   "source": [
    "model = LinearRegression()"
   ]
  },
  {
   "cell_type": "code",
   "execution_count": 64,
   "id": "d634ed3d",
   "metadata": {},
   "outputs": [
    {
     "data": {
      "text/plain": [
       "LinearRegression()"
      ]
     },
     "execution_count": 64,
     "metadata": {},
     "output_type": "execute_result"
    }
   ],
   "source": [
    "model.fit(X, y)"
   ]
  },
  {
   "cell_type": "code",
   "execution_count": 65,
   "id": "d488b84a",
   "metadata": {},
   "outputs": [
    {
     "name": "stdout",
     "output_type": "stream",
     "text": [
      "(705,)\n"
     ]
    }
   ],
   "source": [
    "y_pred = model.predict(X)\n",
    "print(y_pred.shape)"
   ]
  },
  {
   "cell_type": "code",
   "execution_count": 66,
   "id": "6340d04e",
   "metadata": {},
   "outputs": [
    {
     "data": {
      "image/png": "[encoded data removed]",
      "text/plain": [
       "<Figure size 432x288 with 1 Axes>"
      ]
     },
     "metadata": {
      "needs_background": "light"
     },
     "output_type": "display_data"
    }
   ],
   "source": [
    "plt.scatter(X, y)\n",
    "plt.plot(X, y_pred, color='red')\n",
    "plt.title('Manhattan Sale Price by SQ FT')\n",
    "plt.xlabel('square ft')\n",
    "plt.ylabel('Price')\n",
    "plt.show()"
   ]
  },
  {
   "cell_type": "markdown",
   "id": "499bb493",
   "metadata": {},
   "source": [
    "###### Remove Manhattan Outliers"
   ]
  },
  {
   "cell_type": "code",
   "execution_count": 67,
   "id": "ceaaace1",
   "metadata": {},
   "outputs": [],
   "source": [
    "ManhattanClean3=dfGross_SQ_Ft3[(dfGross_SQ_Ft3['GROSS_SQ_FT'] <=300000)]"
   ]
  },
  {
   "cell_type": "code",
   "execution_count": 68,
   "id": "bab98ad7",
   "metadata": {},
   "outputs": [],
   "source": [
    "X = ManhattanClean3.GROSS_SQ_FT.values.reshape(-1, 1)"
   ]
  },
  {
   "cell_type": "code",
   "execution_count": 69,
   "id": "5e4a43bc",
   "metadata": {},
   "outputs": [],
   "source": [
    "y = ManhattanClean3.SALE_PRICE"
   ]
  },
  {
   "cell_type": "code",
   "execution_count": 70,
   "id": "9fb21e46",
   "metadata": {},
   "outputs": [],
   "source": [
    "model = LinearRegression()"
   ]
  },
  {
   "cell_type": "code",
   "execution_count": 71,
   "id": "4a18b71b",
   "metadata": {},
   "outputs": [
    {
     "data": {
      "text/plain": [
       "LinearRegression()"
      ]
     },
     "execution_count": 71,
     "metadata": {},
     "output_type": "execute_result"
    }
   ],
   "source": [
    "model.fit(X, y)"
   ]
  },
  {
   "cell_type": "code",
   "execution_count": 72,
   "id": "2a298dae",
   "metadata": {},
   "outputs": [
    {
     "name": "stdout",
     "output_type": "stream",
     "text": [
      "(677,)\n"
     ]
    }
   ],
   "source": [
    "y_pred = model.predict(X)\n",
    "print(y_pred.shape)"
   ]
  },
  {
   "cell_type": "code",
   "execution_count": 73,
   "id": "804e085f",
   "metadata": {},
   "outputs": [
    {
     "data": {
      "image/png": "[encoded data removed]",
      "text/plain": [
       "<Figure size 432x288 with 1 Axes>"
      ]
     },
     "metadata": {
      "needs_background": "light"
     },
     "output_type": "display_data"
    }
   ],
   "source": [
    "plt.scatter(X, y)\n",
    "plt.plot(X, y_pred, color='red')\n",
    "plt.title('Manhattan Sale Price by SQ FT')\n",
    "plt.xlabel('square ft')\n",
    "plt.ylabel('Price')\n",
    "\n",
    "plt.ticklabel_format(style='plain') \n",
    "\n",
    "plt.show()"
   ]
  },
  {
   "cell_type": "markdown",
   "id": "93f41393",
   "metadata": {},
   "source": [
    "## Queens"
   ]
  },
  {
   "cell_type": "code",
   "execution_count": 74,
   "id": "dded290c",
   "metadata": {},
   "outputs": [
    {
     "data": {
      "text/html": [
       "<div>\n",
       "<style scoped>\n",
       "    .dataframe tbody tr th:only-of-type {\n",
       "        vertical-align: middle;\n",
       "    }\n",
       "\n",
       "    .dataframe tbody tr th {\n",
       "        vertical-align: top;\n",
       "    }\n",
       "\n",
       "    .dataframe thead th {\n",
       "        text-align: right;\n",
       "    }\n",
       "</style>\n",
       "<table border=\"1\" class=\"dataframe\">\n",
       "  <thead>\n",
       "    <tr style=\"text-align: right;\">\n",
       "      <th></th>\n",
       "      <th>YEAR</th>\n",
       "      <th>BOROUGH</th>\n",
       "      <th>NEIGHBORHOOD</th>\n",
       "      <th>BUILDING_CLASS_CATEGORY</th>\n",
       "      <th>BUILDING_CLASS_AT_PRESENT</th>\n",
       "      <th>ADDRESS</th>\n",
       "      <th>TOTAL_UNITS</th>\n",
       "      <th>GROSS_SQ_FT</th>\n",
       "      <th>SALE_PRICE</th>\n",
       "    </tr>\n",
       "  </thead>\n",
       "  <tbody>\n",
       "    <tr>\n",
       "      <th>0</th>\n",
       "      <td>2020</td>\n",
       "      <td>4</td>\n",
       "      <td>AIRPORT JFK</td>\n",
       "      <td>39 TRANSPORTATION FACILITIES</td>\n",
       "      <td>V7</td>\n",
       "      <td>N/A ROCKAWAY BLVD</td>\n",
       "      <td>0.0</td>\n",
       "      <td>0.0</td>\n",
       "      <td>4121000</td>\n",
       "    </tr>\n",
       "    <tr>\n",
       "      <th>1</th>\n",
       "      <td>2020</td>\n",
       "      <td>4</td>\n",
       "      <td>AIRPORT LA GUARDIA</td>\n",
       "      <td>01 ONE FAMILY DWELLINGS</td>\n",
       "      <td>A5</td>\n",
       "      <td>19-62 81ST STREET</td>\n",
       "      <td>1.0</td>\n",
       "      <td>1224.0</td>\n",
       "      <td>584569</td>\n",
       "    </tr>\n",
       "    <tr>\n",
       "      <th>2</th>\n",
       "      <td>2020</td>\n",
       "      <td>4</td>\n",
       "      <td>AIRPORT LA GUARDIA</td>\n",
       "      <td>12 CONDOS - WALKUP APARTMENTS</td>\n",
       "      <td>R2</td>\n",
       "      <td>19-37 80TH STREET, 1</td>\n",
       "      <td>1.0</td>\n",
       "      <td>0.0</td>\n",
       "      <td>420000</td>\n",
       "    </tr>\n",
       "    <tr>\n",
       "      <th>3</th>\n",
       "      <td>2020</td>\n",
       "      <td>4</td>\n",
       "      <td>ARVERNE</td>\n",
       "      <td>01 ONE FAMILY DWELLINGS</td>\n",
       "      <td>A5</td>\n",
       "      <td>3-20 BEACH 41 STREET</td>\n",
       "      <td>1.0</td>\n",
       "      <td>1476.0</td>\n",
       "      <td>300000</td>\n",
       "    </tr>\n",
       "    <tr>\n",
       "      <th>4</th>\n",
       "      <td>2020</td>\n",
       "      <td>4</td>\n",
       "      <td>ARVERNE</td>\n",
       "      <td>01 ONE FAMILY DWELLINGS</td>\n",
       "      <td>A5</td>\n",
       "      <td>336 BEACH 41ST STREET</td>\n",
       "      <td>1.0</td>\n",
       "      <td>1350.0</td>\n",
       "      <td>360000</td>\n",
       "    </tr>\n",
       "  </tbody>\n",
       "</table>\n",
       "</div>"
      ],
      "text/plain": [
       "   YEAR  BOROUGH        NEIGHBORHOOD        BUILDING_CLASS_CATEGORY  \\\n",
       "0  2020        4         AIRPORT JFK   39 TRANSPORTATION FACILITIES   \n",
       "1  2020        4  AIRPORT LA GUARDIA        01 ONE FAMILY DWELLINGS   \n",
       "2  2020        4  AIRPORT LA GUARDIA  12 CONDOS - WALKUP APARTMENTS   \n",
       "3  2020        4             ARVERNE        01 ONE FAMILY DWELLINGS   \n",
       "4  2020        4             ARVERNE        01 ONE FAMILY DWELLINGS   \n",
       "\n",
       "  BUILDING_CLASS_AT_PRESENT                ADDRESS  TOTAL_UNITS  GROSS_SQ_FT  \\\n",
       "0                        V7      N/A ROCKAWAY BLVD          0.0          0.0   \n",
       "1                        A5      19-62 81ST STREET          1.0       1224.0   \n",
       "2                        R2   19-37 80TH STREET, 1          1.0          0.0   \n",
       "3                        A5   3-20 BEACH 41 STREET          1.0       1476.0   \n",
       "4                        A5  336 BEACH 41ST STREET          1.0       1350.0   \n",
       "\n",
       "   SALE_PRICE  \n",
       "0     4121000  \n",
       "1      584569  \n",
       "2      420000  \n",
       "3      300000  \n",
       "4      360000  "
      ]
     },
     "execution_count": 74,
     "metadata": {},
     "output_type": "execute_result"
    }
   ],
   "source": [
    "df4 = pd.read_csv(Path('Resources/queens_annual_sales20.csv'))\n",
    "df4.head()"
   ]
  },
  {
   "cell_type": "code",
   "execution_count": 75,
   "id": "cc4e9fe4",
   "metadata": {},
   "outputs": [],
   "source": [
    "dfGross_SQ_Ft4= df4[[\"GROSS_SQ_FT\", \"SALE_PRICE\"]].copy()"
   ]
  },
  {
   "cell_type": "code",
   "execution_count": 76,
   "id": "4f93796e",
   "metadata": {},
   "outputs": [],
   "source": [
    "dfGross_SQ_Ft4.replace(0, np.nan, inplace=True)"
   ]
  },
  {
   "cell_type": "code",
   "execution_count": 77,
   "id": "d5762f9f",
   "metadata": {},
   "outputs": [],
   "source": [
    "dfGross_SQ_Ft4.dropna(inplace=True)"
   ]
  },
  {
   "cell_type": "code",
   "execution_count": 78,
   "id": "479cff7a",
   "metadata": {},
   "outputs": [
    {
     "data": {
      "text/html": [
       "<div>\n",
       "<style scoped>\n",
       "    .dataframe tbody tr th:only-of-type {\n",
       "        vertical-align: middle;\n",
       "    }\n",
       "\n",
       "    .dataframe tbody tr th {\n",
       "        vertical-align: top;\n",
       "    }\n",
       "\n",
       "    .dataframe thead th {\n",
       "        text-align: right;\n",
       "    }\n",
       "</style>\n",
       "<table border=\"1\" class=\"dataframe\">\n",
       "  <thead>\n",
       "    <tr style=\"text-align: right;\">\n",
       "      <th></th>\n",
       "      <th>GROSS_SQ_FT</th>\n",
       "      <th>SALE_PRICE</th>\n",
       "    </tr>\n",
       "  </thead>\n",
       "  <tbody>\n",
       "    <tr>\n",
       "      <th>1</th>\n",
       "      <td>1224.0</td>\n",
       "      <td>584569.0</td>\n",
       "    </tr>\n",
       "    <tr>\n",
       "      <th>3</th>\n",
       "      <td>1476.0</td>\n",
       "      <td>300000.0</td>\n",
       "    </tr>\n",
       "    <tr>\n",
       "      <th>4</th>\n",
       "      <td>1350.0</td>\n",
       "      <td>360000.0</td>\n",
       "    </tr>\n",
       "    <tr>\n",
       "      <th>5</th>\n",
       "      <td>1332.0</td>\n",
       "      <td>465000.0</td>\n",
       "    </tr>\n",
       "    <tr>\n",
       "      <th>6</th>\n",
       "      <td>1224.0</td>\n",
       "      <td>235000.0</td>\n",
       "    </tr>\n",
       "    <tr>\n",
       "      <th>...</th>\n",
       "      <td>...</td>\n",
       "      <td>...</td>\n",
       "    </tr>\n",
       "    <tr>\n",
       "      <th>21682</th>\n",
       "      <td>10000.0</td>\n",
       "      <td>3775000.0</td>\n",
       "    </tr>\n",
       "    <tr>\n",
       "      <th>21683</th>\n",
       "      <td>5144.0</td>\n",
       "      <td>4131000.0</td>\n",
       "    </tr>\n",
       "    <tr>\n",
       "      <th>21685</th>\n",
       "      <td>2025.0</td>\n",
       "      <td>1425000.0</td>\n",
       "    </tr>\n",
       "    <tr>\n",
       "      <th>21686</th>\n",
       "      <td>16800.0</td>\n",
       "      <td>6500000.0</td>\n",
       "    </tr>\n",
       "    <tr>\n",
       "      <th>21691</th>\n",
       "      <td>10000.0</td>\n",
       "      <td>1000000.0</td>\n",
       "    </tr>\n",
       "  </tbody>\n",
       "</table>\n",
       "<p>8282 rows × 2 columns</p>\n",
       "</div>"
      ],
      "text/plain": [
       "       GROSS_SQ_FT  SALE_PRICE\n",
       "1           1224.0    584569.0\n",
       "3           1476.0    300000.0\n",
       "4           1350.0    360000.0\n",
       "5           1332.0    465000.0\n",
       "6           1224.0    235000.0\n",
       "...            ...         ...\n",
       "21682      10000.0   3775000.0\n",
       "21683       5144.0   4131000.0\n",
       "21685       2025.0   1425000.0\n",
       "21686      16800.0   6500000.0\n",
       "21691      10000.0   1000000.0\n",
       "\n",
       "[8282 rows x 2 columns]"
      ]
     },
     "execution_count": 78,
     "metadata": {},
     "output_type": "execute_result"
    }
   ],
   "source": [
    "dfGross_SQ_Ft4"
   ]
  },
  {
   "cell_type": "code",
   "execution_count": 79,
   "id": "3d1c825e",
   "metadata": {},
   "outputs": [
    {
     "data": {
      "image/png": "[encoded data removed]",
      "text/plain": [
       "<Figure size 432x288 with 1 Axes>"
      ]
     },
     "metadata": {
      "needs_background": "light"
     },
     "output_type": "display_data"
    }
   ],
   "source": [
    "plt.scatter(df4.GROSS_SQ_FT, df4.SALE_PRICE)\n",
    "plt.xlabel('Square ft')\n",
    "plt.ylabel('Sale Price')\n",
    "plt.show()"
   ]
  },
  {
   "cell_type": "code",
   "execution_count": 80,
   "id": "22acb907",
   "metadata": {},
   "outputs": [],
   "source": [
    "X = dfGross_SQ_Ft4.GROSS_SQ_FT.values.reshape(-1, 1)"
   ]
  },
  {
   "cell_type": "code",
   "execution_count": 81,
   "id": "a7c081a1",
   "metadata": {},
   "outputs": [
    {
     "data": {
      "text/plain": [
       "array([[1224.],\n",
       "       [1476.],\n",
       "       [1350.],\n",
       "       [1332.],\n",
       "       [1224.]])"
      ]
     },
     "execution_count": 81,
     "metadata": {},
     "output_type": "execute_result"
    }
   ],
   "source": [
    "X[:5]"
   ]
  },
  {
   "cell_type": "code",
   "execution_count": 82,
   "id": "8a5aa063",
   "metadata": {},
   "outputs": [
    {
     "data": {
      "text/plain": [
       "(8282, 1)"
      ]
     },
     "execution_count": 82,
     "metadata": {},
     "output_type": "execute_result"
    }
   ],
   "source": [
    "X.shape"
   ]
  },
  {
   "cell_type": "code",
   "execution_count": 83,
   "id": "a6ba3ea8",
   "metadata": {},
   "outputs": [],
   "source": [
    "y = dfGross_SQ_Ft4.SALE_PRICE"
   ]
  },
  {
   "cell_type": "code",
   "execution_count": 84,
   "id": "ee290eca",
   "metadata": {},
   "outputs": [],
   "source": [
    "model = LinearRegression()"
   ]
  },
  {
   "cell_type": "code",
   "execution_count": 85,
   "id": "4c99bde9",
   "metadata": {},
   "outputs": [
    {
     "data": {
      "text/plain": [
       "LinearRegression()"
      ]
     },
     "execution_count": 85,
     "metadata": {},
     "output_type": "execute_result"
    }
   ],
   "source": [
    "model.fit(X, y)"
   ]
  },
  {
   "cell_type": "code",
   "execution_count": 86,
   "id": "8b07a238",
   "metadata": {},
   "outputs": [
    {
     "name": "stdout",
     "output_type": "stream",
     "text": [
      "(8282,)\n"
     ]
    }
   ],
   "source": [
    "y_pred = model.predict(X)\n",
    "print(y_pred.shape)"
   ]
  },
  {
   "cell_type": "code",
   "execution_count": 87,
   "id": "f62afd11",
   "metadata": {},
   "outputs": [
    {
     "data": {
      "image/png": "[encoded data removed]",
      "text/plain": [
       "<Figure size 432x288 with 1 Axes>"
      ]
     },
     "metadata": {
      "needs_background": "light"
     },
     "output_type": "display_data"
    }
   ],
   "source": [
    "plt.scatter(X, y)\n",
    "plt.plot(X, y_pred, color='red')\n",
    "plt.title('Queens Sale Price by SQ FT')\n",
    "plt.xlabel('square ft')\n",
    "plt.ylabel('Price')\n",
    "plt.show()"
   ]
  },
  {
   "cell_type": "markdown",
   "id": "0ae9742d",
   "metadata": {},
   "source": [
    "###### Remove Queens Outliers"
   ]
  },
  {
   "cell_type": "code",
   "execution_count": 88,
   "id": "6978cce7",
   "metadata": {},
   "outputs": [],
   "source": [
    "QueensClean4=dfGross_SQ_Ft4[(dfGross_SQ_Ft4['GROSS_SQ_FT'] <=100000)]"
   ]
  },
  {
   "cell_type": "code",
   "execution_count": 89,
   "id": "b4bb0bd3",
   "metadata": {},
   "outputs": [],
   "source": [
    "X = QueensClean4.GROSS_SQ_FT.values.reshape(-1, 1)"
   ]
  },
  {
   "cell_type": "code",
   "execution_count": 90,
   "id": "b49fe4bf",
   "metadata": {},
   "outputs": [],
   "source": [
    "y = QueensClean4.SALE_PRICE"
   ]
  },
  {
   "cell_type": "code",
   "execution_count": 91,
   "id": "6dbae5e6",
   "metadata": {},
   "outputs": [],
   "source": [
    "model = LinearRegression()"
   ]
  },
  {
   "cell_type": "code",
   "execution_count": 92,
   "id": "bedd84fc",
   "metadata": {},
   "outputs": [
    {
     "data": {
      "text/plain": [
       "LinearRegression()"
      ]
     },
     "execution_count": 92,
     "metadata": {},
     "output_type": "execute_result"
    }
   ],
   "source": [
    "model.fit(X, y)"
   ]
  },
  {
   "cell_type": "code",
   "execution_count": 93,
   "id": "fe0f01bf",
   "metadata": {},
   "outputs": [
    {
     "name": "stdout",
     "output_type": "stream",
     "text": [
      "(8271,)\n"
     ]
    }
   ],
   "source": [
    "y_pred = model.predict(X)\n",
    "print(y_pred.shape)"
   ]
  },
  {
   "cell_type": "code",
   "execution_count": 94,
   "id": "c86798a2",
   "metadata": {},
   "outputs": [
    {
     "data": {
      "image/png": "[encoded data removed]",
      "text/plain": [
       "<Figure size 432x288 with 1 Axes>"
      ]
     },
     "metadata": {
      "needs_background": "light"
     },
     "output_type": "display_data"
    }
   ],
   "source": [
    "plt.scatter(X, y)\n",
    "plt.plot(X, y_pred, color='red')\n",
    "plt.title('Queens Sale Price by SQ FT')\n",
    "plt.xlabel('square ft')\n",
    "plt.ylabel('Price')\n",
    "\n",
    "plt.ticklabel_format(style='plain') \n",
    "\n",
    "plt.show()"
   ]
  },
  {
   "cell_type": "markdown",
   "id": "32abbc7d",
   "metadata": {},
   "source": [
    "## Staten Island"
   ]
  },
  {
   "cell_type": "code",
   "execution_count": 95,
   "id": "624ad363",
   "metadata": {},
   "outputs": [
    {
     "data": {
      "text/html": [
       "<div>\n",
       "<style scoped>\n",
       "    .dataframe tbody tr th:only-of-type {\n",
       "        vertical-align: middle;\n",
       "    }\n",
       "\n",
       "    .dataframe tbody tr th {\n",
       "        vertical-align: top;\n",
       "    }\n",
       "\n",
       "    .dataframe thead th {\n",
       "        text-align: right;\n",
       "    }\n",
       "</style>\n",
       "<table border=\"1\" class=\"dataframe\">\n",
       "  <thead>\n",
       "    <tr style=\"text-align: right;\">\n",
       "      <th></th>\n",
       "      <th>YEAR</th>\n",
       "      <th>BOROUGH</th>\n",
       "      <th>NEIGHBORHOOD</th>\n",
       "      <th>BUILDING_CLASS_CATEGORY</th>\n",
       "      <th>BUILDING_CLASS_AT_PRESENT</th>\n",
       "      <th>ADDRESS</th>\n",
       "      <th>TOTAL_UNITS</th>\n",
       "      <th>GROSS_SQ_FT</th>\n",
       "      <th>SALE_PRICE</th>\n",
       "    </tr>\n",
       "  </thead>\n",
       "  <tbody>\n",
       "    <tr>\n",
       "      <th>0</th>\n",
       "      <td>2020</td>\n",
       "      <td>5</td>\n",
       "      <td>ANNADALE</td>\n",
       "      <td>01 ONE FAMILY DWELLINGS</td>\n",
       "      <td>A5</td>\n",
       "      <td>4726 AMBOY ROAD</td>\n",
       "      <td>1.0</td>\n",
       "      <td>910.0</td>\n",
       "      <td>0</td>\n",
       "    </tr>\n",
       "    <tr>\n",
       "      <th>1</th>\n",
       "      <td>2020</td>\n",
       "      <td>5</td>\n",
       "      <td>ANNADALE</td>\n",
       "      <td>01 ONE FAMILY DWELLINGS</td>\n",
       "      <td>A1</td>\n",
       "      <td>119 LENZIE STREET</td>\n",
       "      <td>1.0</td>\n",
       "      <td>3660.0</td>\n",
       "      <td>315000</td>\n",
       "    </tr>\n",
       "    <tr>\n",
       "      <th>2</th>\n",
       "      <td>2020</td>\n",
       "      <td>5</td>\n",
       "      <td>ANNADALE</td>\n",
       "      <td>01 ONE FAMILY DWELLINGS</td>\n",
       "      <td>A1</td>\n",
       "      <td>118 ELMBANK STREET</td>\n",
       "      <td>1.0</td>\n",
       "      <td>2580.0</td>\n",
       "      <td>450000</td>\n",
       "    </tr>\n",
       "    <tr>\n",
       "      <th>3</th>\n",
       "      <td>2020</td>\n",
       "      <td>5</td>\n",
       "      <td>ANNADALE</td>\n",
       "      <td>01 ONE FAMILY DWELLINGS</td>\n",
       "      <td>A1</td>\n",
       "      <td>7 SANDGAP STREET</td>\n",
       "      <td>1.0</td>\n",
       "      <td>1222.0</td>\n",
       "      <td>525000</td>\n",
       "    </tr>\n",
       "    <tr>\n",
       "      <th>4</th>\n",
       "      <td>2020</td>\n",
       "      <td>5</td>\n",
       "      <td>ANNADALE</td>\n",
       "      <td>01 ONE FAMILY DWELLINGS</td>\n",
       "      <td>A5</td>\n",
       "      <td>91 EAGAN AVENUE</td>\n",
       "      <td>1.0</td>\n",
       "      <td>1854.0</td>\n",
       "      <td>480000</td>\n",
       "    </tr>\n",
       "  </tbody>\n",
       "</table>\n",
       "</div>"
      ],
      "text/plain": [
       "   YEAR  BOROUGH NEIGHBORHOOD  BUILDING_CLASS_CATEGORY  \\\n",
       "0  2020        5     ANNADALE  01 ONE FAMILY DWELLINGS   \n",
       "1  2020        5     ANNADALE  01 ONE FAMILY DWELLINGS   \n",
       "2  2020        5     ANNADALE  01 ONE FAMILY DWELLINGS   \n",
       "3  2020        5     ANNADALE  01 ONE FAMILY DWELLINGS   \n",
       "4  2020        5     ANNADALE  01 ONE FAMILY DWELLINGS   \n",
       "\n",
       "  BUILDING_CLASS_AT_PRESENT             ADDRESS  TOTAL_UNITS  GROSS_SQ_FT  \\\n",
       "0                        A5     4726 AMBOY ROAD          1.0        910.0   \n",
       "1                        A1   119 LENZIE STREET          1.0       3660.0   \n",
       "2                        A1  118 ELMBANK STREET          1.0       2580.0   \n",
       "3                        A1    7 SANDGAP STREET          1.0       1222.0   \n",
       "4                        A5     91 EAGAN AVENUE          1.0       1854.0   \n",
       "\n",
       "   SALE_PRICE  \n",
       "0           0  \n",
       "1      315000  \n",
       "2      450000  \n",
       "3      525000  \n",
       "4      480000  "
      ]
     },
     "execution_count": 95,
     "metadata": {},
     "output_type": "execute_result"
    }
   ],
   "source": [
    "df5 = pd.read_csv(Path('Resources/staten_island_annual_sales20.csv'))\n",
    "df5.head()"
   ]
  },
  {
   "cell_type": "code",
   "execution_count": 96,
   "id": "6b7a9a17",
   "metadata": {},
   "outputs": [],
   "source": [
    "dfGross_SQ_Ft5= df5[[\"GROSS_SQ_FT\", \"SALE_PRICE\"]].copy()"
   ]
  },
  {
   "cell_type": "code",
   "execution_count": 97,
   "id": "920cbff6",
   "metadata": {},
   "outputs": [],
   "source": [
    "dfGross_SQ_Ft5.replace(0, np.nan, inplace=True)"
   ]
  },
  {
   "cell_type": "code",
   "execution_count": 98,
   "id": "497b6a3a",
   "metadata": {},
   "outputs": [],
   "source": [
    "dfGross_SQ_Ft5.dropna(inplace=True)"
   ]
  },
  {
   "cell_type": "code",
   "execution_count": 99,
   "id": "d53bd3d0",
   "metadata": {},
   "outputs": [
    {
     "data": {
      "text/html": [
       "<div>\n",
       "<style scoped>\n",
       "    .dataframe tbody tr th:only-of-type {\n",
       "        vertical-align: middle;\n",
       "    }\n",
       "\n",
       "    .dataframe tbody tr th {\n",
       "        vertical-align: top;\n",
       "    }\n",
       "\n",
       "    .dataframe thead th {\n",
       "        text-align: right;\n",
       "    }\n",
       "</style>\n",
       "<table border=\"1\" class=\"dataframe\">\n",
       "  <thead>\n",
       "    <tr style=\"text-align: right;\">\n",
       "      <th></th>\n",
       "      <th>GROSS_SQ_FT</th>\n",
       "      <th>SALE_PRICE</th>\n",
       "    </tr>\n",
       "  </thead>\n",
       "  <tbody>\n",
       "    <tr>\n",
       "      <th>1</th>\n",
       "      <td>3660.0</td>\n",
       "      <td>315000.0</td>\n",
       "    </tr>\n",
       "    <tr>\n",
       "      <th>2</th>\n",
       "      <td>2580.0</td>\n",
       "      <td>450000.0</td>\n",
       "    </tr>\n",
       "    <tr>\n",
       "      <th>3</th>\n",
       "      <td>1222.0</td>\n",
       "      <td>525000.0</td>\n",
       "    </tr>\n",
       "    <tr>\n",
       "      <th>4</th>\n",
       "      <td>1854.0</td>\n",
       "      <td>480000.0</td>\n",
       "    </tr>\n",
       "    <tr>\n",
       "      <th>5</th>\n",
       "      <td>2300.0</td>\n",
       "      <td>720000.0</td>\n",
       "    </tr>\n",
       "    <tr>\n",
       "      <th>...</th>\n",
       "      <td>...</td>\n",
       "      <td>...</td>\n",
       "    </tr>\n",
       "    <tr>\n",
       "      <th>7550</th>\n",
       "      <td>1850.0</td>\n",
       "      <td>665000.0</td>\n",
       "    </tr>\n",
       "    <tr>\n",
       "      <th>7552</th>\n",
       "      <td>2400.0</td>\n",
       "      <td>775000.0</td>\n",
       "    </tr>\n",
       "    <tr>\n",
       "      <th>7553</th>\n",
       "      <td>2250.0</td>\n",
       "      <td>500000.0</td>\n",
       "    </tr>\n",
       "    <tr>\n",
       "      <th>7554</th>\n",
       "      <td>1980.0</td>\n",
       "      <td>537000.0</td>\n",
       "    </tr>\n",
       "    <tr>\n",
       "      <th>7555</th>\n",
       "      <td>1980.0</td>\n",
       "      <td>525000.0</td>\n",
       "    </tr>\n",
       "  </tbody>\n",
       "</table>\n",
       "<p>4366 rows × 2 columns</p>\n",
       "</div>"
      ],
      "text/plain": [
       "      GROSS_SQ_FT  SALE_PRICE\n",
       "1          3660.0    315000.0\n",
       "2          2580.0    450000.0\n",
       "3          1222.0    525000.0\n",
       "4          1854.0    480000.0\n",
       "5          2300.0    720000.0\n",
       "...           ...         ...\n",
       "7550       1850.0    665000.0\n",
       "7552       2400.0    775000.0\n",
       "7553       2250.0    500000.0\n",
       "7554       1980.0    537000.0\n",
       "7555       1980.0    525000.0\n",
       "\n",
       "[4366 rows x 2 columns]"
      ]
     },
     "execution_count": 99,
     "metadata": {},
     "output_type": "execute_result"
    }
   ],
   "source": [
    "dfGross_SQ_Ft5"
   ]
  },
  {
   "cell_type": "code",
   "execution_count": 100,
   "id": "4b28d148",
   "metadata": {},
   "outputs": [
    {
     "data": {
      "image/png": "[encoded data removed]",
      "text/plain": [
       "<Figure size 432x288 with 1 Axes>"
      ]
     },
     "metadata": {
      "needs_background": "light"
     },
     "output_type": "display_data"
    }
   ],
   "source": [
    "plt.scatter(df5.GROSS_SQ_FT, df5.SALE_PRICE)\n",
    "plt.xlabel('Square ft')\n",
    "plt.ylabel('Sale Price')\n",
    "plt.show()"
   ]
  },
  {
   "cell_type": "code",
   "execution_count": 101,
   "id": "85cc7bc3",
   "metadata": {},
   "outputs": [],
   "source": [
    "X = dfGross_SQ_Ft5.GROSS_SQ_FT.values.reshape(-1, 1)"
   ]
  },
  {
   "cell_type": "code",
   "execution_count": 102,
   "id": "6ca1bd5f",
   "metadata": {},
   "outputs": [
    {
     "data": {
      "text/plain": [
       "array([[3660.],\n",
       "       [2580.],\n",
       "       [1222.],\n",
       "       [1854.],\n",
       "       [2300.]])"
      ]
     },
     "execution_count": 102,
     "metadata": {},
     "output_type": "execute_result"
    }
   ],
   "source": [
    "X[:5]"
   ]
  },
  {
   "cell_type": "code",
   "execution_count": 103,
   "id": "4822c964",
   "metadata": {},
   "outputs": [
    {
     "data": {
      "text/plain": [
       "(4366, 1)"
      ]
     },
     "execution_count": 103,
     "metadata": {},
     "output_type": "execute_result"
    }
   ],
   "source": [
    "X.shape"
   ]
  },
  {
   "cell_type": "code",
   "execution_count": 104,
   "id": "0299e54e",
   "metadata": {},
   "outputs": [],
   "source": [
    "y = dfGross_SQ_Ft5.SALE_PRICE"
   ]
  },
  {
   "cell_type": "code",
   "execution_count": 105,
   "id": "17357d7b",
   "metadata": {},
   "outputs": [],
   "source": [
    "model = LinearRegression()"
   ]
  },
  {
   "cell_type": "code",
   "execution_count": 106,
   "id": "0894513b",
   "metadata": {},
   "outputs": [
    {
     "data": {
      "text/plain": [
       "LinearRegression()"
      ]
     },
     "execution_count": 106,
     "metadata": {},
     "output_type": "execute_result"
    }
   ],
   "source": [
    "model.fit(X, y)"
   ]
  },
  {
   "cell_type": "code",
   "execution_count": 107,
   "id": "d7c6f895",
   "metadata": {},
   "outputs": [
    {
     "name": "stdout",
     "output_type": "stream",
     "text": [
      "(4366,)\n"
     ]
    }
   ],
   "source": [
    "y_pred = model.predict(X)\n",
    "print(y_pred.shape)"
   ]
  },
  {
   "cell_type": "code",
   "execution_count": 108,
   "id": "1436b18b",
   "metadata": {},
   "outputs": [
    {
     "data": {
      "image/png": "[encoded data removed]",
      "text/plain": [
       "<Figure size 432x288 with 1 Axes>"
      ]
     },
     "metadata": {
      "needs_background": "light"
     },
     "output_type": "display_data"
    }
   ],
   "source": [
    "plt.scatter(X, y)\n",
    "plt.plot(X, y_pred, color='red')\n",
    "plt.title('Staten Island Price by SQ FT')\n",
    "plt.xlabel('square ft')\n",
    "plt.ylabel('Price')\n",
    "plt.show()"
   ]
  },
  {
   "cell_type": "code",
   "execution_count": 109,
   "id": "7e632413",
   "metadata": {},
   "outputs": [],
   "source": [
    "StatenIslandClean5=dfGross_SQ_Ft5[(dfGross_SQ_Ft5['GROSS_SQ_FT'] <=30000)]"
   ]
  },
  {
   "cell_type": "code",
   "execution_count": 110,
   "id": "372e55bf",
   "metadata": {},
   "outputs": [],
   "source": [
    "X = StatenIslandClean5.GROSS_SQ_FT.values.reshape(-1, 1)"
   ]
  },
  {
   "cell_type": "code",
   "execution_count": 111,
   "id": "00668b98",
   "metadata": {},
   "outputs": [],
   "source": [
    "y = StatenIslandClean5.SALE_PRICE"
   ]
  },
  {
   "cell_type": "code",
   "execution_count": 112,
   "id": "af718e00",
   "metadata": {},
   "outputs": [],
   "source": [
    "model = LinearRegression()"
   ]
  },
  {
   "cell_type": "code",
   "execution_count": 113,
   "id": "1b1ef749",
   "metadata": {},
   "outputs": [
    {
     "data": {
      "text/plain": [
       "LinearRegression()"
      ]
     },
     "execution_count": 113,
     "metadata": {},
     "output_type": "execute_result"
    }
   ],
   "source": [
    "model.fit(X, y)"
   ]
  },
  {
   "cell_type": "code",
   "execution_count": 114,
   "id": "952b29e0",
   "metadata": {},
   "outputs": [
    {
     "name": "stdout",
     "output_type": "stream",
     "text": [
      "(4361,)\n"
     ]
    }
   ],
   "source": [
    "y_pred = model.predict(X)\n",
    "print(y_pred.shape)"
   ]
  },
  {
   "cell_type": "code",
   "execution_count": 115,
   "id": "51e86308",
   "metadata": {},
   "outputs": [
    {
     "data": {
      "image/png": "[encoded data removed]",
      "text/plain": [
       "<Figure size 432x288 with 1 Axes>"
      ]
     },
     "metadata": {
      "needs_background": "light"
     },
     "output_type": "display_data"
    }
   ],
   "source": [
    "plt.scatter(X, y)\n",
    "plt.plot(X, y_pred, color='red')\n",
    "plt.title('Staten Island Sale Price by SQ FT')\n",
    "plt.xlabel('square ft')\n",
    "plt.ylabel('Price')\n",
    "\n",
    "plt.ticklabel_format(style='plain') \n",
    "\n",
    "plt.show()"
   ]
  },
  {
   "cell_type": "markdown",
   "id": "4fd69728",
   "metadata": {},
   "source": [
    "## Inflation amount"
   ]
  },
  {
   "cell_type": "code",
   "execution_count": 116,
   "id": "604c1179",
   "metadata": {},
   "outputs": [
    {
     "data": {
      "text/html": [
       "<div>\n",
       "<style scoped>\n",
       "    .dataframe tbody tr th:only-of-type {\n",
       "        vertical-align: middle;\n",
       "    }\n",
       "\n",
       "    .dataframe tbody tr th {\n",
       "        vertical-align: top;\n",
       "    }\n",
       "\n",
       "    .dataframe thead th {\n",
       "        text-align: right;\n",
       "    }\n",
       "</style>\n",
       "<table border=\"1\" class=\"dataframe\">\n",
       "  <thead>\n",
       "    <tr style=\"text-align: right;\">\n",
       "      <th></th>\n",
       "      <th>year</th>\n",
       "      <th>amount</th>\n",
       "      <th>inflation_rate</th>\n",
       "    </tr>\n",
       "  </thead>\n",
       "  <tbody>\n",
       "    <tr>\n",
       "      <th>0</th>\n",
       "      <td>1701</td>\n",
       "      <td>1.00</td>\n",
       "      <td>0.05</td>\n",
       "    </tr>\n",
       "    <tr>\n",
       "      <th>1</th>\n",
       "      <td>1702</td>\n",
       "      <td>0.91</td>\n",
       "      <td>-0.09</td>\n",
       "    </tr>\n",
       "    <tr>\n",
       "      <th>2</th>\n",
       "      <td>1703</td>\n",
       "      <td>0.91</td>\n",
       "      <td>0.00</td>\n",
       "    </tr>\n",
       "    <tr>\n",
       "      <th>3</th>\n",
       "      <td>1704</td>\n",
       "      <td>1.07</td>\n",
       "      <td>0.18</td>\n",
       "    </tr>\n",
       "    <tr>\n",
       "      <th>4</th>\n",
       "      <td>1705</td>\n",
       "      <td>0.98</td>\n",
       "      <td>-0.09</td>\n",
       "    </tr>\n",
       "  </tbody>\n",
       "</table>\n",
       "</div>"
      ],
      "text/plain": [
       "   year  amount  inflation_rate\n",
       "0  1701    1.00            0.05\n",
       "1  1702    0.91           -0.09\n",
       "2  1703    0.91            0.00\n",
       "3  1704    1.07            0.18\n",
       "4  1705    0.98           -0.09"
      ]
     },
     "execution_count": 116,
     "metadata": {},
     "output_type": "execute_result"
    }
   ],
   "source": [
    "df6 = pd.read_csv(Path(\"Resources/inflation_data_1701to2022.csv\"))\n",
    "df6.head()"
   ]
  },
  {
   "cell_type": "code",
   "execution_count": 117,
   "id": "9349827d",
   "metadata": {},
   "outputs": [],
   "source": [
    "dfInflation_amount6= df6[[\"year\", \"amount\",]].copy()"
   ]
  },
  {
   "cell_type": "code",
   "execution_count": 118,
   "id": "c60f6e75",
   "metadata": {},
   "outputs": [],
   "source": [
    "dfInflation_amount6.replace(0, np.nan, inplace=True)"
   ]
  },
  {
   "cell_type": "code",
   "execution_count": 119,
   "id": "9d26f747",
   "metadata": {},
   "outputs": [],
   "source": [
    "dfInflation_amount6.dropna(inplace=True)"
   ]
  },
  {
   "cell_type": "code",
   "execution_count": 120,
   "id": "57116671",
   "metadata": {},
   "outputs": [
    {
     "data": {
      "text/html": [
       "<div>\n",
       "<style scoped>\n",
       "    .dataframe tbody tr th:only-of-type {\n",
       "        vertical-align: middle;\n",
       "    }\n",
       "\n",
       "    .dataframe tbody tr th {\n",
       "        vertical-align: top;\n",
       "    }\n",
       "\n",
       "    .dataframe thead th {\n",
       "        text-align: right;\n",
       "    }\n",
       "</style>\n",
       "<table border=\"1\" class=\"dataframe\">\n",
       "  <thead>\n",
       "    <tr style=\"text-align: right;\">\n",
       "      <th></th>\n",
       "      <th>year</th>\n",
       "      <th>amount</th>\n",
       "    </tr>\n",
       "  </thead>\n",
       "  <tbody>\n",
       "    <tr>\n",
       "      <th>0</th>\n",
       "      <td>1701</td>\n",
       "      <td>1.00</td>\n",
       "    </tr>\n",
       "    <tr>\n",
       "      <th>1</th>\n",
       "      <td>1702</td>\n",
       "      <td>0.91</td>\n",
       "    </tr>\n",
       "    <tr>\n",
       "      <th>2</th>\n",
       "      <td>1703</td>\n",
       "      <td>0.91</td>\n",
       "    </tr>\n",
       "    <tr>\n",
       "      <th>3</th>\n",
       "      <td>1704</td>\n",
       "      <td>1.07</td>\n",
       "    </tr>\n",
       "    <tr>\n",
       "      <th>4</th>\n",
       "      <td>1705</td>\n",
       "      <td>0.98</td>\n",
       "    </tr>\n",
       "    <tr>\n",
       "      <th>...</th>\n",
       "      <td>...</td>\n",
       "      <td>...</td>\n",
       "    </tr>\n",
       "    <tr>\n",
       "      <th>317</th>\n",
       "      <td>2018</td>\n",
       "      <td>58.43</td>\n",
       "    </tr>\n",
       "    <tr>\n",
       "      <th>318</th>\n",
       "      <td>2019</td>\n",
       "      <td>59.46</td>\n",
       "    </tr>\n",
       "    <tr>\n",
       "      <th>319</th>\n",
       "      <td>2020</td>\n",
       "      <td>60.19</td>\n",
       "    </tr>\n",
       "    <tr>\n",
       "      <th>320</th>\n",
       "      <td>2021</td>\n",
       "      <td>63.02</td>\n",
       "    </tr>\n",
       "    <tr>\n",
       "      <th>321</th>\n",
       "      <td>2022</td>\n",
       "      <td>64.84</td>\n",
       "    </tr>\n",
       "  </tbody>\n",
       "</table>\n",
       "<p>322 rows × 2 columns</p>\n",
       "</div>"
      ],
      "text/plain": [
       "     year  amount\n",
       "0    1701    1.00\n",
       "1    1702    0.91\n",
       "2    1703    0.91\n",
       "3    1704    1.07\n",
       "4    1705    0.98\n",
       "..    ...     ...\n",
       "317  2018   58.43\n",
       "318  2019   59.46\n",
       "319  2020   60.19\n",
       "320  2021   63.02\n",
       "321  2022   64.84\n",
       "\n",
       "[322 rows x 2 columns]"
      ]
     },
     "execution_count": 120,
     "metadata": {},
     "output_type": "execute_result"
    }
   ],
   "source": [
    "dfInflation_amount6"
   ]
  },
  {
   "cell_type": "code",
   "execution_count": 121,
   "id": "aff65772",
   "metadata": {},
   "outputs": [
    {
     "data": {
      "image/png": "[encoded data removed]",
      "text/plain": [
       "<Figure size 432x288 with 1 Axes>"
      ]
     },
     "metadata": {
      "needs_background": "light"
     },
     "output_type": "display_data"
    }
   ],
   "source": [
    "plt.scatter(df6.year, df6.amount)\n",
    "plt.xlabel('year')\n",
    "plt.ylabel('Inflation amount')\n",
    "plt.show()\n"
   ]
  },
  {
   "cell_type": "code",
   "execution_count": 122,
   "id": "3e3aa11f",
   "metadata": {},
   "outputs": [],
   "source": [
    "X = dfInflation_amount6.year.values.reshape(-1, 1)"
   ]
  },
  {
   "cell_type": "code",
   "execution_count": 123,
   "id": "a98e5bcc",
   "metadata": {},
   "outputs": [
    {
     "data": {
      "text/plain": [
       "array([[1701],\n",
       "       [1702],\n",
       "       [1703],\n",
       "       [1704],\n",
       "       [1705]], dtype=int64)"
      ]
     },
     "execution_count": 123,
     "metadata": {},
     "output_type": "execute_result"
    }
   ],
   "source": [
    "X[:5]"
   ]
  },
  {
   "cell_type": "code",
   "execution_count": 124,
   "id": "da3d14bb",
   "metadata": {},
   "outputs": [],
   "source": [
    "y = dfInflation_amount6.amount"
   ]
  },
  {
   "cell_type": "code",
   "execution_count": 125,
   "id": "fdd3b2a0",
   "metadata": {},
   "outputs": [],
   "source": [
    "model = LinearRegression()"
   ]
  },
  {
   "cell_type": "code",
   "execution_count": 126,
   "id": "735c35c1",
   "metadata": {},
   "outputs": [
    {
     "data": {
      "text/plain": [
       "LinearRegression()"
      ]
     },
     "execution_count": 126,
     "metadata": {},
     "output_type": "execute_result"
    }
   ],
   "source": [
    "model.fit(X, y)"
   ]
  },
  {
   "cell_type": "code",
   "execution_count": 127,
   "id": "f2b08a9a",
   "metadata": {},
   "outputs": [
    {
     "name": "stdout",
     "output_type": "stream",
     "text": [
      "(322,)\n"
     ]
    }
   ],
   "source": [
    "y_pred = model.predict(X)\n",
    "print(y_pred.shape)"
   ]
  },
  {
   "cell_type": "code",
   "execution_count": 128,
   "id": "bafef37a",
   "metadata": {},
   "outputs": [
    {
     "data": {
      "image/png": "[encoded data removed]",
      "text/plain": [
       "<Figure size 432x288 with 1 Axes>"
      ]
     },
     "metadata": {
      "needs_background": "light"
     },
     "output_type": "display_data"
    }
   ],
   "source": [
    "plt.scatter(X, y)\n",
    "plt.plot(X, y_pred, color='red')\n",
    "plt.show()"
   ]
  },
  {
   "cell_type": "code",
   "execution_count": 129,
   "id": "eb76c938",
   "metadata": {},
   "outputs": [
    {
     "data": {
      "text/html": [
       "<div>\n",
       "<style scoped>\n",
       "    .dataframe tbody tr th:only-of-type {\n",
       "        vertical-align: middle;\n",
       "    }\n",
       "\n",
       "    .dataframe tbody tr th {\n",
       "        vertical-align: top;\n",
       "    }\n",
       "\n",
       "    .dataframe thead th {\n",
       "        text-align: right;\n",
       "    }\n",
       "</style>\n",
       "<table border=\"1\" class=\"dataframe\">\n",
       "  <thead>\n",
       "    <tr style=\"text-align: right;\">\n",
       "      <th></th>\n",
       "      <th>year</th>\n",
       "      <th>amount</th>\n",
       "      <th>inflation_rate</th>\n",
       "    </tr>\n",
       "  </thead>\n",
       "  <tbody>\n",
       "    <tr>\n",
       "      <th>0</th>\n",
       "      <td>1701</td>\n",
       "      <td>1.00</td>\n",
       "      <td>0.05</td>\n",
       "    </tr>\n",
       "    <tr>\n",
       "      <th>1</th>\n",
       "      <td>1702</td>\n",
       "      <td>0.91</td>\n",
       "      <td>-0.09</td>\n",
       "    </tr>\n",
       "    <tr>\n",
       "      <th>2</th>\n",
       "      <td>1703</td>\n",
       "      <td>0.91</td>\n",
       "      <td>0.00</td>\n",
       "    </tr>\n",
       "    <tr>\n",
       "      <th>3</th>\n",
       "      <td>1704</td>\n",
       "      <td>1.07</td>\n",
       "      <td>0.18</td>\n",
       "    </tr>\n",
       "    <tr>\n",
       "      <th>4</th>\n",
       "      <td>1705</td>\n",
       "      <td>0.98</td>\n",
       "      <td>-0.09</td>\n",
       "    </tr>\n",
       "  </tbody>\n",
       "</table>\n",
       "</div>"
      ],
      "text/plain": [
       "   year  amount  inflation_rate\n",
       "0  1701    1.00            0.05\n",
       "1  1702    0.91           -0.09\n",
       "2  1703    0.91            0.00\n",
       "3  1704    1.07            0.18\n",
       "4  1705    0.98           -0.09"
      ]
     },
     "execution_count": 129,
     "metadata": {},
     "output_type": "execute_result"
    }
   ],
   "source": [
    "df7 = pd.read_csv(Path(\"Resources/inflation_data_1701to2022.csv\"))\n",
    "df7.head()"
   ]
  },
  {
   "cell_type": "code",
   "execution_count": 130,
   "id": "24198fba",
   "metadata": {},
   "outputs": [],
   "source": [
    "dfInflation_rate7= df7[[\"year\", \"inflation_rate\",]].copy()"
   ]
  },
  {
   "cell_type": "code",
   "execution_count": 131,
   "id": "322fae2b",
   "metadata": {},
   "outputs": [],
   "source": [
    "dfInflation_rate7.replace(0, np.nan, inplace=True)"
   ]
  },
  {
   "cell_type": "code",
   "execution_count": 132,
   "id": "45ebb66c",
   "metadata": {},
   "outputs": [],
   "source": [
    "dfInflation_rate7.dropna(inplace=True)"
   ]
  },
  {
   "cell_type": "code",
   "execution_count": 133,
   "id": "ba8d574a",
   "metadata": {},
   "outputs": [
    {
     "data": {
      "text/html": [
       "<div>\n",
       "<style scoped>\n",
       "    .dataframe tbody tr th:only-of-type {\n",
       "        vertical-align: middle;\n",
       "    }\n",
       "\n",
       "    .dataframe tbody tr th {\n",
       "        vertical-align: top;\n",
       "    }\n",
       "\n",
       "    .dataframe thead th {\n",
       "        text-align: right;\n",
       "    }\n",
       "</style>\n",
       "<table border=\"1\" class=\"dataframe\">\n",
       "  <thead>\n",
       "    <tr style=\"text-align: right;\">\n",
       "      <th></th>\n",
       "      <th>year</th>\n",
       "      <th>inflation_rate</th>\n",
       "    </tr>\n",
       "  </thead>\n",
       "  <tbody>\n",
       "    <tr>\n",
       "      <th>0</th>\n",
       "      <td>1701</td>\n",
       "      <td>0.05</td>\n",
       "    </tr>\n",
       "    <tr>\n",
       "      <th>1</th>\n",
       "      <td>1702</td>\n",
       "      <td>-0.09</td>\n",
       "    </tr>\n",
       "    <tr>\n",
       "      <th>3</th>\n",
       "      <td>1704</td>\n",
       "      <td>0.18</td>\n",
       "    </tr>\n",
       "    <tr>\n",
       "      <th>4</th>\n",
       "      <td>1705</td>\n",
       "      <td>-0.09</td>\n",
       "    </tr>\n",
       "    <tr>\n",
       "      <th>5</th>\n",
       "      <td>1706</td>\n",
       "      <td>0.07</td>\n",
       "    </tr>\n",
       "    <tr>\n",
       "      <th>...</th>\n",
       "      <td>...</td>\n",
       "      <td>...</td>\n",
       "    </tr>\n",
       "    <tr>\n",
       "      <th>317</th>\n",
       "      <td>2018</td>\n",
       "      <td>0.02</td>\n",
       "    </tr>\n",
       "    <tr>\n",
       "      <th>318</th>\n",
       "      <td>2019</td>\n",
       "      <td>0.02</td>\n",
       "    </tr>\n",
       "    <tr>\n",
       "      <th>319</th>\n",
       "      <td>2020</td>\n",
       "      <td>0.01</td>\n",
       "    </tr>\n",
       "    <tr>\n",
       "      <th>320</th>\n",
       "      <td>2021</td>\n",
       "      <td>0.05</td>\n",
       "    </tr>\n",
       "    <tr>\n",
       "      <th>321</th>\n",
       "      <td>2022</td>\n",
       "      <td>0.03</td>\n",
       "    </tr>\n",
       "  </tbody>\n",
       "</table>\n",
       "<p>291 rows × 2 columns</p>\n",
       "</div>"
      ],
      "text/plain": [
       "     year  inflation_rate\n",
       "0    1701            0.05\n",
       "1    1702           -0.09\n",
       "3    1704            0.18\n",
       "4    1705           -0.09\n",
       "5    1706            0.07\n",
       "..    ...             ...\n",
       "317  2018            0.02\n",
       "318  2019            0.02\n",
       "319  2020            0.01\n",
       "320  2021            0.05\n",
       "321  2022            0.03\n",
       "\n",
       "[291 rows x 2 columns]"
      ]
     },
     "execution_count": 133,
     "metadata": {},
     "output_type": "execute_result"
    }
   ],
   "source": [
    "dfInflation_rate7"
   ]
  },
  {
   "cell_type": "code",
   "execution_count": 134,
   "id": "5d9fd0d0",
   "metadata": {},
   "outputs": [
    {
     "data": {
      "image/png": "[encoded data removed]",
      "text/plain": [
       "<Figure size 432x288 with 1 Axes>"
      ]
     },
     "metadata": {
      "needs_background": "light"
     },
     "output_type": "display_data"
    }
   ],
   "source": [
    "plt.scatter(df7.year, df7.inflation_rate)\n",
    "plt.xlabel('year')\n",
    "plt.ylabel('Inflation rate')\n",
    "plt.show()"
   ]
  },
  {
   "cell_type": "code",
   "execution_count": 135,
   "id": "2bbe4ecd",
   "metadata": {},
   "outputs": [],
   "source": [
    "X = dfInflation_rate7.year.values.reshape(-1, 1)"
   ]
  },
  {
   "cell_type": "code",
   "execution_count": 136,
   "id": "9ce76df3",
   "metadata": {},
   "outputs": [
    {
     "data": {
      "text/plain": [
       "array([[1701],\n",
       "       [1702],\n",
       "       [1704],\n",
       "       [1705],\n",
       "       [1706]], dtype=int64)"
      ]
     },
     "execution_count": 136,
     "metadata": {},
     "output_type": "execute_result"
    }
   ],
   "source": [
    "X[:5]"
   ]
  },
  {
   "cell_type": "code",
   "execution_count": 137,
   "id": "5e25ea04",
   "metadata": {},
   "outputs": [],
   "source": [
    "y = dfInflation_rate7.inflation_rate"
   ]
  },
  {
   "cell_type": "code",
   "execution_count": 138,
   "id": "06ceba05",
   "metadata": {},
   "outputs": [],
   "source": [
    "model = LinearRegression()"
   ]
  },
  {
   "cell_type": "code",
   "execution_count": 139,
   "id": "956c8bd6",
   "metadata": {},
   "outputs": [
    {
     "data": {
      "text/plain": [
       "LinearRegression()"
      ]
     },
     "execution_count": 139,
     "metadata": {},
     "output_type": "execute_result"
    }
   ],
   "source": [
    "model.fit(X, y)"
   ]
  },
  {
   "cell_type": "code",
   "execution_count": 140,
   "id": "16f9cc86",
   "metadata": {},
   "outputs": [
    {
     "name": "stdout",
     "output_type": "stream",
     "text": [
      "(291,)\n"
     ]
    }
   ],
   "source": [
    "y_pred = model.predict(X)\n",
    "print(y_pred.shape)"
   ]
  },
  {
   "cell_type": "code",
   "execution_count": 141,
   "id": "697f69ef",
   "metadata": {},
   "outputs": [
    {
     "data": {
      "image/png": "[encoded data removed]",
      "text/plain": [
       "<Figure size 432x288 with 1 Axes>"
      ]
     },
     "metadata": {
      "needs_background": "light"
     },
     "output_type": "display_data"
    }
   ],
   "source": [
    "plt.scatter(X, y)\n",
    "plt.plot(X, y_pred, color='red')\n",
    "plt.show()"
   ]
  },
  {
   "cell_type": "code",
   "execution_count": null,
   "id": "5df7a501",
   "metadata": {},
   "outputs": [],
   "source": []
  }
 ],
 "metadata": {
  "kernelspec": {
   "display_name": "mlenv",
   "language": "python",
   "name": "mlenv"
  },
  "language_info": {
   "codemirror_mode": {
    "name": "ipython",
    "version": 3
   },
   "file_extension": ".py",
   "mimetype": "text/x-python",
   "name": "python",
   "nbconvert_exporter": "python",
   "pygments_lexer": "ipython3",
   "version": "3.10.2"
  }
 },
 "nbformat": 4,
 "nbformat_minor": 5
}
